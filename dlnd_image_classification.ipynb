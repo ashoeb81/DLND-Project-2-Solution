{
 "cells": [
  {
   "cell_type": "markdown",
   "metadata": {
    "collapsed": true,
    "deletable": true,
    "editable": true
   },
   "source": [
    "# Image Classification\n",
    "In this project, you'll classify images from the [CIFAR-10 dataset](https://www.cs.toronto.edu/~kriz/cifar.html).  The dataset consists of airplanes, dogs, cats, and other objects. You'll preprocess the images, then train a convolutional neural network on all the samples. The images need to be normalized and the labels need to be one-hot encoded.  You'll get to apply what you learned and build a convolutional, max pooling, dropout, and fully connected layers.  At the end, you'll get to see your neural network's predictions on the sample images.\n",
    "## Get the Data\n",
    "Run the following cell to download the [CIFAR-10 dataset for python](https://www.cs.toronto.edu/~kriz/cifar-10-python.tar.gz)."
   ]
  },
  {
   "cell_type": "code",
   "execution_count": 1,
   "metadata": {
    "collapsed": false,
    "deletable": true,
    "editable": true
   },
   "outputs": [
    {
     "name": "stderr",
     "output_type": "stream",
     "text": [
      "CIFAR-10 Dataset: 171MB [00:22, 7.45MB/s]                              \n"
     ]
    },
    {
     "name": "stdout",
     "output_type": "stream",
     "text": [
      "All files found!\n"
     ]
    }
   ],
   "source": [
    "\"\"\"\n",
    "DON'T MODIFY ANYTHING IN THIS CELL THAT IS BELOW THIS LINE\n",
    "\"\"\"\n",
    "from urllib.request import urlretrieve\n",
    "from os.path import isfile, isdir\n",
    "from tqdm import tqdm\n",
    "import problem_unittests as tests\n",
    "import tarfile\n",
    "\n",
    "cifar10_dataset_folder_path = 'cifar-10-batches-py'\n",
    "\n",
    "class DLProgress(tqdm):\n",
    "    last_block = 0\n",
    "\n",
    "    def hook(self, block_num=1, block_size=1, total_size=None):\n",
    "        self.total = total_size\n",
    "        self.update((block_num - self.last_block) * block_size)\n",
    "        self.last_block = block_num\n",
    "\n",
    "if not isfile('cifar-10-python.tar.gz'):\n",
    "    with DLProgress(unit='B', unit_scale=True, miniters=1, desc='CIFAR-10 Dataset') as pbar:\n",
    "        urlretrieve(\n",
    "            'https://www.cs.toronto.edu/~kriz/cifar-10-python.tar.gz',\n",
    "            'cifar-10-python.tar.gz',\n",
    "            pbar.hook)\n",
    "\n",
    "if not isdir(cifar10_dataset_folder_path):\n",
    "    with tarfile.open('cifar-10-python.tar.gz') as tar:\n",
    "        tar.extractall()\n",
    "        tar.close()\n",
    "\n",
    "\n",
    "tests.test_folder_path(cifar10_dataset_folder_path)"
   ]
  },
  {
   "cell_type": "markdown",
   "metadata": {
    "deletable": true,
    "editable": true
   },
   "source": [
    "## Explore the Data\n",
    "The dataset is broken into batches to prevent your machine from running out of memory.  The CIFAR-10 dataset consists of 5 batches, named `data_batch_1`, `data_batch_2`, etc.. Each batch contains the labels and images that are one of the following:\n",
    "* airplane\n",
    "* automobile\n",
    "* bird\n",
    "* cat\n",
    "* deer\n",
    "* dog\n",
    "* frog\n",
    "* horse\n",
    "* ship\n",
    "* truck\n",
    "\n",
    "Understanding a dataset is part of making predictions on the data.  Play around with the code cell below by changing the `batch_id` and `sample_id`. The `batch_id` is the id for a batch (1-5). The `sample_id` is the id for a image and label pair in the batch.\n",
    "\n",
    "Ask yourself \"What are all possible labels?\", \"What is the range of values for the image data?\", \"Are the labels in order or random?\".  Answers to questions like these will help you preprocess the data and end up with better predictions."
   ]
  },
  {
   "cell_type": "code",
   "execution_count": 2,
   "metadata": {
    "collapsed": false,
    "deletable": true,
    "editable": true
   },
   "outputs": [
    {
     "name": "stdout",
     "output_type": "stream",
     "text": [
      "\n",
      "Stats of batch 2:\n",
      "Samples: 10000\n",
      "Label Counts: {0: 984, 1: 1007, 2: 1010, 3: 995, 4: 1010, 5: 988, 6: 1008, 7: 1026, 8: 987, 9: 985}\n",
      "First 20 Labels: [1, 6, 6, 8, 8, 3, 4, 6, 0, 6, 0, 3, 6, 6, 5, 4, 8, 3, 2, 6]\n",
      "\n",
      "Example of Image 10:\n",
      "Image - Min Value: 4 Max Value: 231\n",
      "Image - Shape: (32, 32, 3)\n",
      "Label - Label Id: 0 Name: airplane\n"
     ]
    },
    {
     "data": {
      "image/png": "[encoded data removed]",
      "text/plain": [
       "<matplotlib.figure.Figure at 0x7f55e51d9be0>"
      ]
     },
     "metadata": {
      "image/png": {
       "height": 250,
       "width": 253
      }
     },
     "output_type": "display_data"
    }
   ],
   "source": [
    "%matplotlib inline\n",
    "%config InlineBackend.figure_format = 'retina'\n",
    "\n",
    "import helper\n",
    "import numpy as np\n",
    "\n",
    "# Explore the dataset\n",
    "batch_id = 2\n",
    "sample_id = 10\n",
    "helper.display_stats(cifar10_dataset_folder_path, batch_id, sample_id)"
   ]
  },
  {
   "cell_type": "markdown",
   "metadata": {
    "deletable": true,
    "editable": true
   },
   "source": [
    "## Implement Preprocess Functions\n",
    "### Normalize\n",
    "In the cell below, implement the `normalize` function to take in image data, `x`, and return it as a normalized Numpy array. The values should be in the range of 0 to 1, inclusive.  The return object should be the same shape as `x`."
   ]
  },
  {
   "cell_type": "code",
   "execution_count": 3,
   "metadata": {
    "collapsed": false,
    "deletable": true,
    "editable": true
   },
   "outputs": [
    {
     "name": "stdout",
     "output_type": "stream",
     "text": [
      "Tests Passed\n"
     ]
    }
   ],
   "source": [
    "def normalize(x):\n",
    "    \"\"\"\n",
    "    Normalize a list of sample image data in the range of 0 to 1\n",
    "    : x: List of image data.  The image shape is (32, 32, 3)\n",
    "    : return: Numpy array of normalize data\n",
    "    \"\"\"\n",
    "    # The image data is 0-255.  To normalize to the range 0-1 \n",
    "    # divide each pixel value by 255.\n",
    "    return x/255.\n",
    "\n",
    "\n",
    "\"\"\"\n",
    "DON'T MODIFY ANYTHING IN THIS CELL THAT IS BELOW THIS LINE\n",
    "\"\"\"\n",
    "tests.test_normalize(normalize)"
   ]
  },
  {
   "cell_type": "markdown",
   "metadata": {
    "deletable": true,
    "editable": true
   },
   "source": [
    "### One-hot encode\n",
    "Just like the previous code cell, you'll be implementing a function for preprocessing.  This time, you'll implement the `one_hot_encode` function. The input, `x`, are a list of labels.  Implement the function to return the list of labels as One-Hot encoded Numpy array.  The possible values for labels are 0 to 9. The one-hot encoding function should return the same encoding for each value between each call to `one_hot_encode`.  Make sure to save the map of encodings outside the function.\n",
    "\n",
    "Hint: Don't reinvent the wheel."
   ]
  },
  {
   "cell_type": "code",
   "execution_count": 4,
   "metadata": {
    "collapsed": false,
    "deletable": true,
    "editable": true
   },
   "outputs": [
    {
     "name": "stdout",
     "output_type": "stream",
     "text": [
      "Tests Passed\n"
     ]
    }
   ],
   "source": [
    "from sklearn.preprocessing import OneHotEncoder\n",
    "\n",
    "def one_hot_encode(x):\n",
    "    \"\"\"\n",
    "    One hot encode a list of sample labels. Return a one-hot encoded vector for each label.\n",
    "    : x: List of sample Labels\n",
    "    : return: Numpy array of one-hot encoded labels\n",
    "    \"\"\"\n",
    "    # Use the OneHotEncoder class from the sklearn package.\n",
    "    # OneHotEncoder takes the number of distinct values in input to be \n",
    "    # transformed as argument.  In our case, that is the number \n",
    "    # of classes which is 10.\n",
    "    one_hot_encoder = OneHotEncoder(10, sparse=False)    \n",
    "    encodings =  one_hot_encoder.fit_transform(\n",
    "        np.array(x).reshape(-1, 1))\n",
    "    return encodings\n",
    "\n",
    "\"\"\"\n",
    "DON'T MODIFY ANYTHING IN THIS CELL THAT IS BELOW THIS LINE\n",
    "\"\"\"\n",
    "tests.test_one_hot_encode(one_hot_encode)"
   ]
  },
  {
   "cell_type": "markdown",
   "metadata": {
    "deletable": true,
    "editable": true
   },
   "source": [
    "### Randomize Data\n",
    "As you saw from exploring the data above, the order of the samples are randomized.  It doesn't hurt to randomize it again, but you don't need to for this dataset."
   ]
  },
  {
   "cell_type": "markdown",
   "metadata": {
    "deletable": true,
    "editable": true
   },
   "source": [
    "## Preprocess all the data and save it\n",
    "Running the code cell below will preprocess all the CIFAR-10 data and save it to file. The code below also uses 10% of the training data for validation."
   ]
  },
  {
   "cell_type": "code",
   "execution_count": 5,
   "metadata": {
    "collapsed": false,
    "deletable": true,
    "editable": true
   },
   "outputs": [],
   "source": [
    "\"\"\"\n",
    "DON'T MODIFY ANYTHING IN THIS CELL\n",
    "\"\"\"\n",
    "# Preprocess Training, Validation, and Testing Data\n",
    "helper.preprocess_and_save_data(cifar10_dataset_folder_path, normalize, one_hot_encode)"
   ]
  },
  {
   "cell_type": "markdown",
   "metadata": {
    "deletable": true,
    "editable": true
   },
   "source": [
    "# Check Point\n",
    "This is your first checkpoint.  If you ever decide to come back to this notebook or have to restart the notebook, you can start from here.  The preprocessed data has been saved to disk."
   ]
  },
  {
   "cell_type": "code",
   "execution_count": 6,
   "metadata": {
    "collapsed": true,
    "deletable": true,
    "editable": true
   },
   "outputs": [],
   "source": [
    "\"\"\"\n",
    "DON'T MODIFY ANYTHING IN THIS CELL\n",
    "\"\"\"\n",
    "import pickle\n",
    "import problem_unittests as tests\n",
    "import helper\n",
    "\n",
    "# Load the Preprocessed Validation data\n",
    "valid_features, valid_labels = pickle.load(open('preprocess_validation.p', mode='rb'))"
   ]
  },
  {
   "cell_type": "markdown",
   "metadata": {
    "deletable": true,
    "editable": true
   },
   "source": [
    "## Build the network\n",
    "For the neural network, you'll build each layer into a function.  Most of the code you've seen has been outside of functions. To test your code more thoroughly, we require that you put each layer in a function.  This allows us to give you better feedback and test for simple mistakes using our unittests before you submit your project.\n",
    "\n",
    ">**Note:** If you're finding it hard to dedicate enough time for this course each week, we've provided a small shortcut to this part of the project. In the next couple of problems, you'll have the option to use classes from the [TensorFlow Layers](https://www.tensorflow.org/api_docs/python/tf/layers) or [TensorFlow Layers (contrib)](https://www.tensorflow.org/api_guides/python/contrib.layers) packages to build each layer, except the layers you build in the \"Convolutional and Max Pooling Layer\" section.  TF Layers is similar to Keras's and TFLearn's abstraction to layers, so it's easy to pickup.\n",
    "\n",
    ">However, if you would like to get the most out of this course, try to solve all the problems _without_ using anything from the TF Layers packages. You **can** still use classes from other packages that happen to have the same name as ones you find in TF Layers! For example, instead of using the TF Layers version of the `conv2d` class, [tf.layers.conv2d](https://www.tensorflow.org/api_docs/python/tf/layers/conv2d), you would want to use the TF Neural Network version of `conv2d`, [tf.nn.conv2d](https://www.tensorflow.org/api_docs/python/tf/nn/conv2d). \n",
    "\n",
    "Let's begin!\n",
    "\n",
    "### Input\n",
    "The neural network needs to read the image data, one-hot encoded labels, and dropout keep probability. Implement the following functions\n",
    "* Implement `neural_net_image_input`\n",
    " * Return a [TF Placeholder](https://www.tensorflow.org/api_docs/python/tf/placeholder)\n",
    " * Set the shape using `image_shape` with batch size set to `None`.\n",
    " * Name the TensorFlow placeholder \"x\" using the TensorFlow `name` parameter in the [TF Placeholder](https://www.tensorflow.org/api_docs/python/tf/placeholder).\n",
    "* Implement `neural_net_label_input`\n",
    " * Return a [TF Placeholder](https://www.tensorflow.org/api_docs/python/tf/placeholder)\n",
    " * Set the shape using `n_classes` with batch size set to `None`.\n",
    " * Name the TensorFlow placeholder \"y\" using the TensorFlow `name` parameter in the [TF Placeholder](https://www.tensorflow.org/api_docs/python/tf/placeholder).\n",
    "* Implement `neural_net_keep_prob_input`\n",
    " * Return a [TF Placeholder](https://www.tensorflow.org/api_docs/python/tf/placeholder) for dropout keep probability.\n",
    " * Name the TensorFlow placeholder \"keep_prob\" using the TensorFlow `name` parameter in the [TF Placeholder](https://www.tensorflow.org/api_docs/python/tf/placeholder).\n",
    "\n",
    "These names will be used at the end of the project to load your saved model.\n",
    "\n",
    "Note: `None` for shapes in TensorFlow allow for a dynamic size."
   ]
  },
  {
   "cell_type": "code",
   "execution_count": 7,
   "metadata": {
    "collapsed": false,
    "deletable": true,
    "editable": true
   },
   "outputs": [
    {
     "name": "stdout",
     "output_type": "stream",
     "text": [
      "Image Input Tests Passed.\n",
      "Label Input Tests Passed.\n",
      "Keep Prob Tests Passed.\n"
     ]
    }
   ],
   "source": [
    "import tensorflow as tf\n",
    "\n",
    "def neural_net_image_input(image_shape):\n",
    "    \"\"\"\n",
    "    Return a Tensor for a bach of image input\n",
    "    : image_shape: Shape of the images\n",
    "    : return: Tensor for image input.\n",
    "    \"\"\"\n",
    "    input = tf.placeholder(tf.float32, shape=[None, image_shape[0], image_shape[1], image_shape[2]], name='x')\n",
    "    return input\n",
    "\n",
    "\n",
    "def neural_net_label_input(n_classes):\n",
    "    \"\"\"\n",
    "    Return a Tensor for a batch of label input\n",
    "    : n_classes: Number of classes\n",
    "    : return: Tensor for label input.\n",
    "    \"\"\"\n",
    "    label = tf.placeholder(tf.int32, shape=[None, n_classes], name='y')\n",
    "    return label\n",
    "\n",
    "\n",
    "def neural_net_keep_prob_input():\n",
    "    \"\"\"\n",
    "    Return a Tensor for keep probability\n",
    "    : return: Tensor for keep probability.\n",
    "    \"\"\"\n",
    "    keep_prob = tf.placeholder(tf.float32, name='keep_prob')\n",
    "    return keep_prob\n",
    "\n",
    "\n",
    "\"\"\"\n",
    "DON'T MODIFY ANYTHING IN THIS CELL THAT IS BELOW THIS LINE\n",
    "\"\"\"\n",
    "tf.reset_default_graph()\n",
    "tests.test_nn_image_inputs(neural_net_image_input)\n",
    "tests.test_nn_label_inputs(neural_net_label_input)\n",
    "tests.test_nn_keep_prob_inputs(neural_net_keep_prob_input)"
   ]
  },
  {
   "cell_type": "markdown",
   "metadata": {
    "deletable": true,
    "editable": true
   },
   "source": [
    "### Convolution and Max Pooling Layer\n",
    "Convolution layers have a lot of success with images. For this code cell, you should implement the function `conv2d_maxpool` to apply convolution then max pooling:\n",
    "* Create the weight and bias using `conv_ksize`, `conv_num_outputs` and the shape of `x_tensor`.\n",
    "* Apply a convolution to `x_tensor` using weight and `conv_strides`.\n",
    " * We recommend you use same padding, but you're welcome to use any padding.\n",
    "* Add bias\n",
    "* Add a nonlinear activation to the convolution.\n",
    "* Apply Max Pooling using `pool_ksize` and `pool_strides`.\n",
    " * We recommend you use same padding, but you're welcome to use any padding.\n",
    "\n",
    "**Note:** You **can't** use [TensorFlow Layers](https://www.tensorflow.org/api_docs/python/tf/layers) or [TensorFlow Layers (contrib)](https://www.tensorflow.org/api_guides/python/contrib.layers) for **this** layer, but you can still use TensorFlow's [Neural Network](https://www.tensorflow.org/api_docs/python/tf/nn) package. You may still use the shortcut option for all the **other** layers."
   ]
  },
  {
   "cell_type": "code",
   "execution_count": 8,
   "metadata": {
    "collapsed": false,
    "deletable": true,
    "editable": true
   },
   "outputs": [
    {
     "name": "stdout",
     "output_type": "stream",
     "text": [
      "Tests Passed\n"
     ]
    }
   ],
   "source": [
    "def conv2d_maxpool(x_tensor, conv_num_outputs, conv_ksize, conv_strides, pool_ksize, pool_strides):\n",
    "    \"\"\"\n",
    "    Apply convolution then max pooling to x_tensor\n",
    "    :param x_tensor: TensorFlow Tensor\n",
    "    :param conv_num_outputs: Number of outputs for the convolutional layer\n",
    "    :param conv_ksize: kernal size 2-D Tuple for the convolutional layer\n",
    "    :param conv_strides: Stride 2-D Tuple for convolution\n",
    "    :param pool_ksize: kernal size 2-D Tuple for pool\n",
    "    :param pool_strides: Stride 2-D Tuple for pool\n",
    "    : return: A tensor that represents convolution and max pooling of x_tensor\n",
    "    \"\"\"\n",
    "    # Get the number of channels in the input tensor.\n",
    "    in_channels = x_tensor.get_shape()[3].value\n",
    "    # Define the weight and bias variable of the convolution.\n",
    "    bias = tf.Variable(tf.random_normal([conv_num_outputs]))\n",
    "    weight = tf.Variable(tf.random_normal([conv_ksize[0], conv_ksize[1], in_channels, conv_num_outputs]))\n",
    "    # Apply the convolution to the input.\n",
    "    output = tf.nn.conv2d(x_tensor, weight, [1, conv_strides[0], conv_strides[1], 1], padding='SAME')\n",
    "    # Add the bias.\n",
    "    output = tf.nn.bias_add(output, bias)\n",
    "    # Apply a the rectified-linear unit nonlinearity.\n",
    "    output = tf.nn.relu(output)\n",
    "    # Perform the max-pooling operation.\n",
    "    output = tf.nn.max_pool(output, [1, pool_ksize[0], pool_ksize[1], 1], [1, pool_strides[0], pool_strides[1], 1],\n",
    "                            padding='SAME')\n",
    "    return output \n",
    "\n",
    "\n",
    "\"\"\"\n",
    "DON'T MODIFY ANYTHING IN THIS CELL THAT IS BELOW THIS LINE\n",
    "\"\"\"\n",
    "tests.test_con_pool(conv2d_maxpool)"
   ]
  },
  {
   "cell_type": "markdown",
   "metadata": {
    "deletable": true,
    "editable": true
   },
   "source": [
    "### Flatten Layer\n",
    "Implement the `flatten` function to change the dimension of `x_tensor` from a 4-D tensor to a 2-D tensor.  The output should be the shape (*Batch Size*, *Flattened Image Size*). Shortcut option: you can use classes from the [TensorFlow Layers](https://www.tensorflow.org/api_docs/python/tf/layers) or [TensorFlow Layers (contrib)](https://www.tensorflow.org/api_guides/python/contrib.layers) packages for this layer. For more of a challenge, only use other TensorFlow packages."
   ]
  },
  {
   "cell_type": "code",
   "execution_count": 9,
   "metadata": {
    "collapsed": false,
    "deletable": true,
    "editable": true
   },
   "outputs": [
    {
     "name": "stdout",
     "output_type": "stream",
     "text": [
      "Tests Passed\n"
     ]
    }
   ],
   "source": [
    "def flatten(x_tensor):\n",
    "    \"\"\"\n",
    "    Flatten x_tensor to (Batch Size, Flattened Image Size)\n",
    "    : x_tensor: A tensor of size (Batch Size, ...), where ... are the image dimensions.\n",
    "    : return: A tensor of size (Batch Size, Flattened Image Size).\n",
    "    \"\"\"\n",
    "    output = tf.contrib.layers.flatten(x_tensor)\n",
    "    return output\n",
    "\n",
    "\n",
    "\"\"\"\n",
    "DON'T MODIFY ANYTHING IN THIS CELL THAT IS BELOW THIS LINE\n",
    "\"\"\"\n",
    "tests.test_flatten(flatten)"
   ]
  },
  {
   "cell_type": "markdown",
   "metadata": {
    "deletable": true,
    "editable": true
   },
   "source": [
    "### Fully-Connected Layer\n",
    "Implement the `fully_conn` function to apply a fully connected layer to `x_tensor` with the shape (*Batch Size*, *num_outputs*). Shortcut option: you can use classes from the [TensorFlow Layers](https://www.tensorflow.org/api_docs/python/tf/layers) or [TensorFlow Layers (contrib)](https://www.tensorflow.org/api_guides/python/contrib.layers) packages for this layer. For more of a challenge, only use other TensorFlow packages."
   ]
  },
  {
   "cell_type": "code",
   "execution_count": 10,
   "metadata": {
    "collapsed": false,
    "deletable": true,
    "editable": true
   },
   "outputs": [
    {
     "name": "stdout",
     "output_type": "stream",
     "text": [
      "Tests Passed\n"
     ]
    }
   ],
   "source": [
    "def fully_conn(x_tensor, num_outputs):\n",
    "    \"\"\"\n",
    "    Apply a fully connected layer to x_tensor using weight and bias\n",
    "    : x_tensor: A 2-D tensor where the first dimension is batch size.\n",
    "    : num_outputs: The number of output that the new tensor should be.\n",
    "    : return: A 2-D tensor where the second dimension is num_outputs.\n",
    "    \"\"\"\n",
    "    # The output of this fully connected layer will be processed by the ReLU nonlinearity.\n",
    "    output = tf.contrib.layers.fully_connected(x_tensor, num_outputs, activation_fn=tf.nn.relu)\n",
    "    return output\n",
    "\n",
    "\n",
    "\"\"\"\n",
    "DON'T MODIFY ANYTHING IN THIS CELL THAT IS BELOW THIS LINE\n",
    "\"\"\"\n",
    "tests.test_fully_conn(fully_conn)"
   ]
  },
  {
   "cell_type": "markdown",
   "metadata": {
    "deletable": true,
    "editable": true
   },
   "source": [
    "### Output Layer\n",
    "Implement the `output` function to apply a fully connected layer to `x_tensor` with the shape (*Batch Size*, *num_outputs*). Shortcut option: you can use classes from the [TensorFlow Layers](https://www.tensorflow.org/api_docs/python/tf/layers) or [TensorFlow Layers (contrib)](https://www.tensorflow.org/api_guides/python/contrib.layers) packages for this layer. For more of a challenge, only use other TensorFlow packages.\n",
    "\n",
    "**Note:** Activation, softmax, or cross entropy should **not** be applied to this."
   ]
  },
  {
   "cell_type": "code",
   "execution_count": 11,
   "metadata": {
    "collapsed": false,
    "deletable": true,
    "editable": true
   },
   "outputs": [
    {
     "name": "stdout",
     "output_type": "stream",
     "text": [
      "Tests Passed\n"
     ]
    }
   ],
   "source": [
    "def output(x_tensor, num_outputs):\n",
    "    \"\"\"\n",
    "    Apply a output layer to x_tensor using weight and bias\n",
    "    : x_tensor: A 2-D tensor where the first dimension is batch size.\n",
    "    : num_outputs: The number of output that the new tensor should be.\n",
    "    : return: A 2-D tensor where the second dimension is num_outputs.\n",
    "    \"\"\"\n",
    "    # The output layer should have not nonlinearity so we set activation_fn argument to None.\n",
    "    output = tf.contrib.layers.fully_connected(x_tensor, num_outputs, activation_fn=None)\n",
    "    return output\n",
    "\n",
    "\n",
    "\"\"\"\n",
    "DON'T MODIFY ANYTHING IN THIS CELL THAT IS BELOW THIS LINE\n",
    "\"\"\"\n",
    "tests.test_output(output)"
   ]
  },
  {
   "cell_type": "markdown",
   "metadata": {
    "deletable": true,
    "editable": true
   },
   "source": [
    "### Create Convolutional Model\n",
    "Implement the function `conv_net` to create a convolutional neural network model. The function takes in a batch of images, `x`, and outputs logits.  Use the layers you created above to create this model:\n",
    "\n",
    "* Apply 1, 2, or 3 Convolution and Max Pool layers\n",
    "* Apply a Flatten Layer\n",
    "* Apply 1, 2, or 3 Fully Connected Layers\n",
    "* Apply an Output Layer\n",
    "* Return the output\n",
    "* Apply [TensorFlow's Dropout](https://www.tensorflow.org/api_docs/python/tf/nn/dropout) to one or more layers in the model using `keep_prob`. "
   ]
  },
  {
   "cell_type": "code",
   "execution_count": 12,
   "metadata": {
    "collapsed": false,
    "deletable": true,
    "editable": true
   },
   "outputs": [
    {
     "name": "stdout",
     "output_type": "stream",
     "text": [
      "Neural Network Built!\n"
     ]
    }
   ],
   "source": [
    "def conv_net(x, keep_prob):\n",
    "    \"\"\"\n",
    "    Create a convolutional neural network model\n",
    "    : x: Placeholder tensor that holds image data.\n",
    "    : keep_prob: Placeholder tensor that hold dropout keep probability.\n",
    "    : return: Tensor that represents logits\n",
    "    \"\"\"\n",
    "    # Apply 2 Convolution and Max Pool layers\n",
    "    net = conv2d_maxpool(x, 16, [3, 3], [1, 1], [2, 2], [2, 2])\n",
    "    net = conv2d_maxpool(x, 32, [3, 3], [1, 1], [2, 2], [2, 2])\n",
    "\n",
    "    # Apply a Flatten Layer\n",
    "    net = flatten(net)\n",
    "\n",
    "    # Apply 2, or 3 Fully Connected Layers with ReLU nonlinearity.\n",
    "    net = fully_conn(net, 256)\n",
    "    net = fully_conn(net, 256)\n",
    "    \n",
    "    # Apply a Dropout layer to the features that will be passed \n",
    "    # onto the output layer\n",
    "    net = tf.nn.dropout(net, keep_prob)\n",
    "\n",
    "    # Apply an Output Layer\n",
    "    net = output(net, 10)\n",
    "    \n",
    "    # Return output\n",
    "    return net\n",
    "\n",
    "\n",
    "\"\"\"\n",
    "DON'T MODIFY ANYTHING IN THIS CELL THAT IS BELOW THIS LINE\n",
    "\"\"\"\n",
    "\n",
    "##############################\n",
    "## Build the Neural Network ##\n",
    "##############################\n",
    "\n",
    "# Remove previous weights, bias, inputs, etc..\n",
    "tf.reset_default_graph()\n",
    "\n",
    "# Inputs\n",
    "x = neural_net_image_input((32, 32, 3))\n",
    "y = neural_net_label_input(10)\n",
    "keep_prob = neural_net_keep_prob_input()\n",
    "\n",
    "# Model\n",
    "logits = conv_net(x, keep_prob)\n",
    "\n",
    "# Name logits Tensor, so that is can be loaded from disk after training\n",
    "logits = tf.identity(logits, name='logits')\n",
    "\n",
    "# Loss and Optimizer\n",
    "cost = tf.reduce_mean(tf.nn.softmax_cross_entropy_with_logits(logits=logits, labels=y))\n",
    "optimizer = tf.train.AdamOptimizer().minimize(cost)\n",
    "\n",
    "# Accuracy\n",
    "correct_pred = tf.equal(tf.argmax(logits, 1), tf.argmax(y, 1))\n",
    "accuracy = tf.reduce_mean(tf.cast(correct_pred, tf.float32), name='accuracy')\n",
    "\n",
    "tests.test_conv_net(conv_net)"
   ]
  },
  {
   "cell_type": "markdown",
   "metadata": {
    "deletable": true,
    "editable": true
   },
   "source": [
    "## Train the Neural Network\n",
    "### Single Optimization\n",
    "Implement the function `train_neural_network` to do a single optimization.  The optimization should use `optimizer` to optimize in `session` with a `feed_dict` of the following:\n",
    "* `x` for image input\n",
    "* `y` for labels\n",
    "* `keep_prob` for keep probability for dropout\n",
    "\n",
    "This function will be called for each batch, so `tf.global_variables_initializer()` has already been called.\n",
    "\n",
    "Note: Nothing needs to be returned. This function is only optimizing the neural network."
   ]
  },
  {
   "cell_type": "code",
   "execution_count": 13,
   "metadata": {
    "collapsed": false,
    "deletable": true,
    "editable": true
   },
   "outputs": [
    {
     "name": "stdout",
     "output_type": "stream",
     "text": [
      "Tests Passed\n"
     ]
    }
   ],
   "source": [
    "def train_neural_network(session, optimizer, keep_probability, feature_batch, label_batch):\n",
    "    \"\"\"\n",
    "    Optimize the session on a batch of images and labels\n",
    "    : session: Current TensorFlow session\n",
    "    : optimizer: TensorFlow optimizer function\n",
    "    : keep_probability: keep probability\n",
    "    : feature_batch: Batch of Numpy image data\n",
    "    : label_batch: Batch of Numpy label data\n",
    "    \"\"\"\n",
    "    session.run(optimizer, feed_dict={x:feature_batch,\n",
    "                                      y:label_batch,\n",
    "                                      keep_prob:keep_probability})\n",
    "\n",
    "\n",
    "\"\"\"\n",
    "DON'T MODIFY ANYTHING IN THIS CELL THAT IS BELOW THIS LINE\n",
    "\"\"\"\n",
    "tests.test_train_nn(train_neural_network)"
   ]
  },
  {
   "cell_type": "markdown",
   "metadata": {
    "deletable": true,
    "editable": true
   },
   "source": [
    "### Show Stats\n",
    "Implement the function `print_stats` to print loss and validation accuracy.  Use the global variables `valid_features` and `valid_labels` to calculate validation accuracy.  Use a keep probability of `1.0` to calculate the loss and validation accuracy."
   ]
  },
  {
   "cell_type": "code",
   "execution_count": 14,
   "metadata": {
    "collapsed": false,
    "deletable": true,
    "editable": true
   },
   "outputs": [],
   "source": [
    "def print_stats(session, feature_batch, label_batch, cost, accuracy):\n",
    "    \"\"\"\n",
    "    Print information about loss and validation accuracy\n",
    "    : session: Current TensorFlow session\n",
    "    : feature_batch: Batch of Numpy image data\n",
    "    : label_batch: Batch of Numpy label data\n",
    "    : cost: TensorFlow cost function\n",
    "    : accuracy: TensorFlow accuracy function\n",
    "    \"\"\"\n",
    "    cost = session.run(cost, feed_dict={x:feature_batch,\n",
    "                                        y:label_batch,\n",
    "                                        keep_prob:1.0})\n",
    "    validation_accuracy = session.run(accuracy, feed_dict={x:valid_features,\n",
    "                                                           y:valid_labels,\n",
    "                                                           keep_prob:1.0})\n",
    "    print('Cost %f | Validation Accuracy %f' % (cost, validation_accuracy))"
   ]
  },
  {
   "cell_type": "markdown",
   "metadata": {
    "deletable": true,
    "editable": true
   },
   "source": [
    "### Hyperparameters\n",
    "Tune the following parameters:\n",
    "* Set `epochs` to the number of iterations until the network stops learning or start overfitting\n",
    "* Set `batch_size` to the highest number that your machine has memory for.  Most people set them to common sizes of memory:\n",
    " * 64\n",
    " * 128\n",
    " * 256\n",
    " * ...\n",
    "* Set `keep_probability` to the probability of keeping a node using dropout"
   ]
  },
  {
   "cell_type": "code",
   "execution_count": 15,
   "metadata": {
    "collapsed": true,
    "deletable": true,
    "editable": true
   },
   "outputs": [],
   "source": [
    "# TODO: Tune Parameters\n",
    "epochs = 50\n",
    "batch_size = 256\n",
    "keep_probability = 0.95"
   ]
  },
  {
   "cell_type": "markdown",
   "metadata": {
    "deletable": true,
    "editable": true
   },
   "source": [
    "### Train on a Single CIFAR-10 Batch\n",
    "Instead of training the neural network on all the CIFAR-10 batches of data, let's use a single batch. This should save time while you iterate on the model to get a better accuracy.  Once the final validation accuracy is 50% or greater, run the model on all the data in the next section."
   ]
  },
  {
   "cell_type": "code",
   "execution_count": 16,
   "metadata": {
    "collapsed": false,
    "deletable": true,
    "editable": true,
    "scrolled": false
   },
   "outputs": [
    {
     "name": "stdout",
     "output_type": "stream",
     "text": [
      "Checking the Training on a Single Batch...\n",
      "Epoch  1, CIFAR-10 Batch 1:  Cost 2.154948 | Validation Accuracy 0.233600\n",
      "Epoch  2, CIFAR-10 Batch 1:  Cost 1.853909 | Validation Accuracy 0.351000\n",
      "Epoch  3, CIFAR-10 Batch 1:  Cost 1.604456 | Validation Accuracy 0.417800\n",
      "Epoch  4, CIFAR-10 Batch 1:  Cost 1.336798 | Validation Accuracy 0.445200\n",
      "Epoch  5, CIFAR-10 Batch 1:  Cost 1.148683 | Validation Accuracy 0.429400\n",
      "Epoch  6, CIFAR-10 Batch 1:  Cost 0.914045 | Validation Accuracy 0.456200\n",
      "Epoch  7, CIFAR-10 Batch 1:  Cost 0.753390 | Validation Accuracy 0.475400\n",
      "Epoch  8, CIFAR-10 Batch 1:  Cost 0.679570 | Validation Accuracy 0.451800\n",
      "Epoch  9, CIFAR-10 Batch 1:  Cost 0.581088 | Validation Accuracy 0.455800\n",
      "Epoch 10, CIFAR-10 Batch 1:  Cost 0.537904 | Validation Accuracy 0.475200\n",
      "Epoch 11, CIFAR-10 Batch 1:  Cost 0.521064 | Validation Accuracy 0.467800\n",
      "Epoch 12, CIFAR-10 Batch 1:  Cost 0.437044 | Validation Accuracy 0.506200\n",
      "Epoch 13, CIFAR-10 Batch 1:  Cost 0.331755 | Validation Accuracy 0.508200\n",
      "Epoch 14, CIFAR-10 Batch 1:  Cost 0.255885 | Validation Accuracy 0.500600\n",
      "Epoch 15, CIFAR-10 Batch 1:  Cost 0.283552 | Validation Accuracy 0.474400\n",
      "Epoch 16, CIFAR-10 Batch 1:  Cost 0.322701 | Validation Accuracy 0.463600\n",
      "Epoch 17, CIFAR-10 Batch 1:  Cost 0.287643 | Validation Accuracy 0.493800\n",
      "Epoch 18, CIFAR-10 Batch 1:  Cost 0.335497 | Validation Accuracy 0.504400\n",
      "Epoch 19, CIFAR-10 Batch 1:  Cost 0.198463 | Validation Accuracy 0.493800\n",
      "Epoch 20, CIFAR-10 Batch 1:  Cost 0.211813 | Validation Accuracy 0.520800\n",
      "Epoch 21, CIFAR-10 Batch 1:  Cost 0.230627 | Validation Accuracy 0.506000\n",
      "Epoch 22, CIFAR-10 Batch 1:  Cost 0.226810 | Validation Accuracy 0.480200\n",
      "Epoch 23, CIFAR-10 Batch 1:  Cost 0.158833 | Validation Accuracy 0.511800\n",
      "Epoch 24, CIFAR-10 Batch 1:  Cost 0.251732 | Validation Accuracy 0.458000\n",
      "Epoch 25, CIFAR-10 Batch 1:  Cost 0.153634 | Validation Accuracy 0.510400\n",
      "Epoch 26, CIFAR-10 Batch 1:  Cost 0.159084 | Validation Accuracy 0.496000\n",
      "Epoch 27, CIFAR-10 Batch 1:  Cost 0.126993 | Validation Accuracy 0.527800\n",
      "Epoch 28, CIFAR-10 Batch 1:  Cost 0.120255 | Validation Accuracy 0.527800\n",
      "Epoch 29, CIFAR-10 Batch 1:  Cost 0.082712 | Validation Accuracy 0.537400\n",
      "Epoch 30, CIFAR-10 Batch 1:  Cost 0.080090 | Validation Accuracy 0.537000\n",
      "Epoch 31, CIFAR-10 Batch 1:  Cost 0.082239 | Validation Accuracy 0.532200\n",
      "Epoch 32, CIFAR-10 Batch 1:  Cost 0.095068 | Validation Accuracy 0.506800\n",
      "Epoch 33, CIFAR-10 Batch 1:  Cost 0.069600 | Validation Accuracy 0.515200\n",
      "Epoch 34, CIFAR-10 Batch 1:  Cost 0.070911 | Validation Accuracy 0.504200\n",
      "Epoch 35, CIFAR-10 Batch 1:  Cost 0.125501 | Validation Accuracy 0.472000\n",
      "Epoch 36, CIFAR-10 Batch 1:  Cost 0.067460 | Validation Accuracy 0.521000\n",
      "Epoch 37, CIFAR-10 Batch 1:  Cost 0.113413 | Validation Accuracy 0.502200\n",
      "Epoch 38, CIFAR-10 Batch 1:  Cost 0.079425 | Validation Accuracy 0.518400\n",
      "Epoch 39, CIFAR-10 Batch 1:  Cost 0.051631 | Validation Accuracy 0.507000\n",
      "Epoch 40, CIFAR-10 Batch 1:  Cost 0.031636 | Validation Accuracy 0.529200\n",
      "Epoch 41, CIFAR-10 Batch 1:  Cost 0.043473 | Validation Accuracy 0.519400\n",
      "Epoch 42, CIFAR-10 Batch 1:  Cost 0.050043 | Validation Accuracy 0.513400\n",
      "Epoch 43, CIFAR-10 Batch 1:  Cost 0.049219 | Validation Accuracy 0.502800\n",
      "Epoch 44, CIFAR-10 Batch 1:  Cost 0.039596 | Validation Accuracy 0.491400\n",
      "Epoch 45, CIFAR-10 Batch 1:  Cost 0.048929 | Validation Accuracy 0.475200\n",
      "Epoch 46, CIFAR-10 Batch 1:  Cost 0.030743 | Validation Accuracy 0.483600\n",
      "Epoch 47, CIFAR-10 Batch 1:  Cost 0.054571 | Validation Accuracy 0.503600\n",
      "Epoch 48, CIFAR-10 Batch 1:  Cost 0.018108 | Validation Accuracy 0.532400\n",
      "Epoch 49, CIFAR-10 Batch 1:  Cost 0.011628 | Validation Accuracy 0.525800\n",
      "Epoch 50, CIFAR-10 Batch 1:  Cost 0.008452 | Validation Accuracy 0.525400\n"
     ]
    }
   ],
   "source": [
    "\"\"\"\n",
    "DON'T MODIFY ANYTHING IN THIS CELL\n",
    "\"\"\"\n",
    "print('Checking the Training on a Single Batch...')\n",
    "with tf.Session() as sess:\n",
    "    # Initializing the variables\n",
    "    sess.run(tf.global_variables_initializer())\n",
    "    \n",
    "    # Training cycle\n",
    "    for epoch in range(epochs):\n",
    "        batch_i = 1\n",
    "        for batch_features, batch_labels in helper.load_preprocess_training_batch(batch_i, batch_size):\n",
    "            train_neural_network(sess, optimizer, keep_probability, batch_features, batch_labels)\n",
    "        print('Epoch {:>2}, CIFAR-10 Batch {}:  '.format(epoch + 1, batch_i), end='')\n",
    "        print_stats(sess, batch_features, batch_labels, cost, accuracy)"
   ]
  },
  {
   "cell_type": "markdown",
   "metadata": {
    "deletable": true,
    "editable": true
   },
   "source": [
    "### Fully Train the Model\n",
    "Now that you got a good accuracy with a single CIFAR-10 batch, try it with all five batches."
   ]
  },
  {
   "cell_type": "code",
   "execution_count": 17,
   "metadata": {
    "collapsed": false,
    "deletable": true,
    "editable": true,
    "scrolled": false
   },
   "outputs": [
    {
     "name": "stdout",
     "output_type": "stream",
     "text": [
      "Training...\n",
      "Epoch  1, CIFAR-10 Batch 1:  Cost 2.071201 | Validation Accuracy 0.242400\n",
      "Epoch  1, CIFAR-10 Batch 2:  Cost 1.805916 | Validation Accuracy 0.348800\n",
      "Epoch  1, CIFAR-10 Batch 3:  Cost 1.611349 | Validation Accuracy 0.375800\n",
      "Epoch  1, CIFAR-10 Batch 4:  Cost 1.519337 | Validation Accuracy 0.422400\n",
      "Epoch  1, CIFAR-10 Batch 5:  Cost 1.575646 | Validation Accuracy 0.455200\n",
      "Epoch  2, CIFAR-10 Batch 1:  Cost 1.510537 | Validation Accuracy 0.433000\n",
      "Epoch  2, CIFAR-10 Batch 2:  Cost 1.209837 | Validation Accuracy 0.482600\n",
      "Epoch  2, CIFAR-10 Batch 3:  Cost 1.115750 | Validation Accuracy 0.484400\n",
      "Epoch  2, CIFAR-10 Batch 4:  Cost 1.051452 | Validation Accuracy 0.504600\n",
      "Epoch  2, CIFAR-10 Batch 5:  Cost 1.233929 | Validation Accuracy 0.491600\n",
      "Epoch  3, CIFAR-10 Batch 1:  Cost 1.154986 | Validation Accuracy 0.512000\n",
      "Epoch  3, CIFAR-10 Batch 2:  Cost 0.882698 | Validation Accuracy 0.522000\n",
      "Epoch  3, CIFAR-10 Batch 3:  Cost 0.857260 | Validation Accuracy 0.501200\n",
      "Epoch  3, CIFAR-10 Batch 4:  Cost 0.882149 | Validation Accuracy 0.536600\n",
      "Epoch  3, CIFAR-10 Batch 5:  Cost 1.105502 | Validation Accuracy 0.509800\n",
      "Epoch  4, CIFAR-10 Batch 1:  Cost 1.009410 | Validation Accuracy 0.535000\n",
      "Epoch  4, CIFAR-10 Batch 2:  Cost 0.823133 | Validation Accuracy 0.517200\n",
      "Epoch  4, CIFAR-10 Batch 3:  Cost 0.655212 | Validation Accuracy 0.529200\n",
      "Epoch  4, CIFAR-10 Batch 4:  Cost 0.755232 | Validation Accuracy 0.547800\n",
      "Epoch  4, CIFAR-10 Batch 5:  Cost 0.931182 | Validation Accuracy 0.553000\n",
      "Epoch  5, CIFAR-10 Batch 1:  Cost 0.939731 | Validation Accuracy 0.543200\n",
      "Epoch  5, CIFAR-10 Batch 2:  Cost 0.719374 | Validation Accuracy 0.528800\n",
      "Epoch  5, CIFAR-10 Batch 3:  Cost 0.598438 | Validation Accuracy 0.552600\n",
      "Epoch  5, CIFAR-10 Batch 4:  Cost 0.688307 | Validation Accuracy 0.560400\n",
      "Epoch  5, CIFAR-10 Batch 5:  Cost 0.786571 | Validation Accuracy 0.561400\n",
      "Epoch  6, CIFAR-10 Batch 1:  Cost 0.743246 | Validation Accuracy 0.565800\n",
      "Epoch  6, CIFAR-10 Batch 2:  Cost 0.638636 | Validation Accuracy 0.566600\n",
      "Epoch  6, CIFAR-10 Batch 3:  Cost 0.466832 | Validation Accuracy 0.539200\n",
      "Epoch  6, CIFAR-10 Batch 4:  Cost 0.557501 | Validation Accuracy 0.575400\n",
      "Epoch  6, CIFAR-10 Batch 5:  Cost 0.609441 | Validation Accuracy 0.579400\n",
      "Epoch  7, CIFAR-10 Batch 1:  Cost 0.698811 | Validation Accuracy 0.576600\n",
      "Epoch  7, CIFAR-10 Batch 2:  Cost 0.541483 | Validation Accuracy 0.581200\n",
      "Epoch  7, CIFAR-10 Batch 3:  Cost 0.425225 | Validation Accuracy 0.551000\n",
      "Epoch  7, CIFAR-10 Batch 4:  Cost 0.463738 | Validation Accuracy 0.572400\n",
      "Epoch  7, CIFAR-10 Batch 5:  Cost 0.566190 | Validation Accuracy 0.574600\n",
      "Epoch  8, CIFAR-10 Batch 1:  Cost 0.602437 | Validation Accuracy 0.576000\n",
      "Epoch  8, CIFAR-10 Batch 2:  Cost 0.474852 | Validation Accuracy 0.559400\n",
      "Epoch  8, CIFAR-10 Batch 3:  Cost 0.361254 | Validation Accuracy 0.566800\n",
      "Epoch  8, CIFAR-10 Batch 4:  Cost 0.418023 | Validation Accuracy 0.591600\n",
      "Epoch  8, CIFAR-10 Batch 5:  Cost 0.515499 | Validation Accuracy 0.576800\n",
      "Epoch  9, CIFAR-10 Batch 1:  Cost 0.608816 | Validation Accuracy 0.578000\n",
      "Epoch  9, CIFAR-10 Batch 2:  Cost 0.409879 | Validation Accuracy 0.575800\n",
      "Epoch  9, CIFAR-10 Batch 3:  Cost 0.322706 | Validation Accuracy 0.575200\n",
      "Epoch  9, CIFAR-10 Batch 4:  Cost 0.415558 | Validation Accuracy 0.590400\n",
      "Epoch  9, CIFAR-10 Batch 5:  Cost 0.439898 | Validation Accuracy 0.592800\n",
      "Epoch 10, CIFAR-10 Batch 1:  Cost 0.544942 | Validation Accuracy 0.595600\n",
      "Epoch 10, CIFAR-10 Batch 2:  Cost 0.357860 | Validation Accuracy 0.579600\n",
      "Epoch 10, CIFAR-10 Batch 3:  Cost 0.269679 | Validation Accuracy 0.592400\n",
      "Epoch 10, CIFAR-10 Batch 4:  Cost 0.376504 | Validation Accuracy 0.573800\n",
      "Epoch 10, CIFAR-10 Batch 5:  Cost 0.372260 | Validation Accuracy 0.599400\n",
      "Epoch 11, CIFAR-10 Batch 1:  Cost 0.497209 | Validation Accuracy 0.595200\n",
      "Epoch 11, CIFAR-10 Batch 2:  Cost 0.292718 | Validation Accuracy 0.580000\n",
      "Epoch 11, CIFAR-10 Batch 3:  Cost 0.238202 | Validation Accuracy 0.600200\n",
      "Epoch 11, CIFAR-10 Batch 4:  Cost 0.344886 | Validation Accuracy 0.585800\n",
      "Epoch 11, CIFAR-10 Batch 5:  Cost 0.361657 | Validation Accuracy 0.593800\n",
      "Epoch 12, CIFAR-10 Batch 1:  Cost 0.447081 | Validation Accuracy 0.590400\n",
      "Epoch 12, CIFAR-10 Batch 2:  Cost 0.220080 | Validation Accuracy 0.594800\n",
      "Epoch 12, CIFAR-10 Batch 3:  Cost 0.211064 | Validation Accuracy 0.612600\n",
      "Epoch 12, CIFAR-10 Batch 4:  Cost 0.292224 | Validation Accuracy 0.596200\n",
      "Epoch 12, CIFAR-10 Batch 5:  Cost 0.304144 | Validation Accuracy 0.589200\n",
      "Epoch 13, CIFAR-10 Batch 1:  Cost 0.379697 | Validation Accuracy 0.596600\n",
      "Epoch 13, CIFAR-10 Batch 2:  Cost 0.201808 | Validation Accuracy 0.588200\n",
      "Epoch 13, CIFAR-10 Batch 3:  Cost 0.208948 | Validation Accuracy 0.605000\n",
      "Epoch 13, CIFAR-10 Batch 4:  Cost 0.262095 | Validation Accuracy 0.596000\n",
      "Epoch 13, CIFAR-10 Batch 5:  Cost 0.251915 | Validation Accuracy 0.601800\n",
      "Epoch 14, CIFAR-10 Batch 1:  Cost 0.347337 | Validation Accuracy 0.589200\n",
      "Epoch 14, CIFAR-10 Batch 2:  Cost 0.160663 | Validation Accuracy 0.588600\n",
      "Epoch 14, CIFAR-10 Batch 3:  Cost 0.214724 | Validation Accuracy 0.600400\n",
      "Epoch 14, CIFAR-10 Batch 4:  Cost 0.253132 | Validation Accuracy 0.596200\n",
      "Epoch 14, CIFAR-10 Batch 5:  Cost 0.238714 | Validation Accuracy 0.605400\n",
      "Epoch 15, CIFAR-10 Batch 1:  Cost 0.309025 | Validation Accuracy 0.594000\n",
      "Epoch 15, CIFAR-10 Batch 2:  Cost 0.160003 | Validation Accuracy 0.575400\n",
      "Epoch 15, CIFAR-10 Batch 3:  Cost 0.194253 | Validation Accuracy 0.604400\n",
      "Epoch 15, CIFAR-10 Batch 4:  Cost 0.217730 | Validation Accuracy 0.600200\n",
      "Epoch 15, CIFAR-10 Batch 5:  Cost 0.230578 | Validation Accuracy 0.604200\n",
      "Epoch 16, CIFAR-10 Batch 1:  Cost 0.269702 | Validation Accuracy 0.600200\n",
      "Epoch 16, CIFAR-10 Batch 2:  Cost 0.149887 | Validation Accuracy 0.585800\n",
      "Epoch 16, CIFAR-10 Batch 3:  Cost 0.167753 | Validation Accuracy 0.607600\n",
      "Epoch 16, CIFAR-10 Batch 4:  Cost 0.180651 | Validation Accuracy 0.604200\n",
      "Epoch 16, CIFAR-10 Batch 5:  Cost 0.210547 | Validation Accuracy 0.598800\n",
      "Epoch 17, CIFAR-10 Batch 1:  Cost 0.216508 | Validation Accuracy 0.599400\n",
      "Epoch 17, CIFAR-10 Batch 2:  Cost 0.127984 | Validation Accuracy 0.593600\n",
      "Epoch 17, CIFAR-10 Batch 3:  Cost 0.145480 | Validation Accuracy 0.600400\n",
      "Epoch 17, CIFAR-10 Batch 4:  Cost 0.160132 | Validation Accuracy 0.595000\n",
      "Epoch 17, CIFAR-10 Batch 5:  Cost 0.220549 | Validation Accuracy 0.590000\n",
      "Epoch 18, CIFAR-10 Batch 1:  Cost 0.194316 | Validation Accuracy 0.588200\n",
      "Epoch 18, CIFAR-10 Batch 2:  Cost 0.111913 | Validation Accuracy 0.592000\n",
      "Epoch 18, CIFAR-10 Batch 3:  Cost 0.137396 | Validation Accuracy 0.593800\n",
      "Epoch 18, CIFAR-10 Batch 4:  Cost 0.133337 | Validation Accuracy 0.607800\n",
      "Epoch 18, CIFAR-10 Batch 5:  Cost 0.204304 | Validation Accuracy 0.610600\n",
      "Epoch 19, CIFAR-10 Batch 1:  Cost 0.163168 | Validation Accuracy 0.602200\n",
      "Epoch 19, CIFAR-10 Batch 2:  Cost 0.110190 | Validation Accuracy 0.607400\n",
      "Epoch 19, CIFAR-10 Batch 3:  Cost 0.121800 | Validation Accuracy 0.602800\n",
      "Epoch 19, CIFAR-10 Batch 4:  Cost 0.112678 | Validation Accuracy 0.616600\n",
      "Epoch 19, CIFAR-10 Batch 5:  Cost 0.155340 | Validation Accuracy 0.597600\n",
      "Epoch 20, CIFAR-10 Batch 1:  Cost 0.136833 | Validation Accuracy 0.607400\n",
      "Epoch 20, CIFAR-10 Batch 2:  Cost 0.114745 | Validation Accuracy 0.607600\n",
      "Epoch 20, CIFAR-10 Batch 3:  Cost 0.161967 | Validation Accuracy 0.575800\n",
      "Epoch 20, CIFAR-10 Batch 4:  Cost 0.104483 | Validation Accuracy 0.610600\n",
      "Epoch 20, CIFAR-10 Batch 5:  Cost 0.132594 | Validation Accuracy 0.593200\n",
      "Epoch 21, CIFAR-10 Batch 1:  Cost 0.120624 | Validation Accuracy 0.603200\n",
      "Epoch 21, CIFAR-10 Batch 2:  Cost 0.098830 | Validation Accuracy 0.617000\n",
      "Epoch 21, CIFAR-10 Batch 3:  Cost 0.142866 | Validation Accuracy 0.569200\n",
      "Epoch 21, CIFAR-10 Batch 4:  Cost 0.101397 | Validation Accuracy 0.621800\n",
      "Epoch 21, CIFAR-10 Batch 5:  Cost 0.103177 | Validation Accuracy 0.602200\n",
      "Epoch 22, CIFAR-10 Batch 1:  Cost 0.114704 | Validation Accuracy 0.604400\n",
      "Epoch 22, CIFAR-10 Batch 2:  Cost 0.087036 | Validation Accuracy 0.612600\n",
      "Epoch 22, CIFAR-10 Batch 3:  Cost 0.123387 | Validation Accuracy 0.568200\n",
      "Epoch 22, CIFAR-10 Batch 4:  Cost 0.088472 | Validation Accuracy 0.620400\n",
      "Epoch 22, CIFAR-10 Batch 5:  Cost 0.098429 | Validation Accuracy 0.595800\n",
      "Epoch 23, CIFAR-10 Batch 1:  Cost 0.110255 | Validation Accuracy 0.595000\n",
      "Epoch 23, CIFAR-10 Batch 2:  Cost 0.085257 | Validation Accuracy 0.613600\n",
      "Epoch 23, CIFAR-10 Batch 3:  Cost 0.100138 | Validation Accuracy 0.585600\n",
      "Epoch 23, CIFAR-10 Batch 4:  Cost 0.079695 | Validation Accuracy 0.609600\n",
      "Epoch 23, CIFAR-10 Batch 5:  Cost 0.106314 | Validation Accuracy 0.583200\n",
      "Epoch 24, CIFAR-10 Batch 1:  Cost 0.146373 | Validation Accuracy 0.571600\n",
      "Epoch 24, CIFAR-10 Batch 2:  Cost 0.091762 | Validation Accuracy 0.605000\n",
      "Epoch 24, CIFAR-10 Batch 3:  Cost 0.094161 | Validation Accuracy 0.586400\n",
      "Epoch 24, CIFAR-10 Batch 4:  Cost 0.089973 | Validation Accuracy 0.587000\n",
      "Epoch 24, CIFAR-10 Batch 5:  Cost 0.120062 | Validation Accuracy 0.570400\n",
      "Epoch 25, CIFAR-10 Batch 1:  Cost 0.109512 | Validation Accuracy 0.592600\n",
      "Epoch 25, CIFAR-10 Batch 2:  Cost 0.134746 | Validation Accuracy 0.572200\n",
      "Epoch 25, CIFAR-10 Batch 3:  Cost 0.111598 | Validation Accuracy 0.576600\n",
      "Epoch 25, CIFAR-10 Batch 4:  Cost 0.119450 | Validation Accuracy 0.582200\n",
      "Epoch 25, CIFAR-10 Batch 5:  Cost 0.127187 | Validation Accuracy 0.577400\n",
      "Epoch 26, CIFAR-10 Batch 1:  Cost 0.133652 | Validation Accuracy 0.609800\n",
      "Epoch 26, CIFAR-10 Batch 2:  Cost 0.107433 | Validation Accuracy 0.571800\n",
      "Epoch 26, CIFAR-10 Batch 3:  Cost 0.113060 | Validation Accuracy 0.571600\n",
      "Epoch 26, CIFAR-10 Batch 4:  Cost 0.094580 | Validation Accuracy 0.601800\n",
      "Epoch 26, CIFAR-10 Batch 5:  Cost 0.098132 | Validation Accuracy 0.613200\n",
      "Epoch 27, CIFAR-10 Batch 1:  Cost 0.112475 | Validation Accuracy 0.606000\n",
      "Epoch 27, CIFAR-10 Batch 2:  Cost 0.087236 | Validation Accuracy 0.577600\n",
      "Epoch 27, CIFAR-10 Batch 3:  Cost 0.085186 | Validation Accuracy 0.583200\n",
      "Epoch 27, CIFAR-10 Batch 4:  Cost 0.102345 | Validation Accuracy 0.608000\n",
      "Epoch 27, CIFAR-10 Batch 5:  Cost 0.101265 | Validation Accuracy 0.613800\n",
      "Epoch 28, CIFAR-10 Batch 1:  Cost 0.092043 | Validation Accuracy 0.615000\n",
      "Epoch 28, CIFAR-10 Batch 2:  Cost 0.061023 | Validation Accuracy 0.576000\n",
      "Epoch 28, CIFAR-10 Batch 3:  Cost 0.067363 | Validation Accuracy 0.592800\n",
      "Epoch 28, CIFAR-10 Batch 4:  Cost 0.077160 | Validation Accuracy 0.611400\n",
      "Epoch 28, CIFAR-10 Batch 5:  Cost 0.084308 | Validation Accuracy 0.610800\n",
      "Epoch 29, CIFAR-10 Batch 1:  Cost 0.083272 | Validation Accuracy 0.611200\n",
      "Epoch 29, CIFAR-10 Batch 2:  Cost 0.063981 | Validation Accuracy 0.578800\n",
      "Epoch 29, CIFAR-10 Batch 3:  Cost 0.061300 | Validation Accuracy 0.591600\n",
      "Epoch 29, CIFAR-10 Batch 4:  Cost 0.086697 | Validation Accuracy 0.604600\n",
      "Epoch 29, CIFAR-10 Batch 5:  Cost 0.075555 | Validation Accuracy 0.616000\n",
      "Epoch 30, CIFAR-10 Batch 1:  Cost 0.074738 | Validation Accuracy 0.611600\n",
      "Epoch 30, CIFAR-10 Batch 2:  Cost 0.057800 | Validation Accuracy 0.588000\n",
      "Epoch 30, CIFAR-10 Batch 3:  Cost 0.070963 | Validation Accuracy 0.586000\n",
      "Epoch 30, CIFAR-10 Batch 4:  Cost 0.050720 | Validation Accuracy 0.599400\n",
      "Epoch 30, CIFAR-10 Batch 5:  Cost 0.071901 | Validation Accuracy 0.613200\n",
      "Epoch 31, CIFAR-10 Batch 1:  Cost 0.064298 | Validation Accuracy 0.613800\n",
      "Epoch 31, CIFAR-10 Batch 2:  Cost 0.037184 | Validation Accuracy 0.588000\n",
      "Epoch 31, CIFAR-10 Batch 3:  Cost 0.058206 | Validation Accuracy 0.595600\n",
      "Epoch 31, CIFAR-10 Batch 4:  Cost 0.049877 | Validation Accuracy 0.594600\n",
      "Epoch 31, CIFAR-10 Batch 5:  Cost 0.063334 | Validation Accuracy 0.609800\n",
      "Epoch 32, CIFAR-10 Batch 1:  Cost 0.061433 | Validation Accuracy 0.611000\n",
      "Epoch 32, CIFAR-10 Batch 2:  Cost 0.048010 | Validation Accuracy 0.596600\n",
      "Epoch 32, CIFAR-10 Batch 3:  Cost 0.064733 | Validation Accuracy 0.596200\n",
      "Epoch 32, CIFAR-10 Batch 4:  Cost 0.055072 | Validation Accuracy 0.589800\n",
      "Epoch 32, CIFAR-10 Batch 5:  Cost 0.076969 | Validation Accuracy 0.603400\n",
      "Epoch 33, CIFAR-10 Batch 1:  Cost 0.060595 | Validation Accuracy 0.610400\n",
      "Epoch 33, CIFAR-10 Batch 2:  Cost 0.054810 | Validation Accuracy 0.597400\n",
      "Epoch 33, CIFAR-10 Batch 3:  Cost 0.064671 | Validation Accuracy 0.583200\n",
      "Epoch 33, CIFAR-10 Batch 4:  Cost 0.066056 | Validation Accuracy 0.593000\n",
      "Epoch 33, CIFAR-10 Batch 5:  Cost 0.063835 | Validation Accuracy 0.602200\n",
      "Epoch 34, CIFAR-10 Batch 1:  Cost 0.065540 | Validation Accuracy 0.603200\n",
      "Epoch 34, CIFAR-10 Batch 2:  Cost 0.053453 | Validation Accuracy 0.577600\n",
      "Epoch 34, CIFAR-10 Batch 3:  Cost 0.039202 | Validation Accuracy 0.597400\n",
      "Epoch 34, CIFAR-10 Batch 4:  Cost 0.088977 | Validation Accuracy 0.582600\n",
      "Epoch 34, CIFAR-10 Batch 5:  Cost 0.063466 | Validation Accuracy 0.601200\n",
      "Epoch 35, CIFAR-10 Batch 1:  Cost 0.063790 | Validation Accuracy 0.608200\n",
      "Epoch 35, CIFAR-10 Batch 2:  Cost 0.078426 | Validation Accuracy 0.566000\n",
      "Epoch 35, CIFAR-10 Batch 3:  Cost 0.051029 | Validation Accuracy 0.591600\n",
      "Epoch 35, CIFAR-10 Batch 4:  Cost 0.049277 | Validation Accuracy 0.591000\n",
      "Epoch 35, CIFAR-10 Batch 5:  Cost 0.071881 | Validation Accuracy 0.594200\n",
      "Epoch 36, CIFAR-10 Batch 1:  Cost 0.060137 | Validation Accuracy 0.603000\n",
      "Epoch 36, CIFAR-10 Batch 2:  Cost 0.107969 | Validation Accuracy 0.549000\n",
      "Epoch 36, CIFAR-10 Batch 3:  Cost 0.073973 | Validation Accuracy 0.604400\n",
      "Epoch 36, CIFAR-10 Batch 4:  Cost 0.057035 | Validation Accuracy 0.584400\n",
      "Epoch 36, CIFAR-10 Batch 5:  Cost 0.071685 | Validation Accuracy 0.593800\n",
      "Epoch 37, CIFAR-10 Batch 1:  Cost 0.052921 | Validation Accuracy 0.603600\n",
      "Epoch 37, CIFAR-10 Batch 2:  Cost 0.052620 | Validation Accuracy 0.548800\n",
      "Epoch 37, CIFAR-10 Batch 3:  Cost 0.063552 | Validation Accuracy 0.614600\n",
      "Epoch 37, CIFAR-10 Batch 4:  Cost 0.034658 | Validation Accuracy 0.588200\n",
      "Epoch 37, CIFAR-10 Batch 5:  Cost 0.064742 | Validation Accuracy 0.596400\n",
      "Epoch 38, CIFAR-10 Batch 1:  Cost 0.057409 | Validation Accuracy 0.591600\n",
      "Epoch 38, CIFAR-10 Batch 2:  Cost 0.057817 | Validation Accuracy 0.574600\n",
      "Epoch 38, CIFAR-10 Batch 3:  Cost 0.060856 | Validation Accuracy 0.606600\n",
      "Epoch 38, CIFAR-10 Batch 4:  Cost 0.037106 | Validation Accuracy 0.603400\n",
      "Epoch 38, CIFAR-10 Batch 5:  Cost 0.058795 | Validation Accuracy 0.600800\n",
      "Epoch 39, CIFAR-10 Batch 1:  Cost 0.026747 | Validation Accuracy 0.621200\n",
      "Epoch 39, CIFAR-10 Batch 2:  Cost 0.024577 | Validation Accuracy 0.577400\n",
      "Epoch 39, CIFAR-10 Batch 3:  Cost 0.046928 | Validation Accuracy 0.611000\n",
      "Epoch 39, CIFAR-10 Batch 4:  Cost 0.035123 | Validation Accuracy 0.611000\n",
      "Epoch 39, CIFAR-10 Batch 5:  Cost 0.046201 | Validation Accuracy 0.611800\n",
      "Epoch 40, CIFAR-10 Batch 1:  Cost 0.027287 | Validation Accuracy 0.622000\n",
      "Epoch 40, CIFAR-10 Batch 2:  Cost 0.026242 | Validation Accuracy 0.582800\n",
      "Epoch 40, CIFAR-10 Batch 3:  Cost 0.047328 | Validation Accuracy 0.609600\n",
      "Epoch 40, CIFAR-10 Batch 4:  Cost 0.025123 | Validation Accuracy 0.610000\n",
      "Epoch 40, CIFAR-10 Batch 5:  Cost 0.031586 | Validation Accuracy 0.600800\n",
      "Epoch 41, CIFAR-10 Batch 1:  Cost 0.025691 | Validation Accuracy 0.619600\n",
      "Epoch 41, CIFAR-10 Batch 2:  Cost 0.034972 | Validation Accuracy 0.587000\n",
      "Epoch 41, CIFAR-10 Batch 3:  Cost 0.049315 | Validation Accuracy 0.596000\n",
      "Epoch 41, CIFAR-10 Batch 4:  Cost 0.020683 | Validation Accuracy 0.616400\n",
      "Epoch 41, CIFAR-10 Batch 5:  Cost 0.047304 | Validation Accuracy 0.576800\n",
      "Epoch 42, CIFAR-10 Batch 1:  Cost 0.023936 | Validation Accuracy 0.613600\n",
      "Epoch 42, CIFAR-10 Batch 2:  Cost 0.019304 | Validation Accuracy 0.586200\n",
      "Epoch 42, CIFAR-10 Batch 3:  Cost 0.037608 | Validation Accuracy 0.605200\n",
      "Epoch 42, CIFAR-10 Batch 4:  Cost 0.025443 | Validation Accuracy 0.613000\n",
      "Epoch 42, CIFAR-10 Batch 5:  Cost 0.030678 | Validation Accuracy 0.590600\n",
      "Epoch 43, CIFAR-10 Batch 1:  Cost 0.034129 | Validation Accuracy 0.609200\n",
      "Epoch 43, CIFAR-10 Batch 2:  Cost 0.032118 | Validation Accuracy 0.582800\n",
      "Epoch 43, CIFAR-10 Batch 3:  Cost 0.030158 | Validation Accuracy 0.611400\n",
      "Epoch 43, CIFAR-10 Batch 4:  Cost 0.027345 | Validation Accuracy 0.604400\n",
      "Epoch 43, CIFAR-10 Batch 5:  Cost 0.031000 | Validation Accuracy 0.594600\n",
      "Epoch 44, CIFAR-10 Batch 1:  Cost 0.039478 | Validation Accuracy 0.598800\n",
      "Epoch 44, CIFAR-10 Batch 2:  Cost 0.043879 | Validation Accuracy 0.568400\n",
      "Epoch 44, CIFAR-10 Batch 3:  Cost 0.031173 | Validation Accuracy 0.610800\n",
      "Epoch 44, CIFAR-10 Batch 4:  Cost 0.023874 | Validation Accuracy 0.585000\n",
      "Epoch 44, CIFAR-10 Batch 5:  Cost 0.057867 | Validation Accuracy 0.588200\n",
      "Epoch 45, CIFAR-10 Batch 1:  Cost 0.050570 | Validation Accuracy 0.599800\n",
      "Epoch 45, CIFAR-10 Batch 2:  Cost 0.051029 | Validation Accuracy 0.559600\n",
      "Epoch 45, CIFAR-10 Batch 3:  Cost 0.050780 | Validation Accuracy 0.594200\n",
      "Epoch 45, CIFAR-10 Batch 4:  Cost 0.045385 | Validation Accuracy 0.570600\n",
      "Epoch 45, CIFAR-10 Batch 5:  Cost 0.054547 | Validation Accuracy 0.597600\n",
      "Epoch 46, CIFAR-10 Batch 1:  Cost 0.035983 | Validation Accuracy 0.610400\n",
      "Epoch 46, CIFAR-10 Batch 2:  Cost 0.024253 | Validation Accuracy 0.581200\n",
      "Epoch 46, CIFAR-10 Batch 3:  Cost 0.023913 | Validation Accuracy 0.594000\n",
      "Epoch 46, CIFAR-10 Batch 4:  Cost 0.029192 | Validation Accuracy 0.589000\n",
      "Epoch 46, CIFAR-10 Batch 5:  Cost 0.045135 | Validation Accuracy 0.602400\n",
      "Epoch 47, CIFAR-10 Batch 1:  Cost 0.048677 | Validation Accuracy 0.608200\n",
      "Epoch 47, CIFAR-10 Batch 2:  Cost 0.022752 | Validation Accuracy 0.589200\n",
      "Epoch 47, CIFAR-10 Batch 3:  Cost 0.026757 | Validation Accuracy 0.597800\n",
      "Epoch 47, CIFAR-10 Batch 4:  Cost 0.020606 | Validation Accuracy 0.597600\n",
      "Epoch 47, CIFAR-10 Batch 5:  Cost 0.037342 | Validation Accuracy 0.597600\n",
      "Epoch 48, CIFAR-10 Batch 1:  Cost 0.039103 | Validation Accuracy 0.586200\n",
      "Epoch 48, CIFAR-10 Batch 2:  Cost 0.024142 | Validation Accuracy 0.599000\n",
      "Epoch 48, CIFAR-10 Batch 3:  Cost 0.013789 | Validation Accuracy 0.602400\n",
      "Epoch 48, CIFAR-10 Batch 4:  Cost 0.009660 | Validation Accuracy 0.612200\n",
      "Epoch 48, CIFAR-10 Batch 5:  Cost 0.032014 | Validation Accuracy 0.604800\n",
      "Epoch 49, CIFAR-10 Batch 1:  Cost 0.029815 | Validation Accuracy 0.584200\n",
      "Epoch 49, CIFAR-10 Batch 2:  Cost 0.020885 | Validation Accuracy 0.587600\n",
      "Epoch 49, CIFAR-10 Batch 3:  Cost 0.013945 | Validation Accuracy 0.609800\n",
      "Epoch 49, CIFAR-10 Batch 4:  Cost 0.010942 | Validation Accuracy 0.609400\n",
      "Epoch 49, CIFAR-10 Batch 5:  Cost 0.021866 | Validation Accuracy 0.594200\n",
      "Epoch 50, CIFAR-10 Batch 1:  Cost 0.027329 | Validation Accuracy 0.574800\n",
      "Epoch 50, CIFAR-10 Batch 2:  Cost 0.018395 | Validation Accuracy 0.580600\n",
      "Epoch 50, CIFAR-10 Batch 3:  Cost 0.015343 | Validation Accuracy 0.609200\n",
      "Epoch 50, CIFAR-10 Batch 4:  Cost 0.011213 | Validation Accuracy 0.609800\n",
      "Epoch 50, CIFAR-10 Batch 5:  Cost 0.032836 | Validation Accuracy 0.586400\n"
     ]
    }
   ],
   "source": [
    "\"\"\"\n",
    "DON'T MODIFY ANYTHING IN THIS CELL\n",
    "\"\"\"\n",
    "save_model_path = './image_classification'\n",
    "\n",
    "print('Training...')\n",
    "with tf.Session() as sess:\n",
    "    # Initializing the variables\n",
    "    sess.run(tf.global_variables_initializer())\n",
    "    \n",
    "    # Training cycle\n",
    "    for epoch in range(epochs):\n",
    "        # Loop over all batches\n",
    "        n_batches = 5\n",
    "        for batch_i in range(1, n_batches + 1):\n",
    "            for batch_features, batch_labels in helper.load_preprocess_training_batch(batch_i, batch_size):\n",
    "                train_neural_network(sess, optimizer, keep_probability, batch_features, batch_labels)\n",
    "            print('Epoch {:>2}, CIFAR-10 Batch {}:  '.format(epoch + 1, batch_i), end='')\n",
    "            print_stats(sess, batch_features, batch_labels, cost, accuracy)\n",
    "            \n",
    "    # Save Model\n",
    "    saver = tf.train.Saver()\n",
    "    save_path = saver.save(sess, save_model_path)"
   ]
  },
  {
   "cell_type": "markdown",
   "metadata": {
    "deletable": true,
    "editable": true
   },
   "source": [
    "# Checkpoint\n",
    "The model has been saved to disk.\n",
    "## Test Model\n",
    "Test your model against the test dataset.  This will be your final accuracy. You should have an accuracy greater than 50%. If you don't, keep tweaking the model architecture and parameters."
   ]
  },
  {
   "cell_type": "code",
   "execution_count": 22,
   "metadata": {
    "collapsed": false,
    "deletable": true,
    "editable": true
   },
   "outputs": [
    {
     "name": "stdout",
     "output_type": "stream",
     "text": [
      "Testing Accuracy: 0.58076171875\n",
      "\n"
     ]
    },
    {
     "data": {
      "image/png": "[encoded data removed]",
      "text/plain": [
       "<matplotlib.figure.Figure at 0x7f55e51f9978>"
      ]
     },
     "metadata": {
      "image/png": {
       "height": 319,
       "width": 355
      }
     },
     "output_type": "display_data"
    }
   ],
   "source": [
    "\"\"\"\n",
    "DON'T MODIFY ANYTHING IN THIS CELL\n",
    "\"\"\"\n",
    "%matplotlib inline\n",
    "%config InlineBackend.figure_format = 'retina'\n",
    "\n",
    "import tensorflow as tf\n",
    "import pickle\n",
    "import helper\n",
    "import random\n",
    "\n",
    "# Set batch size if not already set\n",
    "try:\n",
    "    if batch_size:\n",
    "        pass\n",
    "except NameError:\n",
    "    batch_size = 64\n",
    "\n",
    "save_model_path = './image_classification'\n",
    "n_samples = 4\n",
    "top_n_predictions = 3\n",
    "\n",
    "def test_model():\n",
    "    \"\"\"\n",
    "    Test the saved model against the test dataset\n",
    "    \"\"\"\n",
    "\n",
    "    test_features, test_labels = pickle.load(open('preprocess_training.p', mode='rb'))\n",
    "    loaded_graph = tf.Graph()\n",
    "\n",
    "    with tf.Session(graph=loaded_graph) as sess:\n",
    "        # Load model\n",
    "        loader = tf.train.import_meta_graph(save_model_path + '.meta')\n",
    "        loader.restore(sess, save_model_path)\n",
    "\n",
    "        # Get Tensors from loaded model\n",
    "        loaded_x = loaded_graph.get_tensor_by_name('x:0')\n",
    "        loaded_y = loaded_graph.get_tensor_by_name('y:0')\n",
    "        loaded_keep_prob = loaded_graph.get_tensor_by_name('keep_prob:0')\n",
    "        loaded_logits = loaded_graph.get_tensor_by_name('logits:0')\n",
    "        loaded_acc = loaded_graph.get_tensor_by_name('accuracy:0')\n",
    "        \n",
    "        # Get accuracy in batches for memory limitations\n",
    "        test_batch_acc_total = 0\n",
    "        test_batch_count = 0\n",
    "        \n",
    "        for train_feature_batch, train_label_batch in helper.batch_features_labels(test_features, test_labels, batch_size):\n",
    "            test_batch_acc_total += sess.run(\n",
    "                loaded_acc,\n",
    "                feed_dict={loaded_x: train_feature_batch, loaded_y: train_label_batch, loaded_keep_prob: 1.0})\n",
    "            test_batch_count += 1\n",
    "\n",
    "        print('Testing Accuracy: {}\\n'.format(test_batch_acc_total/test_batch_count))\n",
    "\n",
    "        # Print Random Samples\n",
    "        random_test_features, random_test_labels = tuple(zip(*random.sample(list(zip(test_features, test_labels)), n_samples)))\n",
    "        random_test_predictions = sess.run(\n",
    "            tf.nn.top_k(tf.nn.softmax(loaded_logits), top_n_predictions),\n",
    "            feed_dict={loaded_x: random_test_features, loaded_y: random_test_labels, loaded_keep_prob: 1.0})\n",
    "        helper.display_image_predictions(random_test_features, random_test_labels, random_test_predictions)\n",
    "\n",
    "\n",
    "test_model()"
   ]
  },
  {
   "cell_type": "markdown",
   "metadata": {
    "deletable": true,
    "editable": true
   },
   "source": [
    "## Why 50-70% Accuracy?\n",
    "You might be wondering why you can't get an accuracy any higher. First things first, 50% isn't bad for a simple CNN.  Pure guessing would get you 10% accuracy. However, you might notice people are getting scores [well above 70%](http://rodrigob.github.io/are_we_there_yet/build/classification_datasets_results.html#43494641522d3130).  That's because we haven't taught you all there is to know about neural networks. We still need to cover a few more techniques.\n",
    "## Submitting This Project\n",
    "When submitting this project, make sure to run all the cells before saving the notebook.  Save the notebook file as \"dlnd_image_classification.ipynb\" and save it as a HTML file under \"File\" -> \"Download as\".  Include the \"helper.py\" and \"problem_unittests.py\" files in your submission."
   ]
  }
 ],
 "metadata": {
  "kernelspec": {
   "display_name": "Python 3",
   "language": "python",
   "name": "python3"
  },
  "language_info": {
   "codemirror_mode": {
    "name": "ipython",
    "version": 3
   },
   "file_extension": ".py",
   "mimetype": "text/x-python",
   "name": "python",
   "nbconvert_exporter": "python",
   "pygments_lexer": "ipython3",
   "version": "3.5.2"
  },
  "widgets": {
   "state": {},
   "version": "1.1.2"
  }
 },
 "nbformat": 4,
 "nbformat_minor": 0
}
