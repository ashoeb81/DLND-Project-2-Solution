{
 "cells": [
  {
   "cell_type": "markdown",
   "metadata": {
    "collapsed": true,
    "deletable": true,
    "editable": true
   },
   "source": [
    "# Image Classification\n",
    "In this project, you'll classify images from the [CIFAR-10 dataset](https://www.cs.toronto.edu/~kriz/cifar.html).  The dataset consists of airplanes, dogs, cats, and other objects. You'll preprocess the images, then train a convolutional neural network on all the samples. The images need to be normalized and the labels need to be one-hot encoded.  You'll get to apply what you learned and build a convolutional, max pooling, dropout, and fully connected layers.  At the end, you'll get to see your neural network's predictions on the sample images.\n",
    "## Get the Data\n",
    "Run the following cell to download the [CIFAR-10 dataset for python](https://www.cs.toronto.edu/~kriz/cifar-10-python.tar.gz)."
   ]
  },
  {
   "cell_type": "code",
   "execution_count": 1,
   "metadata": {
    "collapsed": false,
    "deletable": true,
    "editable": true
   },
   "outputs": [
    {
     "name": "stderr",
     "output_type": "stream",
     "text": [
      "CIFAR-10 Dataset: 171MB [00:22, 7.45MB/s]                              \n"
     ]
    },
    {
     "name": "stdout",
     "output_type": "stream",
     "text": [
      "All files found!\n"
     ]
    }
   ],
   "source": [
    "\"\"\"\n",
    "DON'T MODIFY ANYTHING IN THIS CELL THAT IS BELOW THIS LINE\n",
    "\"\"\"\n",
    "from urllib.request import urlretrieve\n",
    "from os.path import isfile, isdir\n",
    "from tqdm import tqdm\n",
    "import problem_unittests as tests\n",
    "import tarfile\n",
    "\n",
    "cifar10_dataset_folder_path = 'cifar-10-batches-py'\n",
    "\n",
    "class DLProgress(tqdm):\n",
    "    last_block = 0\n",
    "\n",
    "    def hook(self, block_num=1, block_size=1, total_size=None):\n",
    "        self.total = total_size\n",
    "        self.update((block_num - self.last_block) * block_size)\n",
    "        self.last_block = block_num\n",
    "\n",
    "if not isfile('cifar-10-python.tar.gz'):\n",
    "    with DLProgress(unit='B', unit_scale=True, miniters=1, desc='CIFAR-10 Dataset') as pbar:\n",
    "        urlretrieve(\n",
    "            'https://www.cs.toronto.edu/~kriz/cifar-10-python.tar.gz',\n",
    "            'cifar-10-python.tar.gz',\n",
    "            pbar.hook)\n",
    "\n",
    "if not isdir(cifar10_dataset_folder_path):\n",
    "    with tarfile.open('cifar-10-python.tar.gz') as tar:\n",
    "        tar.extractall()\n",
    "        tar.close()\n",
    "\n",
    "\n",
    "tests.test_folder_path(cifar10_dataset_folder_path)"
   ]
  },
  {
   "cell_type": "markdown",
   "metadata": {
    "deletable": true,
    "editable": true
   },
   "source": [
    "## Explore the Data\n",
    "The dataset is broken into batches to prevent your machine from running out of memory.  The CIFAR-10 dataset consists of 5 batches, named `data_batch_1`, `data_batch_2`, etc.. Each batch contains the labels and images that are one of the following:\n",
    "* airplane\n",
    "* automobile\n",
    "* bird\n",
    "* cat\n",
    "* deer\n",
    "* dog\n",
    "* frog\n",
    "* horse\n",
    "* ship\n",
    "* truck\n",
    "\n",
    "Understanding a dataset is part of making predictions on the data.  Play around with the code cell below by changing the `batch_id` and `sample_id`. The `batch_id` is the id for a batch (1-5). The `sample_id` is the id for a image and label pair in the batch.\n",
    "\n",
    "Ask yourself \"What are all possible labels?\", \"What is the range of values for the image data?\", \"Are the labels in order or random?\".  Answers to questions like these will help you preprocess the data and end up with better predictions."
   ]
  },
  {
   "cell_type": "code",
   "execution_count": 2,
   "metadata": {
    "collapsed": false,
    "deletable": true,
    "editable": true
   },
   "outputs": [
    {
     "name": "stdout",
     "output_type": "stream",
     "text": [
      "\n",
      "Stats of batch 2:\n",
      "Samples: 10000\n",
      "Label Counts: {0: 984, 1: 1007, 2: 1010, 3: 995, 4: 1010, 5: 988, 6: 1008, 7: 1026, 8: 987, 9: 985}\n",
      "First 20 Labels: [1, 6, 6, 8, 8, 3, 4, 6, 0, 6, 0, 3, 6, 6, 5, 4, 8, 3, 2, 6]\n",
      "\n",
      "Example of Image 10:\n",
      "Image - Min Value: 4 Max Value: 231\n",
      "Image - Shape: (32, 32, 3)\n",
      "Label - Label Id: 0 Name: airplane\n"
     ]
    },
    {
     "data": {
      "image/png": "[encoded data removed]",
      "text/plain": [
       "<matplotlib.figure.Figure at 0x7f55e51d9be0>"
      ]
     },
     "metadata": {
      "image/png": {
       "height": 250,
       "width": 253
      }
     },
     "output_type": "display_data"
    }
   ],
   "source": [
    "%matplotlib inline\n",
    "%config InlineBackend.figure_format = 'retina'\n",
    "\n",
    "import helper\n",
    "import numpy as np\n",
    "\n",
    "# Explore the dataset\n",
    "batch_id = 2\n",
    "sample_id = 10\n",
    "helper.display_stats(cifar10_dataset_folder_path, batch_id, sample_id)"
   ]
  },
  {
   "cell_type": "markdown",
   "metadata": {
    "deletable": true,
    "editable": true
   },
   "source": [
    "## Implement Preprocess Functions\n",
    "### Normalize\n",
    "In the cell below, implement the `normalize` function to take in image data, `x`, and return it as a normalized Numpy array. The values should be in the range of 0 to 1, inclusive.  The return object should be the same shape as `x`."
   ]
  },
  {
   "cell_type": "code",
   "execution_count": 3,
   "metadata": {
    "collapsed": false,
    "deletable": true,
    "editable": true
   },
   "outputs": [
    {
     "name": "stdout",
     "output_type": "stream",
     "text": [
      "Tests Passed\n"
     ]
    }
   ],
   "source": [
    "def normalize(x):\n",
    "    \"\"\"\n",
    "    Normalize a list of sample image data in the range of 0 to 1\n",
    "    : x: List of image data.  The image shape is (32, 32, 3)\n",
    "    : return: Numpy array of normalize data\n",
    "    \"\"\"\n",
    "    # The image data is 0-255.  To normalize to the range 0-1 \n",
    "    # divide each pixel value by 255.\n",
    "    return x/255.\n",
    "\n",
    "\n",
    "\"\"\"\n",
    "DON'T MODIFY ANYTHING IN THIS CELL THAT IS BELOW THIS LINE\n",
    "\"\"\"\n",
    "tests.test_normalize(normalize)"
   ]
  },
  {
   "cell_type": "markdown",
   "metadata": {
    "deletable": true,
    "editable": true
   },
   "source": [
    "### One-hot encode\n",
    "Just like the previous code cell, you'll be implementing a function for preprocessing.  This time, you'll implement the `one_hot_encode` function. The input, `x`, are a list of labels.  Implement the function to return the list of labels as One-Hot encoded Numpy array.  The possible values for labels are 0 to 9. The one-hot encoding function should return the same encoding for each value between each call to `one_hot_encode`.  Make sure to save the map of encodings outside the function.\n",
    "\n",
    "Hint: Don't reinvent the wheel."
   ]
  },
  {
   "cell_type": "code",
   "execution_count": 4,
   "metadata": {
    "collapsed": false,
    "deletable": true,
    "editable": true
   },
   "outputs": [
    {
     "name": "stdout",
     "output_type": "stream",
     "text": [
      "Tests Passed\n"
     ]
    }
   ],
   "source": [
    "from sklearn.preprocessing import OneHotEncoder\n",
    "\n",
    "def one_hot_encode(x):\n",
    "    \"\"\"\n",
    "    One hot encode a list of sample labels. Return a one-hot encoded vector for each label.\n",
    "    : x: List of sample Labels\n",
    "    : return: Numpy array of one-hot encoded labels\n",
    "    \"\"\"\n",
    "    # Use the OneHotEncoder class from the sklearn package.\n",
    "    # OneHotEncoder takes the number of distinct values in input to be \n",
    "    # transformed as argument.  In our case, that is the number \n",
    "    # of classes which is 10.\n",
    "    one_hot_encoder = OneHotEncoder(10, sparse=False)    \n",
    "    encodings =  one_hot_encoder.fit_transform(\n",
    "        np.array(x).reshape(-1, 1))\n",
    "    return encodings\n",
    "\n",
    "\"\"\"\n",
    "DON'T MODIFY ANYTHING IN THIS CELL THAT IS BELOW THIS LINE\n",
    "\"\"\"\n",
    "tests.test_one_hot_encode(one_hot_encode)"
   ]
  },
  {
   "cell_type": "markdown",
   "metadata": {
    "deletable": true,
    "editable": true
   },
   "source": [
    "### Randomize Data\n",
    "As you saw from exploring the data above, the order of the samples are randomized.  It doesn't hurt to randomize it again, but you don't need to for this dataset."
   ]
  },
  {
   "cell_type": "markdown",
   "metadata": {
    "deletable": true,
    "editable": true
   },
   "source": [
    "## Preprocess all the data and save it\n",
    "Running the code cell below will preprocess all the CIFAR-10 data and save it to file. The code below also uses 10% of the training data for validation."
   ]
  },
  {
   "cell_type": "code",
   "execution_count": 5,
   "metadata": {
    "collapsed": false,
    "deletable": true,
    "editable": true
   },
   "outputs": [],
   "source": [
    "\"\"\"\n",
    "DON'T MODIFY ANYTHING IN THIS CELL\n",
    "\"\"\"\n",
    "# Preprocess Training, Validation, and Testing Data\n",
    "helper.preprocess_and_save_data(cifar10_dataset_folder_path, normalize, one_hot_encode)"
   ]
  },
  {
   "cell_type": "markdown",
   "metadata": {
    "deletable": true,
    "editable": true
   },
   "source": [
    "# Check Point\n",
    "This is your first checkpoint.  If you ever decide to come back to this notebook or have to restart the notebook, you can start from here.  The preprocessed data has been saved to disk."
   ]
  },
  {
   "cell_type": "code",
   "execution_count": 1,
   "metadata": {
    "collapsed": true,
    "deletable": true,
    "editable": true
   },
   "outputs": [],
   "source": [
    "\"\"\"\n",
    "DON'T MODIFY ANYTHING IN THIS CELL\n",
    "\"\"\"\n",
    "import pickle\n",
    "import problem_unittests as tests\n",
    "import helper\n",
    "\n",
    "# Load the Preprocessed Validation data\n",
    "valid_features, valid_labels = pickle.load(open('preprocess_validation.p', mode='rb'))"
   ]
  },
  {
   "cell_type": "markdown",
   "metadata": {
    "deletable": true,
    "editable": true
   },
   "source": [
    "## Build the network\n",
    "For the neural network, you'll build each layer into a function.  Most of the code you've seen has been outside of functions. To test your code more thoroughly, we require that you put each layer in a function.  This allows us to give you better feedback and test for simple mistakes using our unittests before you submit your project.\n",
    "\n",
    ">**Note:** If you're finding it hard to dedicate enough time for this course each week, we've provided a small shortcut to this part of the project. In the next couple of problems, you'll have the option to use classes from the [TensorFlow Layers](https://www.tensorflow.org/api_docs/python/tf/layers) or [TensorFlow Layers (contrib)](https://www.tensorflow.org/api_guides/python/contrib.layers) packages to build each layer, except the layers you build in the \"Convolutional and Max Pooling Layer\" section.  TF Layers is similar to Keras's and TFLearn's abstraction to layers, so it's easy to pickup.\n",
    "\n",
    ">However, if you would like to get the most out of this course, try to solve all the problems _without_ using anything from the TF Layers packages. You **can** still use classes from other packages that happen to have the same name as ones you find in TF Layers! For example, instead of using the TF Layers version of the `conv2d` class, [tf.layers.conv2d](https://www.tensorflow.org/api_docs/python/tf/layers/conv2d), you would want to use the TF Neural Network version of `conv2d`, [tf.nn.conv2d](https://www.tensorflow.org/api_docs/python/tf/nn/conv2d). \n",
    "\n",
    "Let's begin!\n",
    "\n",
    "### Input\n",
    "The neural network needs to read the image data, one-hot encoded labels, and dropout keep probability. Implement the following functions\n",
    "* Implement `neural_net_image_input`\n",
    " * Return a [TF Placeholder](https://www.tensorflow.org/api_docs/python/tf/placeholder)\n",
    " * Set the shape using `image_shape` with batch size set to `None`.\n",
    " * Name the TensorFlow placeholder \"x\" using the TensorFlow `name` parameter in the [TF Placeholder](https://www.tensorflow.org/api_docs/python/tf/placeholder).\n",
    "* Implement `neural_net_label_input`\n",
    " * Return a [TF Placeholder](https://www.tensorflow.org/api_docs/python/tf/placeholder)\n",
    " * Set the shape using `n_classes` with batch size set to `None`.\n",
    " * Name the TensorFlow placeholder \"y\" using the TensorFlow `name` parameter in the [TF Placeholder](https://www.tensorflow.org/api_docs/python/tf/placeholder).\n",
    "* Implement `neural_net_keep_prob_input`\n",
    " * Return a [TF Placeholder](https://www.tensorflow.org/api_docs/python/tf/placeholder) for dropout keep probability.\n",
    " * Name the TensorFlow placeholder \"keep_prob\" using the TensorFlow `name` parameter in the [TF Placeholder](https://www.tensorflow.org/api_docs/python/tf/placeholder).\n",
    "\n",
    "These names will be used at the end of the project to load your saved model.\n",
    "\n",
    "Note: `None` for shapes in TensorFlow allow for a dynamic size."
   ]
  },
  {
   "cell_type": "code",
   "execution_count": 4,
   "metadata": {
    "collapsed": false,
    "deletable": true,
    "editable": true
   },
   "outputs": [
    {
     "name": "stdout",
     "output_type": "stream",
     "text": [
      "Image Input Tests Passed.\n",
      "Label Input Tests Passed.\n",
      "Keep Prob Tests Passed.\n"
     ]
    }
   ],
   "source": [
    "import tensorflow as tf\n",
    "\n",
    "def neural_net_image_input(image_shape):\n",
    "    \"\"\"\n",
    "    Return a Tensor for a bach of image input\n",
    "    : image_shape: Shape of the images\n",
    "    : return: Tensor for image input.\n",
    "    \"\"\"\n",
    "    input = tf.placeholder(tf.float32, shape=[None, image_shape[0], image_shape[1], image_shape[2]], name='x')\n",
    "    return input\n",
    "\n",
    "\n",
    "def neural_net_label_input(n_classes):\n",
    "    \"\"\"\n",
    "    Return a Tensor for a batch of label input\n",
    "    : n_classes: Number of classes\n",
    "    : return: Tensor for label input.\n",
    "    \"\"\"\n",
    "    label = tf.placeholder(tf.int32, shape=[None, n_classes], name='y')\n",
    "    return label\n",
    "\n",
    "\n",
    "def neural_net_keep_prob_input():\n",
    "    \"\"\"\n",
    "    Return a Tensor for keep probability\n",
    "    : return: Tensor for keep probability.\n",
    "    \"\"\"\n",
    "    keep_prob = tf.placeholder(tf.float32, name='keep_prob')\n",
    "    return keep_prob\n",
    "\n",
    "\n",
    "\"\"\"\n",
    "DON'T MODIFY ANYTHING IN THIS CELL THAT IS BELOW THIS LINE\n",
    "\"\"\"\n",
    "tf.reset_default_graph()\n",
    "tests.test_nn_image_inputs(neural_net_image_input)\n",
    "tests.test_nn_label_inputs(neural_net_label_input)\n",
    "tests.test_nn_keep_prob_inputs(neural_net_keep_prob_input)"
   ]
  },
  {
   "cell_type": "markdown",
   "metadata": {
    "deletable": true,
    "editable": true
   },
   "source": [
    "### Convolution and Max Pooling Layer\n",
    "Convolution layers have a lot of success with images. For this code cell, you should implement the function `conv2d_maxpool` to apply convolution then max pooling:\n",
    "* Create the weight and bias using `conv_ksize`, `conv_num_outputs` and the shape of `x_tensor`.\n",
    "* Apply a convolution to `x_tensor` using weight and `conv_strides`.\n",
    " * We recommend you use same padding, but you're welcome to use any padding.\n",
    "* Add bias\n",
    "* Add a nonlinear activation to the convolution.\n",
    "* Apply Max Pooling using `pool_ksize` and `pool_strides`.\n",
    " * We recommend you use same padding, but you're welcome to use any padding.\n",
    "\n",
    "**Note:** You **can't** use [TensorFlow Layers](https://www.tensorflow.org/api_docs/python/tf/layers) or [TensorFlow Layers (contrib)](https://www.tensorflow.org/api_guides/python/contrib.layers) for **this** layer, but you can still use TensorFlow's [Neural Network](https://www.tensorflow.org/api_docs/python/tf/nn) package. You may still use the shortcut option for all the **other** layers."
   ]
  },
  {
   "cell_type": "code",
   "execution_count": 5,
   "metadata": {
    "collapsed": false,
    "deletable": true,
    "editable": true
   },
   "outputs": [
    {
     "name": "stdout",
     "output_type": "stream",
     "text": [
      "Tests Passed\n"
     ]
    }
   ],
   "source": [
    "def conv2d_maxpool(x_tensor, conv_num_outputs, conv_ksize, conv_strides, pool_ksize, pool_strides):\n",
    "    \"\"\"\n",
    "    Apply convolution then max pooling to x_tensor\n",
    "    :param x_tensor: TensorFlow Tensor\n",
    "    :param conv_num_outputs: Number of outputs for the convolutional layer\n",
    "    :param conv_ksize: kernal size 2-D Tuple for the convolutional layer\n",
    "    :param conv_strides: Stride 2-D Tuple for convolution\n",
    "    :param pool_ksize: kernal size 2-D Tuple for pool\n",
    "    :param pool_strides: Stride 2-D Tuple for pool\n",
    "    : return: A tensor that represents convolution and max pooling of x_tensor\n",
    "    \"\"\"\n",
    "    # Get the number of channels in the input tensor.\n",
    "    in_channels = x_tensor.get_shape()[3].value\n",
    "    # Define the weight and bias variable of the convolution.\n",
    "    bias = tf.Variable(tf.random_normal([conv_num_outputs]))\n",
    "    weight = tf.Variable(tf.random_normal([conv_ksize[0], conv_ksize[1], in_channels, conv_num_outputs]))\n",
    "    # Apply the convolution to the input.\n",
    "    output = tf.nn.conv2d(x_tensor, weight, [1, conv_strides[0], conv_strides[1], 1], padding='SAME')\n",
    "    # Add the bias.\n",
    "    output = tf.nn.bias_add(output, bias)\n",
    "    # Apply a the rectified-linear unit nonlinearity.\n",
    "    output = tf.nn.relu(output)\n",
    "    # Perform the max-pooling operation.\n",
    "    output = tf.nn.max_pool(output, [1, pool_ksize[0], pool_ksize[1], 1], [1, pool_strides[0], pool_strides[1], 1],\n",
    "                            padding='SAME')\n",
    "    return output \n",
    "\n",
    "\n",
    "\"\"\"\n",
    "DON'T MODIFY ANYTHING IN THIS CELL THAT IS BELOW THIS LINE\n",
    "\"\"\"\n",
    "tests.test_con_pool(conv2d_maxpool)"
   ]
  },
  {
   "cell_type": "markdown",
   "metadata": {
    "deletable": true,
    "editable": true
   },
   "source": [
    "### Flatten Layer\n",
    "Implement the `flatten` function to change the dimension of `x_tensor` from a 4-D tensor to a 2-D tensor.  The output should be the shape (*Batch Size*, *Flattened Image Size*). Shortcut option: you can use classes from the [TensorFlow Layers](https://www.tensorflow.org/api_docs/python/tf/layers) or [TensorFlow Layers (contrib)](https://www.tensorflow.org/api_guides/python/contrib.layers) packages for this layer. For more of a challenge, only use other TensorFlow packages."
   ]
  },
  {
   "cell_type": "code",
   "execution_count": 6,
   "metadata": {
    "collapsed": false,
    "deletable": true,
    "editable": true
   },
   "outputs": [
    {
     "name": "stdout",
     "output_type": "stream",
     "text": [
      "Tests Passed\n"
     ]
    }
   ],
   "source": [
    "def flatten(x_tensor):\n",
    "    \"\"\"\n",
    "    Flatten x_tensor to (Batch Size, Flattened Image Size)\n",
    "    : x_tensor: A tensor of size (Batch Size, ...), where ... are the image dimensions.\n",
    "    : return: A tensor of size (Batch Size, Flattened Image Size).\n",
    "    \"\"\"\n",
    "    output = tf.contrib.layers.flatten(x_tensor)\n",
    "    return output\n",
    "\n",
    "\n",
    "\"\"\"\n",
    "DON'T MODIFY ANYTHING IN THIS CELL THAT IS BELOW THIS LINE\n",
    "\"\"\"\n",
    "tests.test_flatten(flatten)"
   ]
  },
  {
   "cell_type": "markdown",
   "metadata": {
    "deletable": true,
    "editable": true
   },
   "source": [
    "### Fully-Connected Layer\n",
    "Implement the `fully_conn` function to apply a fully connected layer to `x_tensor` with the shape (*Batch Size*, *num_outputs*). Shortcut option: you can use classes from the [TensorFlow Layers](https://www.tensorflow.org/api_docs/python/tf/layers) or [TensorFlow Layers (contrib)](https://www.tensorflow.org/api_guides/python/contrib.layers) packages for this layer. For more of a challenge, only use other TensorFlow packages."
   ]
  },
  {
   "cell_type": "code",
   "execution_count": 7,
   "metadata": {
    "collapsed": false,
    "deletable": true,
    "editable": true
   },
   "outputs": [
    {
     "name": "stdout",
     "output_type": "stream",
     "text": [
      "Tests Passed\n"
     ]
    }
   ],
   "source": [
    "def fully_conn(x_tensor, num_outputs):\n",
    "    \"\"\"\n",
    "    Apply a fully connected layer to x_tensor using weight and bias\n",
    "    : x_tensor: A 2-D tensor where the first dimension is batch size.\n",
    "    : num_outputs: The number of output that the new tensor should be.\n",
    "    : return: A 2-D tensor where the second dimension is num_outputs.\n",
    "    \"\"\"\n",
    "    # The output of this fully connected layer will be processed by the ReLU nonlinearity.\n",
    "    output = tf.contrib.layers.fully_connected(x_tensor, num_outputs, activation_fn=tf.nn.relu)\n",
    "    return output\n",
    "\n",
    "\n",
    "\"\"\"\n",
    "DON'T MODIFY ANYTHING IN THIS CELL THAT IS BELOW THIS LINE\n",
    "\"\"\"\n",
    "tests.test_fully_conn(fully_conn)"
   ]
  },
  {
   "cell_type": "markdown",
   "metadata": {
    "deletable": true,
    "editable": true
   },
   "source": [
    "### Output Layer\n",
    "Implement the `output` function to apply a fully connected layer to `x_tensor` with the shape (*Batch Size*, *num_outputs*). Shortcut option: you can use classes from the [TensorFlow Layers](https://www.tensorflow.org/api_docs/python/tf/layers) or [TensorFlow Layers (contrib)](https://www.tensorflow.org/api_guides/python/contrib.layers) packages for this layer. For more of a challenge, only use other TensorFlow packages.\n",
    "\n",
    "**Note:** Activation, softmax, or cross entropy should **not** be applied to this."
   ]
  },
  {
   "cell_type": "code",
   "execution_count": 8,
   "metadata": {
    "collapsed": false,
    "deletable": true,
    "editable": true
   },
   "outputs": [
    {
     "name": "stdout",
     "output_type": "stream",
     "text": [
      "Tests Passed\n"
     ]
    }
   ],
   "source": [
    "def output(x_tensor, num_outputs):\n",
    "    \"\"\"\n",
    "    Apply a output layer to x_tensor using weight and bias\n",
    "    : x_tensor: A 2-D tensor where the first dimension is batch size.\n",
    "    : num_outputs: The number of output that the new tensor should be.\n",
    "    : return: A 2-D tensor where the second dimension is num_outputs.\n",
    "    \"\"\"\n",
    "    # The output layer should have not nonlinearity so we set activation_fn argument to None.\n",
    "    output = tf.contrib.layers.fully_connected(x_tensor, num_outputs, activation_fn=None)\n",
    "    return output\n",
    "\n",
    "\n",
    "\"\"\"\n",
    "DON'T MODIFY ANYTHING IN THIS CELL THAT IS BELOW THIS LINE\n",
    "\"\"\"\n",
    "tests.test_output(output)"
   ]
  },
  {
   "cell_type": "markdown",
   "metadata": {
    "deletable": true,
    "editable": true
   },
   "source": [
    "### Create Convolutional Model\n",
    "Implement the function `conv_net` to create a convolutional neural network model. The function takes in a batch of images, `x`, and outputs logits.  Use the layers you created above to create this model:\n",
    "\n",
    "* Apply 1, 2, or 3 Convolution and Max Pool layers\n",
    "* Apply a Flatten Layer\n",
    "* Apply 1, 2, or 3 Fully Connected Layers\n",
    "* Apply an Output Layer\n",
    "* Return the output\n",
    "* Apply [TensorFlow's Dropout](https://www.tensorflow.org/api_docs/python/tf/nn/dropout) to one or more layers in the model using `keep_prob`. "
   ]
  },
  {
   "cell_type": "code",
   "execution_count": 9,
   "metadata": {
    "collapsed": false,
    "deletable": true,
    "editable": true
   },
   "outputs": [
    {
     "name": "stdout",
     "output_type": "stream",
     "text": [
      "Neural Network Built!\n"
     ]
    }
   ],
   "source": [
    "def conv_net(x, keep_prob):\n",
    "    \"\"\"\n",
    "    Create a convolutional neural network model\n",
    "    : x: Placeholder tensor that holds image data.\n",
    "    : keep_prob: Placeholder tensor that hold dropout keep probability.\n",
    "    : return: Tensor that represents logits\n",
    "    \"\"\"\n",
    "    # Apply 2 Convolution and Max Pool layers\n",
    "    net = conv2d_maxpool(x, 16, [3, 3], [1, 1], [2, 2], [2, 2])\n",
    "    net = tf.contrib.layers.batch_norm(net)\n",
    "    net = conv2d_maxpool(net, 32, [3, 3], [1, 1], [2, 2], [2, 2])\n",
    "    net = tf.contrib.layers.batch_norm(net)\n",
    "\n",
    "    # Apply a Flatten Layer\n",
    "    net = flatten(net)\n",
    "\n",
    "    # Apply 2, or 3 Fully Connected Layers with ReLU nonlinearity.\n",
    "    net = fully_conn(net, 256)\n",
    "    net = fully_conn(net, 256)\n",
    "    \n",
    "    # Apply a Dropout layer to the features that will be passed \n",
    "    # onto the output layer\n",
    "    net = tf.nn.dropout(net, keep_prob)\n",
    "\n",
    "    # Apply an Output Layer\n",
    "    net = output(net, 10)\n",
    "    \n",
    "    # Return output\n",
    "    return net\n",
    "\n",
    "\n",
    "\"\"\"\n",
    "DON'T MODIFY ANYTHING IN THIS CELL THAT IS BELOW THIS LINE\n",
    "\"\"\"\n",
    "\n",
    "##############################\n",
    "## Build the Neural Network ##\n",
    "##############################\n",
    "\n",
    "# Remove previous weights, bias, inputs, etc..\n",
    "tf.reset_default_graph()\n",
    "\n",
    "# Inputs\n",
    "x = neural_net_image_input((32, 32, 3))\n",
    "y = neural_net_label_input(10)\n",
    "keep_prob = neural_net_keep_prob_input()\n",
    "\n",
    "# Model\n",
    "logits = conv_net(x, keep_prob)\n",
    "\n",
    "# Name logits Tensor, so that is can be loaded from disk after training\n",
    "logits = tf.identity(logits, name='logits')\n",
    "\n",
    "# Loss and Optimizer\n",
    "cost = tf.reduce_mean(tf.nn.softmax_cross_entropy_with_logits(logits=logits, labels=y))\n",
    "optimizer = tf.train.AdamOptimizer().minimize(cost)\n",
    "\n",
    "# Accuracy\n",
    "correct_pred = tf.equal(tf.argmax(logits, 1), tf.argmax(y, 1))\n",
    "accuracy = tf.reduce_mean(tf.cast(correct_pred, tf.float32), name='accuracy')\n",
    "\n",
    "tests.test_conv_net(conv_net)"
   ]
  },
  {
   "cell_type": "markdown",
   "metadata": {
    "deletable": true,
    "editable": true
   },
   "source": [
    "## Train the Neural Network\n",
    "### Single Optimization\n",
    "Implement the function `train_neural_network` to do a single optimization.  The optimization should use `optimizer` to optimize in `session` with a `feed_dict` of the following:\n",
    "* `x` for image input\n",
    "* `y` for labels\n",
    "* `keep_prob` for keep probability for dropout\n",
    "\n",
    "This function will be called for each batch, so `tf.global_variables_initializer()` has already been called.\n",
    "\n",
    "Note: Nothing needs to be returned. This function is only optimizing the neural network."
   ]
  },
  {
   "cell_type": "code",
   "execution_count": 10,
   "metadata": {
    "collapsed": false,
    "deletable": true,
    "editable": true
   },
   "outputs": [
    {
     "name": "stdout",
     "output_type": "stream",
     "text": [
      "Tests Passed\n"
     ]
    }
   ],
   "source": [
    "def train_neural_network(session, optimizer, keep_probability, feature_batch, label_batch):\n",
    "    \"\"\"\n",
    "    Optimize the session on a batch of images and labels\n",
    "    : session: Current TensorFlow session\n",
    "    : optimizer: TensorFlow optimizer function\n",
    "    : keep_probability: keep probability\n",
    "    : feature_batch: Batch of Numpy image data\n",
    "    : label_batch: Batch of Numpy label data\n",
    "    \"\"\"\n",
    "    session.run(optimizer, feed_dict={x:feature_batch,\n",
    "                                      y:label_batch,\n",
    "                                      keep_prob:keep_probability})\n",
    "\n",
    "\n",
    "\"\"\"\n",
    "DON'T MODIFY ANYTHING IN THIS CELL THAT IS BELOW THIS LINE\n",
    "\"\"\"\n",
    "tests.test_train_nn(train_neural_network)"
   ]
  },
  {
   "cell_type": "markdown",
   "metadata": {
    "deletable": true,
    "editable": true
   },
   "source": [
    "### Show Stats\n",
    "Implement the function `print_stats` to print loss and validation accuracy.  Use the global variables `valid_features` and `valid_labels` to calculate validation accuracy.  Use a keep probability of `1.0` to calculate the loss and validation accuracy."
   ]
  },
  {
   "cell_type": "code",
   "execution_count": 11,
   "metadata": {
    "collapsed": false,
    "deletable": true,
    "editable": true
   },
   "outputs": [],
   "source": [
    "def print_stats(session, feature_batch, label_batch, cost, accuracy):\n",
    "    \"\"\"\n",
    "    Print information about loss and validation accuracy\n",
    "    : session: Current TensorFlow session\n",
    "    : feature_batch: Batch of Numpy image data\n",
    "    : label_batch: Batch of Numpy label data\n",
    "    : cost: TensorFlow cost function\n",
    "    : accuracy: TensorFlow accuracy function\n",
    "    \"\"\"\n",
    "    cost = session.run(cost, feed_dict={x:feature_batch,\n",
    "                                        y:label_batch,\n",
    "                                        keep_prob:1.0})\n",
    "    validation_accuracy = session.run(accuracy, feed_dict={x:valid_features,\n",
    "                                                           y:valid_labels,\n",
    "                                                           keep_prob:1.0})\n",
    "    print('Cost %f | Validation Accuracy %f' % (cost, validation_accuracy))"
   ]
  },
  {
   "cell_type": "markdown",
   "metadata": {
    "deletable": true,
    "editable": true
   },
   "source": [
    "### Hyperparameters\n",
    "Tune the following parameters:\n",
    "* Set `epochs` to the number of iterations until the network stops learning or start overfitting\n",
    "* Set `batch_size` to the highest number that your machine has memory for.  Most people set them to common sizes of memory:\n",
    " * 64\n",
    " * 128\n",
    " * 256\n",
    " * ...\n",
    "* Set `keep_probability` to the probability of keeping a node using dropout"
   ]
  },
  {
   "cell_type": "code",
   "execution_count": 12,
   "metadata": {
    "collapsed": true,
    "deletable": true,
    "editable": true
   },
   "outputs": [],
   "source": [
    "# TODO: Tune Parameters\n",
    "epochs = 50\n",
    "batch_size = 256\n",
    "keep_probability = 0.95"
   ]
  },
  {
   "cell_type": "markdown",
   "metadata": {
    "deletable": true,
    "editable": true
   },
   "source": [
    "### Train on a Single CIFAR-10 Batch\n",
    "Instead of training the neural network on all the CIFAR-10 batches of data, let's use a single batch. This should save time while you iterate on the model to get a better accuracy.  Once the final validation accuracy is 50% or greater, run the model on all the data in the next section."
   ]
  },
  {
   "cell_type": "code",
   "execution_count": 13,
   "metadata": {
    "collapsed": false,
    "deletable": true,
    "editable": true,
    "scrolled": false
   },
   "outputs": [
    {
     "name": "stdout",
     "output_type": "stream",
     "text": [
      "Checking the Training on a Single Batch...\n",
      "Epoch  1, CIFAR-10 Batch 1:  Cost 1.368555 | Validation Accuracy 0.453400\n",
      "Epoch  2, CIFAR-10 Batch 1:  Cost 0.651838 | Validation Accuracy 0.495200\n",
      "Epoch  3, CIFAR-10 Batch 1:  Cost 0.303960 | Validation Accuracy 0.511400\n",
      "Epoch  4, CIFAR-10 Batch 1:  Cost 0.141663 | Validation Accuracy 0.514400\n",
      "Epoch  5, CIFAR-10 Batch 1:  Cost 0.070600 | Validation Accuracy 0.503000\n",
      "Epoch  6, CIFAR-10 Batch 1:  Cost 0.042791 | Validation Accuracy 0.494000\n",
      "Epoch  7, CIFAR-10 Batch 1:  Cost 0.031642 | Validation Accuracy 0.498200\n",
      "Epoch  8, CIFAR-10 Batch 1:  Cost 0.031313 | Validation Accuracy 0.497600\n",
      "Epoch  9, CIFAR-10 Batch 1:  Cost 0.017989 | Validation Accuracy 0.519200\n",
      "Epoch 10, CIFAR-10 Batch 1:  Cost 0.017677 | Validation Accuracy 0.506000\n",
      "Epoch 11, CIFAR-10 Batch 1:  Cost 0.011984 | Validation Accuracy 0.509400\n",
      "Epoch 12, CIFAR-10 Batch 1:  Cost 0.003774 | Validation Accuracy 0.512800\n",
      "Epoch 13, CIFAR-10 Batch 1:  Cost 0.003960 | Validation Accuracy 0.510400\n",
      "Epoch 14, CIFAR-10 Batch 1:  Cost 0.001711 | Validation Accuracy 0.519400\n",
      "Epoch 15, CIFAR-10 Batch 1:  Cost 0.002562 | Validation Accuracy 0.514800\n",
      "Epoch 16, CIFAR-10 Batch 1:  Cost 0.002439 | Validation Accuracy 0.509000\n",
      "Epoch 17, CIFAR-10 Batch 1:  Cost 0.003876 | Validation Accuracy 0.502600\n",
      "Epoch 18, CIFAR-10 Batch 1:  Cost 0.002178 | Validation Accuracy 0.514400\n",
      "Epoch 19, CIFAR-10 Batch 1:  Cost 0.002818 | Validation Accuracy 0.522200\n",
      "Epoch 20, CIFAR-10 Batch 1:  Cost 0.000580 | Validation Accuracy 0.532000\n",
      "Epoch 21, CIFAR-10 Batch 1:  Cost 0.001773 | Validation Accuracy 0.532600\n",
      "Epoch 22, CIFAR-10 Batch 1:  Cost 0.000465 | Validation Accuracy 0.538200\n",
      "Epoch 23, CIFAR-10 Batch 1:  Cost 0.000269 | Validation Accuracy 0.539600\n",
      "Epoch 24, CIFAR-10 Batch 1:  Cost 0.000188 | Validation Accuracy 0.539800\n",
      "Epoch 25, CIFAR-10 Batch 1:  Cost 0.000152 | Validation Accuracy 0.540600\n",
      "Epoch 26, CIFAR-10 Batch 1:  Cost 0.000137 | Validation Accuracy 0.542600\n",
      "Epoch 27, CIFAR-10 Batch 1:  Cost 0.000118 | Validation Accuracy 0.542200\n",
      "Epoch 28, CIFAR-10 Batch 1:  Cost 0.000113 | Validation Accuracy 0.542800\n",
      "Epoch 29, CIFAR-10 Batch 1:  Cost 0.000104 | Validation Accuracy 0.542800\n",
      "Epoch 30, CIFAR-10 Batch 1:  Cost 0.000089 | Validation Accuracy 0.542600\n",
      "Epoch 31, CIFAR-10 Batch 1:  Cost 0.000074 | Validation Accuracy 0.541600\n",
      "Epoch 32, CIFAR-10 Batch 1:  Cost 0.000071 | Validation Accuracy 0.543000\n",
      "Epoch 33, CIFAR-10 Batch 1:  Cost 0.000065 | Validation Accuracy 0.541400\n",
      "Epoch 34, CIFAR-10 Batch 1:  Cost 0.000057 | Validation Accuracy 0.542400\n",
      "Epoch 35, CIFAR-10 Batch 1:  Cost 0.000053 | Validation Accuracy 0.541000\n",
      "Epoch 36, CIFAR-10 Batch 1:  Cost 0.000048 | Validation Accuracy 0.541600\n",
      "Epoch 37, CIFAR-10 Batch 1:  Cost 0.000051 | Validation Accuracy 0.543200\n",
      "Epoch 38, CIFAR-10 Batch 1:  Cost 0.000046 | Validation Accuracy 0.541800\n",
      "Epoch 39, CIFAR-10 Batch 1:  Cost 0.000046 | Validation Accuracy 0.543200\n",
      "Epoch 40, CIFAR-10 Batch 1:  Cost 0.000052 | Validation Accuracy 0.540400\n",
      "Epoch 41, CIFAR-10 Batch 1:  Cost 0.000038 | Validation Accuracy 0.542600\n",
      "Epoch 42, CIFAR-10 Batch 1:  Cost 0.000035 | Validation Accuracy 0.542800\n",
      "Epoch 43, CIFAR-10 Batch 1:  Cost 0.000032 | Validation Accuracy 0.543600\n",
      "Epoch 44, CIFAR-10 Batch 1:  Cost 0.000032 | Validation Accuracy 0.542000\n",
      "Epoch 45, CIFAR-10 Batch 1:  Cost 0.000030 | Validation Accuracy 0.542000\n",
      "Epoch 46, CIFAR-10 Batch 1:  Cost 0.000028 | Validation Accuracy 0.542400\n",
      "Epoch 47, CIFAR-10 Batch 1:  Cost 0.000026 | Validation Accuracy 0.541400\n",
      "Epoch 48, CIFAR-10 Batch 1:  Cost 0.000024 | Validation Accuracy 0.542400\n",
      "Epoch 49, CIFAR-10 Batch 1:  Cost 0.000023 | Validation Accuracy 0.542800\n",
      "Epoch 50, CIFAR-10 Batch 1:  Cost 0.000025 | Validation Accuracy 0.544000\n"
     ]
    }
   ],
   "source": [
    "\"\"\"\n",
    "DON'T MODIFY ANYTHING IN THIS CELL\n",
    "\"\"\"\n",
    "print('Checking the Training on a Single Batch...')\n",
    "with tf.Session() as sess:\n",
    "    # Initializing the variables\n",
    "    sess.run(tf.global_variables_initializer())\n",
    "    \n",
    "    # Training cycle\n",
    "    for epoch in range(epochs):\n",
    "        batch_i = 1\n",
    "        for batch_features, batch_labels in helper.load_preprocess_training_batch(batch_i, batch_size):\n",
    "            train_neural_network(sess, optimizer, keep_probability, batch_features, batch_labels)\n",
    "        print('Epoch {:>2}, CIFAR-10 Batch {}:  '.format(epoch + 1, batch_i), end='')\n",
    "        print_stats(sess, batch_features, batch_labels, cost, accuracy)"
   ]
  },
  {
   "cell_type": "markdown",
   "metadata": {
    "deletable": true,
    "editable": true
   },
   "source": [
    "### Fully Train the Model\n",
    "Now that you got a good accuracy with a single CIFAR-10 batch, try it with all five batches."
   ]
  },
  {
   "cell_type": "code",
   "execution_count": 14,
   "metadata": {
    "collapsed": false,
    "deletable": true,
    "editable": true,
    "scrolled": false
   },
   "outputs": [
    {
     "name": "stdout",
     "output_type": "stream",
     "text": [
      "Training...\n",
      "Epoch  1, CIFAR-10 Batch 1:  Cost 1.400854 | Validation Accuracy 0.458400\n",
      "Epoch  1, CIFAR-10 Batch 2:  Cost 1.087736 | Validation Accuracy 0.492200\n",
      "Epoch  1, CIFAR-10 Batch 3:  Cost 0.955746 | Validation Accuracy 0.520800\n",
      "Epoch  1, CIFAR-10 Batch 4:  Cost 0.949714 | Validation Accuracy 0.555400\n",
      "Epoch  1, CIFAR-10 Batch 5:  Cost 1.020678 | Validation Accuracy 0.564000\n",
      "Epoch  2, CIFAR-10 Batch 1:  Cost 0.690251 | Validation Accuracy 0.566000\n",
      "Epoch  2, CIFAR-10 Batch 2:  Cost 0.455134 | Validation Accuracy 0.568000\n",
      "Epoch  2, CIFAR-10 Batch 3:  Cost 0.324868 | Validation Accuracy 0.583000\n",
      "Epoch  2, CIFAR-10 Batch 4:  Cost 0.403687 | Validation Accuracy 0.590600\n",
      "Epoch  2, CIFAR-10 Batch 5:  Cost 0.373626 | Validation Accuracy 0.603800\n",
      "Epoch  3, CIFAR-10 Batch 1:  Cost 0.358861 | Validation Accuracy 0.601600\n",
      "Epoch  3, CIFAR-10 Batch 2:  Cost 0.168450 | Validation Accuracy 0.590600\n",
      "Epoch  3, CIFAR-10 Batch 3:  Cost 0.174210 | Validation Accuracy 0.610000\n",
      "Epoch  3, CIFAR-10 Batch 4:  Cost 0.174565 | Validation Accuracy 0.606400\n",
      "Epoch  3, CIFAR-10 Batch 5:  Cost 0.152336 | Validation Accuracy 0.619200\n",
      "Epoch  4, CIFAR-10 Batch 1:  Cost 0.163980 | Validation Accuracy 0.610600\n",
      "Epoch  4, CIFAR-10 Batch 2:  Cost 0.075031 | Validation Accuracy 0.606400\n",
      "Epoch  4, CIFAR-10 Batch 3:  Cost 0.085355 | Validation Accuracy 0.612400\n",
      "Epoch  4, CIFAR-10 Batch 4:  Cost 0.095234 | Validation Accuracy 0.620600\n",
      "Epoch  4, CIFAR-10 Batch 5:  Cost 0.074078 | Validation Accuracy 0.622200\n",
      "Epoch  5, CIFAR-10 Batch 1:  Cost 0.081226 | Validation Accuracy 0.622800\n",
      "Epoch  5, CIFAR-10 Batch 2:  Cost 0.034687 | Validation Accuracy 0.606600\n",
      "Epoch  5, CIFAR-10 Batch 3:  Cost 0.050146 | Validation Accuracy 0.625400\n",
      "Epoch  5, CIFAR-10 Batch 4:  Cost 0.041991 | Validation Accuracy 0.618200\n",
      "Epoch  5, CIFAR-10 Batch 5:  Cost 0.039432 | Validation Accuracy 0.623800\n",
      "Epoch  6, CIFAR-10 Batch 1:  Cost 0.055646 | Validation Accuracy 0.622600\n",
      "Epoch  6, CIFAR-10 Batch 2:  Cost 0.021643 | Validation Accuracy 0.599000\n",
      "Epoch  6, CIFAR-10 Batch 3:  Cost 0.040050 | Validation Accuracy 0.606400\n",
      "Epoch  6, CIFAR-10 Batch 4:  Cost 0.032237 | Validation Accuracy 0.614200\n",
      "Epoch  6, CIFAR-10 Batch 5:  Cost 0.023010 | Validation Accuracy 0.620600\n",
      "Epoch  7, CIFAR-10 Batch 1:  Cost 0.038709 | Validation Accuracy 0.625200\n",
      "Epoch  7, CIFAR-10 Batch 2:  Cost 0.017431 | Validation Accuracy 0.619400\n",
      "Epoch  7, CIFAR-10 Batch 3:  Cost 0.021319 | Validation Accuracy 0.597200\n",
      "Epoch  7, CIFAR-10 Batch 4:  Cost 0.033752 | Validation Accuracy 0.611200\n",
      "Epoch  7, CIFAR-10 Batch 5:  Cost 0.016564 | Validation Accuracy 0.615200\n",
      "Epoch  8, CIFAR-10 Batch 1:  Cost 0.022832 | Validation Accuracy 0.608200\n",
      "Epoch  8, CIFAR-10 Batch 2:  Cost 0.017029 | Validation Accuracy 0.591600\n",
      "Epoch  8, CIFAR-10 Batch 3:  Cost 0.016773 | Validation Accuracy 0.609000\n",
      "Epoch  8, CIFAR-10 Batch 4:  Cost 0.013833 | Validation Accuracy 0.600000\n",
      "Epoch  8, CIFAR-10 Batch 5:  Cost 0.011652 | Validation Accuracy 0.623800\n",
      "Epoch  9, CIFAR-10 Batch 1:  Cost 0.015030 | Validation Accuracy 0.600600\n",
      "Epoch  9, CIFAR-10 Batch 2:  Cost 0.005053 | Validation Accuracy 0.616600\n",
      "Epoch  9, CIFAR-10 Batch 3:  Cost 0.007727 | Validation Accuracy 0.619000\n",
      "Epoch  9, CIFAR-10 Batch 4:  Cost 0.014906 | Validation Accuracy 0.618000\n",
      "Epoch  9, CIFAR-10 Batch 5:  Cost 0.016443 | Validation Accuracy 0.615400\n",
      "Epoch 10, CIFAR-10 Batch 1:  Cost 0.016174 | Validation Accuracy 0.615200\n",
      "Epoch 10, CIFAR-10 Batch 2:  Cost 0.005866 | Validation Accuracy 0.606400\n",
      "Epoch 10, CIFAR-10 Batch 3:  Cost 0.009967 | Validation Accuracy 0.610200\n",
      "Epoch 10, CIFAR-10 Batch 4:  Cost 0.004936 | Validation Accuracy 0.619200\n",
      "Epoch 10, CIFAR-10 Batch 5:  Cost 0.005083 | Validation Accuracy 0.615600\n",
      "Epoch 11, CIFAR-10 Batch 1:  Cost 0.008694 | Validation Accuracy 0.606200\n",
      "Epoch 11, CIFAR-10 Batch 2:  Cost 0.009632 | Validation Accuracy 0.609200\n",
      "Epoch 11, CIFAR-10 Batch 3:  Cost 0.006271 | Validation Accuracy 0.603600\n",
      "Epoch 11, CIFAR-10 Batch 4:  Cost 0.004661 | Validation Accuracy 0.623200\n",
      "Epoch 11, CIFAR-10 Batch 5:  Cost 0.005866 | Validation Accuracy 0.615400\n",
      "Epoch 12, CIFAR-10 Batch 1:  Cost 0.005504 | Validation Accuracy 0.618800\n",
      "Epoch 12, CIFAR-10 Batch 2:  Cost 0.003047 | Validation Accuracy 0.610800\n",
      "Epoch 12, CIFAR-10 Batch 3:  Cost 0.003744 | Validation Accuracy 0.621000\n",
      "Epoch 12, CIFAR-10 Batch 4:  Cost 0.013108 | Validation Accuracy 0.622800\n",
      "Epoch 12, CIFAR-10 Batch 5:  Cost 0.004867 | Validation Accuracy 0.621000\n",
      "Epoch 13, CIFAR-10 Batch 1:  Cost 0.006500 | Validation Accuracy 0.624400\n",
      "Epoch 13, CIFAR-10 Batch 2:  Cost 0.001520 | Validation Accuracy 0.619200\n",
      "Epoch 13, CIFAR-10 Batch 3:  Cost 0.004384 | Validation Accuracy 0.631000\n",
      "Epoch 13, CIFAR-10 Batch 4:  Cost 0.002691 | Validation Accuracy 0.622400\n",
      "Epoch 13, CIFAR-10 Batch 5:  Cost 0.002545 | Validation Accuracy 0.623800\n",
      "Epoch 14, CIFAR-10 Batch 1:  Cost 0.003680 | Validation Accuracy 0.621200\n",
      "Epoch 14, CIFAR-10 Batch 2:  Cost 0.002162 | Validation Accuracy 0.622200\n",
      "Epoch 14, CIFAR-10 Batch 3:  Cost 0.001035 | Validation Accuracy 0.624200\n",
      "Epoch 14, CIFAR-10 Batch 4:  Cost 0.002309 | Validation Accuracy 0.615400\n",
      "Epoch 14, CIFAR-10 Batch 5:  Cost 0.002517 | Validation Accuracy 0.619600\n",
      "Epoch 15, CIFAR-10 Batch 1:  Cost 0.002788 | Validation Accuracy 0.629000\n",
      "Epoch 15, CIFAR-10 Batch 2:  Cost 0.000704 | Validation Accuracy 0.615200\n",
      "Epoch 15, CIFAR-10 Batch 3:  Cost 0.004558 | Validation Accuracy 0.625400\n",
      "Epoch 15, CIFAR-10 Batch 4:  Cost 0.000934 | Validation Accuracy 0.628200\n",
      "Epoch 15, CIFAR-10 Batch 5:  Cost 0.001147 | Validation Accuracy 0.625400\n",
      "Epoch 16, CIFAR-10 Batch 1:  Cost 0.001727 | Validation Accuracy 0.625800\n",
      "Epoch 16, CIFAR-10 Batch 2:  Cost 0.000885 | Validation Accuracy 0.620600\n",
      "Epoch 16, CIFAR-10 Batch 3:  Cost 0.001340 | Validation Accuracy 0.624800\n",
      "Epoch 16, CIFAR-10 Batch 4:  Cost 0.001870 | Validation Accuracy 0.617000\n",
      "Epoch 16, CIFAR-10 Batch 5:  Cost 0.000596 | Validation Accuracy 0.623800\n",
      "Epoch 17, CIFAR-10 Batch 1:  Cost 0.002390 | Validation Accuracy 0.621800\n",
      "Epoch 17, CIFAR-10 Batch 2:  Cost 0.001630 | Validation Accuracy 0.617400\n",
      "Epoch 17, CIFAR-10 Batch 3:  Cost 0.002149 | Validation Accuracy 0.624800\n",
      "Epoch 17, CIFAR-10 Batch 4:  Cost 0.002235 | Validation Accuracy 0.624800\n",
      "Epoch 17, CIFAR-10 Batch 5:  Cost 0.002163 | Validation Accuracy 0.618000\n",
      "Epoch 18, CIFAR-10 Batch 1:  Cost 0.001348 | Validation Accuracy 0.622000\n",
      "Epoch 18, CIFAR-10 Batch 2:  Cost 0.000912 | Validation Accuracy 0.627400\n",
      "Epoch 18, CIFAR-10 Batch 3:  Cost 0.001027 | Validation Accuracy 0.622000\n",
      "Epoch 18, CIFAR-10 Batch 4:  Cost 0.001821 | Validation Accuracy 0.623600\n",
      "Epoch 18, CIFAR-10 Batch 5:  Cost 0.001406 | Validation Accuracy 0.624800\n",
      "Epoch 19, CIFAR-10 Batch 1:  Cost 0.001158 | Validation Accuracy 0.614800\n",
      "Epoch 19, CIFAR-10 Batch 2:  Cost 0.002580 | Validation Accuracy 0.626600\n",
      "Epoch 19, CIFAR-10 Batch 3:  Cost 0.000805 | Validation Accuracy 0.629000\n",
      "Epoch 19, CIFAR-10 Batch 4:  Cost 0.001269 | Validation Accuracy 0.621800\n",
      "Epoch 19, CIFAR-10 Batch 5:  Cost 0.001960 | Validation Accuracy 0.624000\n",
      "Epoch 20, CIFAR-10 Batch 1:  Cost 0.000961 | Validation Accuracy 0.625000\n",
      "Epoch 20, CIFAR-10 Batch 2:  Cost 0.000418 | Validation Accuracy 0.627000\n",
      "Epoch 20, CIFAR-10 Batch 3:  Cost 0.000461 | Validation Accuracy 0.618600\n",
      "Epoch 20, CIFAR-10 Batch 4:  Cost 0.000509 | Validation Accuracy 0.619000\n",
      "Epoch 20, CIFAR-10 Batch 5:  Cost 0.000764 | Validation Accuracy 0.623400\n",
      "Epoch 21, CIFAR-10 Batch 1:  Cost 0.000660 | Validation Accuracy 0.617600\n",
      "Epoch 21, CIFAR-10 Batch 2:  Cost 0.000210 | Validation Accuracy 0.629600\n",
      "Epoch 21, CIFAR-10 Batch 3:  Cost 0.003390 | Validation Accuracy 0.619600\n",
      "Epoch 21, CIFAR-10 Batch 4:  Cost 0.002367 | Validation Accuracy 0.618600\n",
      "Epoch 21, CIFAR-10 Batch 5:  Cost 0.000477 | Validation Accuracy 0.624800\n",
      "Epoch 22, CIFAR-10 Batch 1:  Cost 0.000750 | Validation Accuracy 0.628800\n",
      "Epoch 22, CIFAR-10 Batch 2:  Cost 0.000371 | Validation Accuracy 0.623600\n",
      "Epoch 22, CIFAR-10 Batch 3:  Cost 0.001477 | Validation Accuracy 0.620400\n",
      "Epoch 22, CIFAR-10 Batch 4:  Cost 0.000847 | Validation Accuracy 0.615600\n",
      "Epoch 22, CIFAR-10 Batch 5:  Cost 0.001318 | Validation Accuracy 0.617600\n",
      "Epoch 23, CIFAR-10 Batch 1:  Cost 0.000670 | Validation Accuracy 0.627200\n",
      "Epoch 23, CIFAR-10 Batch 2:  Cost 0.000588 | Validation Accuracy 0.626800\n",
      "Epoch 23, CIFAR-10 Batch 3:  Cost 0.000611 | Validation Accuracy 0.627000\n",
      "Epoch 23, CIFAR-10 Batch 4:  Cost 0.001418 | Validation Accuracy 0.626000\n",
      "Epoch 23, CIFAR-10 Batch 5:  Cost 0.000197 | Validation Accuracy 0.623200\n",
      "Epoch 24, CIFAR-10 Batch 1:  Cost 0.000842 | Validation Accuracy 0.624200\n",
      "Epoch 24, CIFAR-10 Batch 2:  Cost 0.000615 | Validation Accuracy 0.617800\n",
      "Epoch 24, CIFAR-10 Batch 3:  Cost 0.000251 | Validation Accuracy 0.624000\n",
      "Epoch 24, CIFAR-10 Batch 4:  Cost 0.000692 | Validation Accuracy 0.626000\n",
      "Epoch 24, CIFAR-10 Batch 5:  Cost 0.000654 | Validation Accuracy 0.625000\n",
      "Epoch 25, CIFAR-10 Batch 1:  Cost 0.000237 | Validation Accuracy 0.628000\n",
      "Epoch 25, CIFAR-10 Batch 2:  Cost 0.000117 | Validation Accuracy 0.620800\n",
      "Epoch 25, CIFAR-10 Batch 3:  Cost 0.000359 | Validation Accuracy 0.622200\n",
      "Epoch 25, CIFAR-10 Batch 4:  Cost 0.000501 | Validation Accuracy 0.613400\n",
      "Epoch 25, CIFAR-10 Batch 5:  Cost 0.002094 | Validation Accuracy 0.626000\n",
      "Epoch 26, CIFAR-10 Batch 1:  Cost 0.000227 | Validation Accuracy 0.625800\n",
      "Epoch 26, CIFAR-10 Batch 2:  Cost 0.000156 | Validation Accuracy 0.620600\n",
      "Epoch 26, CIFAR-10 Batch 3:  Cost 0.000551 | Validation Accuracy 0.631600\n",
      "Epoch 26, CIFAR-10 Batch 4:  Cost 0.000903 | Validation Accuracy 0.624000\n",
      "Epoch 26, CIFAR-10 Batch 5:  Cost 0.000754 | Validation Accuracy 0.623600\n",
      "Epoch 27, CIFAR-10 Batch 1:  Cost 0.001263 | Validation Accuracy 0.633800\n",
      "Epoch 27, CIFAR-10 Batch 2:  Cost 0.000030 | Validation Accuracy 0.631400\n",
      "Epoch 27, CIFAR-10 Batch 3:  Cost 0.000672 | Validation Accuracy 0.632400\n",
      "Epoch 27, CIFAR-10 Batch 4:  Cost 0.001399 | Validation Accuracy 0.626200\n",
      "Epoch 27, CIFAR-10 Batch 5:  Cost 0.000770 | Validation Accuracy 0.630600\n",
      "Epoch 28, CIFAR-10 Batch 1:  Cost 0.001753 | Validation Accuracy 0.630800\n",
      "Epoch 28, CIFAR-10 Batch 2:  Cost 0.000010 | Validation Accuracy 0.624800\n",
      "Epoch 28, CIFAR-10 Batch 3:  Cost 0.000248 | Validation Accuracy 0.629400\n",
      "Epoch 28, CIFAR-10 Batch 4:  Cost 0.000289 | Validation Accuracy 0.622400\n",
      "Epoch 28, CIFAR-10 Batch 5:  Cost 0.000444 | Validation Accuracy 0.622200\n",
      "Epoch 29, CIFAR-10 Batch 1:  Cost 0.001329 | Validation Accuracy 0.626000\n",
      "Epoch 29, CIFAR-10 Batch 2:  Cost 0.000336 | Validation Accuracy 0.625600\n",
      "Epoch 29, CIFAR-10 Batch 3:  Cost 0.000119 | Validation Accuracy 0.620600\n",
      "Epoch 29, CIFAR-10 Batch 4:  Cost 0.000480 | Validation Accuracy 0.623000\n",
      "Epoch 29, CIFAR-10 Batch 5:  Cost 0.000508 | Validation Accuracy 0.627000\n",
      "Epoch 30, CIFAR-10 Batch 1:  Cost 0.000741 | Validation Accuracy 0.627400\n",
      "Epoch 30, CIFAR-10 Batch 2:  Cost 0.000197 | Validation Accuracy 0.621400\n",
      "Epoch 30, CIFAR-10 Batch 3:  Cost 0.000141 | Validation Accuracy 0.619000\n",
      "Epoch 30, CIFAR-10 Batch 4:  Cost 0.000460 | Validation Accuracy 0.616800\n",
      "Epoch 30, CIFAR-10 Batch 5:  Cost 0.001927 | Validation Accuracy 0.614600\n",
      "Epoch 31, CIFAR-10 Batch 1:  Cost 0.000688 | Validation Accuracy 0.619400\n",
      "Epoch 31, CIFAR-10 Batch 2:  Cost 0.000078 | Validation Accuracy 0.625800\n",
      "Epoch 31, CIFAR-10 Batch 3:  Cost 0.000232 | Validation Accuracy 0.622400\n",
      "Epoch 31, CIFAR-10 Batch 4:  Cost 0.000515 | Validation Accuracy 0.619800\n",
      "Epoch 31, CIFAR-10 Batch 5:  Cost 0.000501 | Validation Accuracy 0.622400\n",
      "Epoch 32, CIFAR-10 Batch 1:  Cost 0.000268 | Validation Accuracy 0.626000\n",
      "Epoch 32, CIFAR-10 Batch 2:  Cost 0.000392 | Validation Accuracy 0.627200\n",
      "Epoch 32, CIFAR-10 Batch 3:  Cost 0.000786 | Validation Accuracy 0.621600\n",
      "Epoch 32, CIFAR-10 Batch 4:  Cost 0.000387 | Validation Accuracy 0.612200\n",
      "Epoch 32, CIFAR-10 Batch 5:  Cost 0.000260 | Validation Accuracy 0.625400\n",
      "Epoch 33, CIFAR-10 Batch 1:  Cost 0.000117 | Validation Accuracy 0.615200\n",
      "Epoch 33, CIFAR-10 Batch 2:  Cost 0.000055 | Validation Accuracy 0.628000\n",
      "Epoch 33, CIFAR-10 Batch 3:  Cost 0.000505 | Validation Accuracy 0.623000\n",
      "Epoch 33, CIFAR-10 Batch 4:  Cost 0.000450 | Validation Accuracy 0.609600\n",
      "Epoch 33, CIFAR-10 Batch 5:  Cost 0.000161 | Validation Accuracy 0.618800\n",
      "Epoch 34, CIFAR-10 Batch 1:  Cost 0.000202 | Validation Accuracy 0.624400\n",
      "Epoch 34, CIFAR-10 Batch 2:  Cost 0.000120 | Validation Accuracy 0.623800\n",
      "Epoch 34, CIFAR-10 Batch 3:  Cost 0.000516 | Validation Accuracy 0.624600\n",
      "Epoch 34, CIFAR-10 Batch 4:  Cost 0.000490 | Validation Accuracy 0.623000\n",
      "Epoch 34, CIFAR-10 Batch 5:  Cost 0.000110 | Validation Accuracy 0.626600\n",
      "Epoch 35, CIFAR-10 Batch 1:  Cost 0.000464 | Validation Accuracy 0.620800\n",
      "Epoch 35, CIFAR-10 Batch 2:  Cost 0.000021 | Validation Accuracy 0.631600\n",
      "Epoch 35, CIFAR-10 Batch 3:  Cost 0.000414 | Validation Accuracy 0.623600\n",
      "Epoch 35, CIFAR-10 Batch 4:  Cost 0.000079 | Validation Accuracy 0.622800\n",
      "Epoch 35, CIFAR-10 Batch 5:  Cost 0.000418 | Validation Accuracy 0.615000\n",
      "Epoch 36, CIFAR-10 Batch 1:  Cost 0.000077 | Validation Accuracy 0.626200\n",
      "Epoch 36, CIFAR-10 Batch 2:  Cost 0.000309 | Validation Accuracy 0.625600\n",
      "Epoch 36, CIFAR-10 Batch 3:  Cost 0.000403 | Validation Accuracy 0.614000\n",
      "Epoch 36, CIFAR-10 Batch 4:  Cost 0.000085 | Validation Accuracy 0.622400\n",
      "Epoch 36, CIFAR-10 Batch 5:  Cost 0.000935 | Validation Accuracy 0.620800\n",
      "Epoch 37, CIFAR-10 Batch 1:  Cost 0.000485 | Validation Accuracy 0.620600\n",
      "Epoch 37, CIFAR-10 Batch 2:  Cost 0.000343 | Validation Accuracy 0.623800\n",
      "Epoch 37, CIFAR-10 Batch 3:  Cost 0.000086 | Validation Accuracy 0.626800\n",
      "Epoch 37, CIFAR-10 Batch 4:  Cost 0.000035 | Validation Accuracy 0.613600\n",
      "Epoch 37, CIFAR-10 Batch 5:  Cost 0.000448 | Validation Accuracy 0.625000\n",
      "Epoch 38, CIFAR-10 Batch 1:  Cost 0.000206 | Validation Accuracy 0.629000\n",
      "Epoch 38, CIFAR-10 Batch 2:  Cost 0.000079 | Validation Accuracy 0.623800\n",
      "Epoch 38, CIFAR-10 Batch 3:  Cost 0.000058 | Validation Accuracy 0.625800\n",
      "Epoch 38, CIFAR-10 Batch 4:  Cost 0.000181 | Validation Accuracy 0.633600\n",
      "Epoch 38, CIFAR-10 Batch 5:  Cost 0.000303 | Validation Accuracy 0.623400\n",
      "Epoch 39, CIFAR-10 Batch 1:  Cost 0.000846 | Validation Accuracy 0.625800\n",
      "Epoch 39, CIFAR-10 Batch 2:  Cost 0.000057 | Validation Accuracy 0.628000\n",
      "Epoch 39, CIFAR-10 Batch 3:  Cost 0.000385 | Validation Accuracy 0.627200\n",
      "Epoch 39, CIFAR-10 Batch 4:  Cost 0.000033 | Validation Accuracy 0.621600\n",
      "Epoch 39, CIFAR-10 Batch 5:  Cost 0.000344 | Validation Accuracy 0.629400\n",
      "Epoch 40, CIFAR-10 Batch 1:  Cost 0.000095 | Validation Accuracy 0.632400\n",
      "Epoch 40, CIFAR-10 Batch 2:  Cost 0.000128 | Validation Accuracy 0.628200\n",
      "Epoch 40, CIFAR-10 Batch 3:  Cost 0.000395 | Validation Accuracy 0.629400\n",
      "Epoch 40, CIFAR-10 Batch 4:  Cost 0.000045 | Validation Accuracy 0.627200\n",
      "Epoch 40, CIFAR-10 Batch 5:  Cost 0.000544 | Validation Accuracy 0.621000\n",
      "Epoch 41, CIFAR-10 Batch 1:  Cost 0.000171 | Validation Accuracy 0.628600\n",
      "Epoch 41, CIFAR-10 Batch 2:  Cost 0.000086 | Validation Accuracy 0.621800\n",
      "Epoch 41, CIFAR-10 Batch 3:  Cost 0.000842 | Validation Accuracy 0.617400\n",
      "Epoch 41, CIFAR-10 Batch 4:  Cost 0.000041 | Validation Accuracy 0.629000\n",
      "Epoch 41, CIFAR-10 Batch 5:  Cost 0.000369 | Validation Accuracy 0.625600\n",
      "Epoch 42, CIFAR-10 Batch 1:  Cost 0.000388 | Validation Accuracy 0.628400\n",
      "Epoch 42, CIFAR-10 Batch 2:  Cost 0.000162 | Validation Accuracy 0.629600\n",
      "Epoch 42, CIFAR-10 Batch 3:  Cost 0.000366 | Validation Accuracy 0.622000\n",
      "Epoch 42, CIFAR-10 Batch 4:  Cost 0.000188 | Validation Accuracy 0.625200\n",
      "Epoch 42, CIFAR-10 Batch 5:  Cost 0.000680 | Validation Accuracy 0.626000\n",
      "Epoch 43, CIFAR-10 Batch 1:  Cost 0.000698 | Validation Accuracy 0.619800\n",
      "Epoch 43, CIFAR-10 Batch 2:  Cost 0.000013 | Validation Accuracy 0.620000\n",
      "Epoch 43, CIFAR-10 Batch 3:  Cost 0.000262 | Validation Accuracy 0.623200\n",
      "Epoch 43, CIFAR-10 Batch 4:  Cost 0.000523 | Validation Accuracy 0.621400\n",
      "Epoch 43, CIFAR-10 Batch 5:  Cost 0.000483 | Validation Accuracy 0.617200\n",
      "Epoch 44, CIFAR-10 Batch 1:  Cost 0.000675 | Validation Accuracy 0.628000\n",
      "Epoch 44, CIFAR-10 Batch 2:  Cost 0.000035 | Validation Accuracy 0.625000\n",
      "Epoch 44, CIFAR-10 Batch 3:  Cost 0.000749 | Validation Accuracy 0.618600\n",
      "Epoch 44, CIFAR-10 Batch 4:  Cost 0.000198 | Validation Accuracy 0.618400\n",
      "Epoch 44, CIFAR-10 Batch 5:  Cost 0.001596 | Validation Accuracy 0.626400\n",
      "Epoch 45, CIFAR-10 Batch 1:  Cost 0.000565 | Validation Accuracy 0.627200\n",
      "Epoch 45, CIFAR-10 Batch 2:  Cost 0.000371 | Validation Accuracy 0.626200\n",
      "Epoch 45, CIFAR-10 Batch 3:  Cost 0.000640 | Validation Accuracy 0.628200\n",
      "Epoch 45, CIFAR-10 Batch 4:  Cost 0.000007 | Validation Accuracy 0.627800\n",
      "Epoch 45, CIFAR-10 Batch 5:  Cost 0.000119 | Validation Accuracy 0.627400\n",
      "Epoch 46, CIFAR-10 Batch 1:  Cost 0.000615 | Validation Accuracy 0.628600\n",
      "Epoch 46, CIFAR-10 Batch 2:  Cost 0.000107 | Validation Accuracy 0.632200\n",
      "Epoch 46, CIFAR-10 Batch 3:  Cost 0.000126 | Validation Accuracy 0.634800\n",
      "Epoch 46, CIFAR-10 Batch 4:  Cost 0.000011 | Validation Accuracy 0.628400\n",
      "Epoch 46, CIFAR-10 Batch 5:  Cost 0.002243 | Validation Accuracy 0.624200\n",
      "Epoch 47, CIFAR-10 Batch 1:  Cost 0.000408 | Validation Accuracy 0.632200\n",
      "Epoch 47, CIFAR-10 Batch 2:  Cost 0.000169 | Validation Accuracy 0.627000\n",
      "Epoch 47, CIFAR-10 Batch 3:  Cost 0.000120 | Validation Accuracy 0.626400\n",
      "Epoch 47, CIFAR-10 Batch 4:  Cost 0.000015 | Validation Accuracy 0.619400\n",
      "Epoch 47, CIFAR-10 Batch 5:  Cost 0.000794 | Validation Accuracy 0.621200\n",
      "Epoch 48, CIFAR-10 Batch 1:  Cost 0.000488 | Validation Accuracy 0.626400\n",
      "Epoch 48, CIFAR-10 Batch 2:  Cost 0.000223 | Validation Accuracy 0.622400\n",
      "Epoch 48, CIFAR-10 Batch 3:  Cost 0.000242 | Validation Accuracy 0.622200\n",
      "Epoch 48, CIFAR-10 Batch 4:  Cost 0.000019 | Validation Accuracy 0.622400\n",
      "Epoch 48, CIFAR-10 Batch 5:  Cost 0.000075 | Validation Accuracy 0.617800\n",
      "Epoch 49, CIFAR-10 Batch 1:  Cost 0.000146 | Validation Accuracy 0.621400\n",
      "Epoch 49, CIFAR-10 Batch 2:  Cost 0.000211 | Validation Accuracy 0.623000\n",
      "Epoch 49, CIFAR-10 Batch 3:  Cost 0.000153 | Validation Accuracy 0.617200\n",
      "Epoch 49, CIFAR-10 Batch 4:  Cost 0.000282 | Validation Accuracy 0.625200\n",
      "Epoch 49, CIFAR-10 Batch 5:  Cost 0.000065 | Validation Accuracy 0.624600\n",
      "Epoch 50, CIFAR-10 Batch 1:  Cost 0.000094 | Validation Accuracy 0.626800\n",
      "Epoch 50, CIFAR-10 Batch 2:  Cost 0.000550 | Validation Accuracy 0.622400\n",
      "Epoch 50, CIFAR-10 Batch 3:  Cost 0.000018 | Validation Accuracy 0.620400\n",
      "Epoch 50, CIFAR-10 Batch 4:  Cost 0.000009 | Validation Accuracy 0.627000\n",
      "Epoch 50, CIFAR-10 Batch 5:  Cost 0.000023 | Validation Accuracy 0.623400\n"
     ]
    }
   ],
   "source": [
    "\"\"\"\n",
    "DON'T MODIFY ANYTHING IN THIS CELL\n",
    "\"\"\"\n",
    "save_model_path = './image_classification'\n",
    "\n",
    "print('Training...')\n",
    "with tf.Session() as sess:\n",
    "    # Initializing the variables\n",
    "    sess.run(tf.global_variables_initializer())\n",
    "    \n",
    "    # Training cycle\n",
    "    for epoch in range(epochs):\n",
    "        # Loop over all batches\n",
    "        n_batches = 5\n",
    "        for batch_i in range(1, n_batches + 1):\n",
    "            for batch_features, batch_labels in helper.load_preprocess_training_batch(batch_i, batch_size):\n",
    "                train_neural_network(sess, optimizer, keep_probability, batch_features, batch_labels)\n",
    "            print('Epoch {:>2}, CIFAR-10 Batch {}:  '.format(epoch + 1, batch_i), end='')\n",
    "            print_stats(sess, batch_features, batch_labels, cost, accuracy)\n",
    "            \n",
    "    # Save Model\n",
    "    saver = tf.train.Saver()\n",
    "    save_path = saver.save(sess, save_model_path)"
   ]
  },
  {
   "cell_type": "markdown",
   "metadata": {
    "deletable": true,
    "editable": true
   },
   "source": [
    "# Checkpoint\n",
    "The model has been saved to disk.\n",
    "## Test Model\n",
    "Test your model against the test dataset.  This will be your final accuracy. You should have an accuracy greater than 50%. If you don't, keep tweaking the model architecture and parameters."
   ]
  },
  {
   "cell_type": "code",
   "execution_count": 15,
   "metadata": {
    "collapsed": false,
    "deletable": true,
    "editable": true
   },
   "outputs": [
    {
     "name": "stdout",
     "output_type": "stream",
     "text": [
      "Testing Accuracy: 0.633203125\n",
      "\n"
     ]
    },
    {
     "data": {
      "image/png": "[encoded data removed]",
      "text/plain": [
       "<matplotlib.figure.Figure at 0x7f33086f3b38>"
      ]
     },
     "metadata": {
      "image/png": {
       "height": 319,
       "width": 355
      }
     },
     "output_type": "display_data"
    }
   ],
   "source": [
    "\"\"\"\n",
    "DON'T MODIFY ANYTHING IN THIS CELL\n",
    "\"\"\"\n",
    "%matplotlib inline\n",
    "%config InlineBackend.figure_format = 'retina'\n",
    "\n",
    "import tensorflow as tf\n",
    "import pickle\n",
    "import helper\n",
    "import random\n",
    "\n",
    "# Set batch size if not already set\n",
    "try:\n",
    "    if batch_size:\n",
    "        pass\n",
    "except NameError:\n",
    "    batch_size = 64\n",
    "\n",
    "save_model_path = './image_classification'\n",
    "n_samples = 4\n",
    "top_n_predictions = 3\n",
    "\n",
    "def test_model():\n",
    "    \"\"\"\n",
    "    Test the saved model against the test dataset\n",
    "    \"\"\"\n",
    "\n",
    "    test_features, test_labels = pickle.load(open('preprocess_training.p', mode='rb'))\n",
    "    loaded_graph = tf.Graph()\n",
    "\n",
    "    with tf.Session(graph=loaded_graph) as sess:\n",
    "        # Load model\n",
    "        loader = tf.train.import_meta_graph(save_model_path + '.meta')\n",
    "        loader.restore(sess, save_model_path)\n",
    "\n",
    "        # Get Tensors from loaded model\n",
    "        loaded_x = loaded_graph.get_tensor_by_name('x:0')\n",
    "        loaded_y = loaded_graph.get_tensor_by_name('y:0')\n",
    "        loaded_keep_prob = loaded_graph.get_tensor_by_name('keep_prob:0')\n",
    "        loaded_logits = loaded_graph.get_tensor_by_name('logits:0')\n",
    "        loaded_acc = loaded_graph.get_tensor_by_name('accuracy:0')\n",
    "        \n",
    "        # Get accuracy in batches for memory limitations\n",
    "        test_batch_acc_total = 0\n",
    "        test_batch_count = 0\n",
    "        \n",
    "        for train_feature_batch, train_label_batch in helper.batch_features_labels(test_features, test_labels, batch_size):\n",
    "            test_batch_acc_total += sess.run(\n",
    "                loaded_acc,\n",
    "                feed_dict={loaded_x: train_feature_batch, loaded_y: train_label_batch, loaded_keep_prob: 1.0})\n",
    "            test_batch_count += 1\n",
    "\n",
    "        print('Testing Accuracy: {}\\n'.format(test_batch_acc_total/test_batch_count))\n",
    "\n",
    "        # Print Random Samples\n",
    "        random_test_features, random_test_labels = tuple(zip(*random.sample(list(zip(test_features, test_labels)), n_samples)))\n",
    "        random_test_predictions = sess.run(\n",
    "            tf.nn.top_k(tf.nn.softmax(loaded_logits), top_n_predictions),\n",
    "            feed_dict={loaded_x: random_test_features, loaded_y: random_test_labels, loaded_keep_prob: 1.0})\n",
    "        helper.display_image_predictions(random_test_features, random_test_labels, random_test_predictions)\n",
    "\n",
    "\n",
    "test_model()"
   ]
  },
  {
   "cell_type": "markdown",
   "metadata": {
    "deletable": true,
    "editable": true
   },
   "source": [
    "## Why 50-70% Accuracy?\n",
    "You might be wondering why you can't get an accuracy any higher. First things first, 50% isn't bad for a simple CNN.  Pure guessing would get you 10% accuracy. However, you might notice people are getting scores [well above 70%](http://rodrigob.github.io/are_we_there_yet/build/classification_datasets_results.html#43494641522d3130).  That's because we haven't taught you all there is to know about neural networks. We still need to cover a few more techniques.\n",
    "## Submitting This Project\n",
    "When submitting this project, make sure to run all the cells before saving the notebook.  Save the notebook file as \"dlnd_image_classification.ipynb\" and save it as a HTML file under \"File\" -> \"Download as\".  Include the \"helper.py\" and \"problem_unittests.py\" files in your submission."
   ]
  }
 ],
 "metadata": {
  "kernelspec": {
   "display_name": "Python 3",
   "language": "python",
   "name": "python3"
  },
  "language_info": {
   "codemirror_mode": {
    "name": "ipython",
    "version": 3
   },
   "file_extension": ".py",
   "mimetype": "text/x-python",
   "name": "python",
   "nbconvert_exporter": "python",
   "pygments_lexer": "ipython3",
   "version": "3.5.2"
  },
  "widgets": {
   "state": {},
   "version": "1.1.2"
  }
 },
 "nbformat": 4,
 "nbformat_minor": 0
}
