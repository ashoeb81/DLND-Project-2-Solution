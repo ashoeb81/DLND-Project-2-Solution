{
 "cells": [
  {
   "cell_type": "markdown",
   "metadata": {
    "collapsed": true,
    "deletable": true,
    "editable": true
   },
   "source": [
    "# Image Classification\n",
    "In this project, you'll classify images from the [CIFAR-10 dataset](https://www.cs.toronto.edu/~kriz/cifar.html).  The dataset consists of airplanes, dogs, cats, and other objects. You'll preprocess the images, then train a convolutional neural network on all the samples. The images need to be normalized and the labels need to be one-hot encoded.  You'll get to apply what you learned and build a convolutional, max pooling, dropout, and fully connected layers.  At the end, you'll get to see your neural network's predictions on the sample images.\n",
    "## Get the Data\n",
    "Run the following cell to download the [CIFAR-10 dataset for python](https://www.cs.toronto.edu/~kriz/cifar-10-python.tar.gz)."
   ]
  },
  {
   "cell_type": "code",
   "execution_count": 73,
   "metadata": {
    "collapsed": false,
    "deletable": true,
    "editable": true
   },
   "outputs": [
    {
     "name": "stdout",
     "output_type": "stream",
     "text": [
      "All files found!\n"
     ]
    }
   ],
   "source": [
    "\"\"\"\n",
    "DON'T MODIFY ANYTHING IN THIS CELL THAT IS BELOW THIS LINE\n",
    "\"\"\"\n",
    "from urllib.request import urlretrieve\n",
    "from os.path import isfile, isdir\n",
    "from tqdm import tqdm\n",
    "import problem_unittests as tests\n",
    "import tarfile\n",
    "\n",
    "cifar10_dataset_folder_path = 'cifar-10-batches-py'\n",
    "\n",
    "class DLProgress(tqdm):\n",
    "    last_block = 0\n",
    "\n",
    "    def hook(self, block_num=1, block_size=1, total_size=None):\n",
    "        self.total = total_size\n",
    "        self.update((block_num - self.last_block) * block_size)\n",
    "        self.last_block = block_num\n",
    "\n",
    "if not isfile('cifar-10-python.tar.gz'):\n",
    "    with DLProgress(unit='B', unit_scale=True, miniters=1, desc='CIFAR-10 Dataset') as pbar:\n",
    "        urlretrieve(\n",
    "            'https://www.cs.toronto.edu/~kriz/cifar-10-python.tar.gz',\n",
    "            'cifar-10-python.tar.gz',\n",
    "            pbar.hook)\n",
    "\n",
    "if not isdir(cifar10_dataset_folder_path):\n",
    "    with tarfile.open('cifar-10-python.tar.gz') as tar:\n",
    "        tar.extractall()\n",
    "        tar.close()\n",
    "\n",
    "\n",
    "tests.test_folder_path(cifar10_dataset_folder_path)"
   ]
  },
  {
   "cell_type": "markdown",
   "metadata": {
    "deletable": true,
    "editable": true
   },
   "source": [
    "## Explore the Data\n",
    "The dataset is broken into batches to prevent your machine from running out of memory.  The CIFAR-10 dataset consists of 5 batches, named `data_batch_1`, `data_batch_2`, etc.. Each batch contains the labels and images that are one of the following:\n",
    "* airplane\n",
    "* automobile\n",
    "* bird\n",
    "* cat\n",
    "* deer\n",
    "* dog\n",
    "* frog\n",
    "* horse\n",
    "* ship\n",
    "* truck\n",
    "\n",
    "Understanding a dataset is part of making predictions on the data.  Play around with the code cell below by changing the `batch_id` and `sample_id`. The `batch_id` is the id for a batch (1-5). The `sample_id` is the id for a image and label pair in the batch.\n",
    "\n",
    "Ask yourself \"What are all possible labels?\", \"What is the range of values for the image data?\", \"Are the labels in order or random?\".  Answers to questions like these will help you preprocess the data and end up with better predictions."
   ]
  },
  {
   "cell_type": "code",
   "execution_count": 74,
   "metadata": {
    "collapsed": false,
    "deletable": true,
    "editable": true
   },
   "outputs": [
    {
     "name": "stdout",
     "output_type": "stream",
     "text": [
      "\n",
      "Stats of batch 2:\n",
      "Samples: 10000\n",
      "Label Counts: {0: 984, 1: 1007, 2: 1010, 3: 995, 4: 1010, 5: 988, 6: 1008, 7: 1026, 8: 987, 9: 985}\n",
      "First 20 Labels: [1, 6, 6, 8, 8, 3, 4, 6, 0, 6, 0, 3, 6, 6, 5, 4, 8, 3, 2, 6]\n",
      "\n",
      "Example of Image 10:\n",
      "Image - Min Value: 4 Max Value: 231\n",
      "Image - Shape: (32, 32, 3)\n",
      "Label - Label Id: 0 Name: airplane\n"
     ]
    },
    {
     "data": {
      "image/png": "[encoded data removed]",
      "text/plain": [
       "<matplotlib.figure.Figure at 0x7f9ea4b08c50>"
      ]
     },
     "metadata": {
      "image/png": {
       "height": 250,
       "width": 253
      }
     },
     "output_type": "display_data"
    }
   ],
   "source": [
    "%matplotlib inline\n",
    "%config InlineBackend.figure_format = 'retina'\n",
    "\n",
    "import helper\n",
    "import numpy as np\n",
    "\n",
    "# Explore the dataset\n",
    "batch_id = 2\n",
    "sample_id = 10\n",
    "helper.display_stats(cifar10_dataset_folder_path, batch_id, sample_id)"
   ]
  },
  {
   "cell_type": "markdown",
   "metadata": {
    "deletable": true,
    "editable": true
   },
   "source": [
    "## Implement Preprocess Functions\n",
    "### Normalize\n",
    "In the cell below, implement the `normalize` function to take in image data, `x`, and return it as a normalized Numpy array. The values should be in the range of 0 to 1, inclusive.  The return object should be the same shape as `x`."
   ]
  },
  {
   "cell_type": "code",
   "execution_count": 75,
   "metadata": {
    "collapsed": false,
    "deletable": true,
    "editable": true
   },
   "outputs": [
    {
     "name": "stdout",
     "output_type": "stream",
     "text": [
      "Tests Passed\n"
     ]
    }
   ],
   "source": [
    "def normalize(x):\n",
    "    \"\"\"\n",
    "    Normalize a list of sample image data in the range of 0 to 1\n",
    "    : x: List of image data.  The image shape is (32, 32, 3)\n",
    "    : return: Numpy array of normalize data\n",
    "    \"\"\"\n",
    "    # The image data is 0-255.  To normalize to the range 0-1 \n",
    "    # divide each pixel value by 255.\n",
    "    return x/255.\n",
    "\n",
    "\n",
    "\"\"\"\n",
    "DON'T MODIFY ANYTHING IN THIS CELL THAT IS BELOW THIS LINE\n",
    "\"\"\"\n",
    "tests.test_normalize(normalize)"
   ]
  },
  {
   "cell_type": "markdown",
   "metadata": {
    "deletable": true,
    "editable": true
   },
   "source": [
    "### One-hot encode\n",
    "Just like the previous code cell, you'll be implementing a function for preprocessing.  This time, you'll implement the `one_hot_encode` function. The input, `x`, are a list of labels.  Implement the function to return the list of labels as One-Hot encoded Numpy array.  The possible values for labels are 0 to 9. The one-hot encoding function should return the same encoding for each value between each call to `one_hot_encode`.  Make sure to save the map of encodings outside the function.\n",
    "\n",
    "Hint: Don't reinvent the wheel."
   ]
  },
  {
   "cell_type": "code",
   "execution_count": 76,
   "metadata": {
    "collapsed": false,
    "deletable": true,
    "editable": true
   },
   "outputs": [
    {
     "name": "stdout",
     "output_type": "stream",
     "text": [
      "Tests Passed\n"
     ]
    }
   ],
   "source": [
    "from sklearn.preprocessing import OneHotEncoder\n",
    "\n",
    "def one_hot_encode(x):\n",
    "    \"\"\"\n",
    "    One hot encode a list of sample labels. Return a one-hot encoded vector for each label.\n",
    "    : x: List of sample Labels\n",
    "    : return: Numpy array of one-hot encoded labels\n",
    "    \"\"\"\n",
    "    # Use the OneHotEncoder class from the sklearn package.\n",
    "    # OneHotEncoder takes the number of distinct values in input to be \n",
    "    # transformed as argument.  In our case, that is the number \n",
    "    # of classes which is 10.\n",
    "    one_hot_encoder = OneHotEncoder(10, sparse=False)    \n",
    "    encodings =  one_hot_encoder.fit_transform(\n",
    "        np.array(x).reshape(-1, 1))\n",
    "    return encodings\n",
    "\n",
    "\"\"\"\n",
    "DON'T MODIFY ANYTHING IN THIS CELL THAT IS BELOW THIS LINE\n",
    "\"\"\"\n",
    "tests.test_one_hot_encode(one_hot_encode)"
   ]
  },
  {
   "cell_type": "markdown",
   "metadata": {
    "deletable": true,
    "editable": true
   },
   "source": [
    "### Randomize Data\n",
    "As you saw from exploring the data above, the order of the samples are randomized.  It doesn't hurt to randomize it again, but you don't need to for this dataset."
   ]
  },
  {
   "cell_type": "markdown",
   "metadata": {
    "deletable": true,
    "editable": true
   },
   "source": [
    "## Preprocess all the data and save it\n",
    "Running the code cell below will preprocess all the CIFAR-10 data and save it to file. The code below also uses 10% of the training data for validation."
   ]
  },
  {
   "cell_type": "code",
   "execution_count": 77,
   "metadata": {
    "collapsed": false,
    "deletable": true,
    "editable": true
   },
   "outputs": [],
   "source": [
    "\"\"\"\n",
    "DON'T MODIFY ANYTHING IN THIS CELL\n",
    "\"\"\"\n",
    "# Preprocess Training, Validation, and Testing Data\n",
    "helper.preprocess_and_save_data(cifar10_dataset_folder_path, normalize, one_hot_encode)"
   ]
  },
  {
   "cell_type": "markdown",
   "metadata": {
    "deletable": true,
    "editable": true
   },
   "source": [
    "# Check Point\n",
    "This is your first checkpoint.  If you ever decide to come back to this notebook or have to restart the notebook, you can start from here.  The preprocessed data has been saved to disk."
   ]
  },
  {
   "cell_type": "code",
   "execution_count": 78,
   "metadata": {
    "collapsed": true,
    "deletable": true,
    "editable": true
   },
   "outputs": [],
   "source": [
    "\"\"\"\n",
    "DON'T MODIFY ANYTHING IN THIS CELL\n",
    "\"\"\"\n",
    "import pickle\n",
    "import problem_unittests as tests\n",
    "import helper\n",
    "\n",
    "# Load the Preprocessed Validation data\n",
    "valid_features, valid_labels = pickle.load(open('preprocess_validation.p', mode='rb'))"
   ]
  },
  {
   "cell_type": "markdown",
   "metadata": {
    "deletable": true,
    "editable": true
   },
   "source": [
    "## Build the network\n",
    "For the neural network, you'll build each layer into a function.  Most of the code you've seen has been outside of functions. To test your code more thoroughly, we require that you put each layer in a function.  This allows us to give you better feedback and test for simple mistakes using our unittests before you submit your project.\n",
    "\n",
    ">**Note:** If you're finding it hard to dedicate enough time for this course each week, we've provided a small shortcut to this part of the project. In the next couple of problems, you'll have the option to use classes from the [TensorFlow Layers](https://www.tensorflow.org/api_docs/python/tf/layers) or [TensorFlow Layers (contrib)](https://www.tensorflow.org/api_guides/python/contrib.layers) packages to build each layer, except the layers you build in the \"Convolutional and Max Pooling Layer\" section.  TF Layers is similar to Keras's and TFLearn's abstraction to layers, so it's easy to pickup.\n",
    "\n",
    ">However, if you would like to get the most out of this course, try to solve all the problems _without_ using anything from the TF Layers packages. You **can** still use classes from other packages that happen to have the same name as ones you find in TF Layers! For example, instead of using the TF Layers version of the `conv2d` class, [tf.layers.conv2d](https://www.tensorflow.org/api_docs/python/tf/layers/conv2d), you would want to use the TF Neural Network version of `conv2d`, [tf.nn.conv2d](https://www.tensorflow.org/api_docs/python/tf/nn/conv2d). \n",
    "\n",
    "Let's begin!\n",
    "\n",
    "### Input\n",
    "The neural network needs to read the image data, one-hot encoded labels, and dropout keep probability. Implement the following functions\n",
    "* Implement `neural_net_image_input`\n",
    " * Return a [TF Placeholder](https://www.tensorflow.org/api_docs/python/tf/placeholder)\n",
    " * Set the shape using `image_shape` with batch size set to `None`.\n",
    " * Name the TensorFlow placeholder \"x\" using the TensorFlow `name` parameter in the [TF Placeholder](https://www.tensorflow.org/api_docs/python/tf/placeholder).\n",
    "* Implement `neural_net_label_input`\n",
    " * Return a [TF Placeholder](https://www.tensorflow.org/api_docs/python/tf/placeholder)\n",
    " * Set the shape using `n_classes` with batch size set to `None`.\n",
    " * Name the TensorFlow placeholder \"y\" using the TensorFlow `name` parameter in the [TF Placeholder](https://www.tensorflow.org/api_docs/python/tf/placeholder).\n",
    "* Implement `neural_net_keep_prob_input`\n",
    " * Return a [TF Placeholder](https://www.tensorflow.org/api_docs/python/tf/placeholder) for dropout keep probability.\n",
    " * Name the TensorFlow placeholder \"keep_prob\" using the TensorFlow `name` parameter in the [TF Placeholder](https://www.tensorflow.org/api_docs/python/tf/placeholder).\n",
    "\n",
    "These names will be used at the end of the project to load your saved model.\n",
    "\n",
    "Note: `None` for shapes in TensorFlow allow for a dynamic size."
   ]
  },
  {
   "cell_type": "code",
   "execution_count": 79,
   "metadata": {
    "collapsed": false,
    "deletable": true,
    "editable": true
   },
   "outputs": [
    {
     "name": "stdout",
     "output_type": "stream",
     "text": [
      "Image Input Tests Passed.\n",
      "Label Input Tests Passed.\n",
      "Keep Prob Tests Passed.\n"
     ]
    }
   ],
   "source": [
    "import tensorflow as tf\n",
    "\n",
    "def neural_net_image_input(image_shape):\n",
    "    \"\"\"\n",
    "    Return a Tensor for a bach of image input\n",
    "    : image_shape: Shape of the images\n",
    "    : return: Tensor for image input.\n",
    "    \"\"\"\n",
    "    input = tf.placeholder(tf.float32, shape=[None, image_shape[0], image_shape[1], image_shape[2]], name='x')\n",
    "    return input\n",
    "\n",
    "\n",
    "def neural_net_label_input(n_classes):\n",
    "    \"\"\"\n",
    "    Return a Tensor for a batch of label input\n",
    "    : n_classes: Number of classes\n",
    "    : return: Tensor for label input.\n",
    "    \"\"\"\n",
    "    label = tf.placeholder(tf.int32, shape=[None, n_classes], name='y')\n",
    "    return label\n",
    "\n",
    "\n",
    "def neural_net_keep_prob_input():\n",
    "    \"\"\"\n",
    "    Return a Tensor for keep probability\n",
    "    : return: Tensor for keep probability.\n",
    "    \"\"\"\n",
    "    keep_prob = tf.placeholder(tf.float32, name='keep_prob')\n",
    "    return keep_prob\n",
    "\n",
    "\n",
    "\"\"\"\n",
    "DON'T MODIFY ANYTHING IN THIS CELL THAT IS BELOW THIS LINE\n",
    "\"\"\"\n",
    "tf.reset_default_graph()\n",
    "tests.test_nn_image_inputs(neural_net_image_input)\n",
    "tests.test_nn_label_inputs(neural_net_label_input)\n",
    "tests.test_nn_keep_prob_inputs(neural_net_keep_prob_input)"
   ]
  },
  {
   "cell_type": "markdown",
   "metadata": {
    "deletable": true,
    "editable": true
   },
   "source": [
    "### Convolution and Max Pooling Layer\n",
    "Convolution layers have a lot of success with images. For this code cell, you should implement the function `conv2d_maxpool` to apply convolution then max pooling:\n",
    "* Create the weight and bias using `conv_ksize`, `conv_num_outputs` and the shape of `x_tensor`.\n",
    "* Apply a convolution to `x_tensor` using weight and `conv_strides`.\n",
    " * We recommend you use same padding, but you're welcome to use any padding.\n",
    "* Add bias\n",
    "* Add a nonlinear activation to the convolution.\n",
    "* Apply Max Pooling using `pool_ksize` and `pool_strides`.\n",
    " * We recommend you use same padding, but you're welcome to use any padding.\n",
    "\n",
    "**Note:** You **can't** use [TensorFlow Layers](https://www.tensorflow.org/api_docs/python/tf/layers) or [TensorFlow Layers (contrib)](https://www.tensorflow.org/api_guides/python/contrib.layers) for **this** layer, but you can still use TensorFlow's [Neural Network](https://www.tensorflow.org/api_docs/python/tf/nn) package. You may still use the shortcut option for all the **other** layers."
   ]
  },
  {
   "cell_type": "code",
   "execution_count": 80,
   "metadata": {
    "collapsed": false,
    "deletable": true,
    "editable": true
   },
   "outputs": [
    {
     "name": "stdout",
     "output_type": "stream",
     "text": [
      "Tests Passed\n"
     ]
    }
   ],
   "source": [
    "def conv2d_maxpool(x_tensor, conv_num_outputs, conv_ksize, conv_strides, pool_ksize, pool_strides):\n",
    "    \"\"\"\n",
    "    Apply convolution then max pooling to x_tensor\n",
    "    :param x_tensor: TensorFlow Tensor\n",
    "    :param conv_num_outputs: Number of outputs for the convolutional layer\n",
    "    :param conv_ksize: kernal size 2-D Tuple for the convolutional layer\n",
    "    :param conv_strides: Stride 2-D Tuple for convolution\n",
    "    :param pool_ksize: kernal size 2-D Tuple for pool\n",
    "    :param pool_strides: Stride 2-D Tuple for pool\n",
    "    : return: A tensor that represents convolution and max pooling of x_tensor\n",
    "    \"\"\"\n",
    "    # Get the number of channels in the input tensor.\n",
    "    in_channels = x_tensor.get_shape()[3].value\n",
    "    # Define the weight and bias variable of the convolution.\n",
    "    bias = tf.Variable(tf.random_normal([conv_num_outputs]))\n",
    "    weight = tf.Variable(tf.random_normal([conv_ksize[0], conv_ksize[1], in_channels, conv_num_outputs]))\n",
    "    # Apply the convolution to the input.\n",
    "    output = tf.nn.conv2d(x_tensor, weight, [1, conv_strides[0], conv_strides[1], 1], padding='SAME')\n",
    "    # Add the bias.\n",
    "    output = tf.nn.bias_add(output, bias)\n",
    "    # Apply a the rectified-linear unit nonlinearity.\n",
    "    output = tf.nn.relu(output)\n",
    "    # Perform the max-pooling operation.\n",
    "    output = tf.nn.max_pool(output, [1, pool_ksize[0], pool_ksize[1], 1], [1, pool_strides[0], pool_strides[1], 1],\n",
    "                            padding='SAME')\n",
    "    return output \n",
    "\n",
    "\n",
    "\"\"\"\n",
    "DON'T MODIFY ANYTHING IN THIS CELL THAT IS BELOW THIS LINE\n",
    "\"\"\"\n",
    "tests.test_con_pool(conv2d_maxpool)"
   ]
  },
  {
   "cell_type": "markdown",
   "metadata": {
    "deletable": true,
    "editable": true
   },
   "source": [
    "### Flatten Layer\n",
    "Implement the `flatten` function to change the dimension of `x_tensor` from a 4-D tensor to a 2-D tensor.  The output should be the shape (*Batch Size*, *Flattened Image Size*). Shortcut option: you can use classes from the [TensorFlow Layers](https://www.tensorflow.org/api_docs/python/tf/layers) or [TensorFlow Layers (contrib)](https://www.tensorflow.org/api_guides/python/contrib.layers) packages for this layer. For more of a challenge, only use other TensorFlow packages."
   ]
  },
  {
   "cell_type": "code",
   "execution_count": 81,
   "metadata": {
    "collapsed": false,
    "deletable": true,
    "editable": true
   },
   "outputs": [
    {
     "name": "stdout",
     "output_type": "stream",
     "text": [
      "Tests Passed\n"
     ]
    }
   ],
   "source": [
    "def flatten(x_tensor):\n",
    "    \"\"\"\n",
    "    Flatten x_tensor to (Batch Size, Flattened Image Size)\n",
    "    : x_tensor: A tensor of size (Batch Size, ...), where ... are the image dimensions.\n",
    "    : return: A tensor of size (Batch Size, Flattened Image Size).\n",
    "    \"\"\"\n",
    "    output = tf.contrib.layers.flatten(x_tensor)\n",
    "    return output\n",
    "\n",
    "\n",
    "\"\"\"\n",
    "DON'T MODIFY ANYTHING IN THIS CELL THAT IS BELOW THIS LINE\n",
    "\"\"\"\n",
    "tests.test_flatten(flatten)"
   ]
  },
  {
   "cell_type": "markdown",
   "metadata": {
    "deletable": true,
    "editable": true
   },
   "source": [
    "### Fully-Connected Layer\n",
    "Implement the `fully_conn` function to apply a fully connected layer to `x_tensor` with the shape (*Batch Size*, *num_outputs*). Shortcut option: you can use classes from the [TensorFlow Layers](https://www.tensorflow.org/api_docs/python/tf/layers) or [TensorFlow Layers (contrib)](https://www.tensorflow.org/api_guides/python/contrib.layers) packages for this layer. For more of a challenge, only use other TensorFlow packages."
   ]
  },
  {
   "cell_type": "code",
   "execution_count": 82,
   "metadata": {
    "collapsed": false,
    "deletable": true,
    "editable": true
   },
   "outputs": [
    {
     "name": "stdout",
     "output_type": "stream",
     "text": [
      "Tests Passed\n"
     ]
    }
   ],
   "source": [
    "def fully_conn(x_tensor, num_outputs):\n",
    "    \"\"\"\n",
    "    Apply a fully connected layer to x_tensor using weight and bias\n",
    "    : x_tensor: A 2-D tensor where the first dimension is batch size.\n",
    "    : num_outputs: The number of output that the new tensor should be.\n",
    "    : return: A 2-D tensor where the second dimension is num_outputs.\n",
    "    \"\"\"\n",
    "    # The output of this fully connected layer will be processed by the ReLU nonlinearity.\n",
    "    output = tf.contrib.layers.fully_connected(x_tensor, num_outputs, activation_fn=tf.nn.relu)\n",
    "    return output\n",
    "\n",
    "\n",
    "\"\"\"\n",
    "DON'T MODIFY ANYTHING IN THIS CELL THAT IS BELOW THIS LINE\n",
    "\"\"\"\n",
    "tests.test_fully_conn(fully_conn)"
   ]
  },
  {
   "cell_type": "markdown",
   "metadata": {
    "deletable": true,
    "editable": true
   },
   "source": [
    "### Output Layer\n",
    "Implement the `output` function to apply a fully connected layer to `x_tensor` with the shape (*Batch Size*, *num_outputs*). Shortcut option: you can use classes from the [TensorFlow Layers](https://www.tensorflow.org/api_docs/python/tf/layers) or [TensorFlow Layers (contrib)](https://www.tensorflow.org/api_guides/python/contrib.layers) packages for this layer. For more of a challenge, only use other TensorFlow packages.\n",
    "\n",
    "**Note:** Activation, softmax, or cross entropy should **not** be applied to this."
   ]
  },
  {
   "cell_type": "code",
   "execution_count": 83,
   "metadata": {
    "collapsed": false,
    "deletable": true,
    "editable": true
   },
   "outputs": [
    {
     "name": "stdout",
     "output_type": "stream",
     "text": [
      "Tests Passed\n"
     ]
    }
   ],
   "source": [
    "def output(x_tensor, num_outputs):\n",
    "    \"\"\"\n",
    "    Apply a output layer to x_tensor using weight and bias\n",
    "    : x_tensor: A 2-D tensor where the first dimension is batch size.\n",
    "    : num_outputs: The number of output that the new tensor should be.\n",
    "    : return: A 2-D tensor where the second dimension is num_outputs.\n",
    "    \"\"\"\n",
    "    # The output layer should have not nonlinearity so we set activation_fn argument to None.\n",
    "    output = tf.contrib.layers.fully_connected(x_tensor, num_outputs, activation_fn=None)\n",
    "    return output\n",
    "\n",
    "\n",
    "\"\"\"\n",
    "DON'T MODIFY ANYTHING IN THIS CELL THAT IS BELOW THIS LINE\n",
    "\"\"\"\n",
    "tests.test_output(output)"
   ]
  },
  {
   "cell_type": "markdown",
   "metadata": {
    "deletable": true,
    "editable": true
   },
   "source": [
    "### Create Convolutional Model\n",
    "Implement the function `conv_net` to create a convolutional neural network model. The function takes in a batch of images, `x`, and outputs logits.  Use the layers you created above to create this model:\n",
    "\n",
    "* Apply 1, 2, or 3 Convolution and Max Pool layers\n",
    "* Apply a Flatten Layer\n",
    "* Apply 1, 2, or 3 Fully Connected Layers\n",
    "* Apply an Output Layer\n",
    "* Return the output\n",
    "* Apply [TensorFlow's Dropout](https://www.tensorflow.org/api_docs/python/tf/nn/dropout) to one or more layers in the model using `keep_prob`. "
   ]
  },
  {
   "cell_type": "code",
   "execution_count": 128,
   "metadata": {
    "collapsed": false,
    "deletable": true,
    "editable": true
   },
   "outputs": [
    {
     "name": "stdout",
     "output_type": "stream",
     "text": [
      "Neural Network Built!\n"
     ]
    }
   ],
   "source": [
    "def conv_net(x, keep_prob):\n",
    "    \"\"\"\n",
    "    Create a convolutional neural network model\n",
    "    : x: Placeholder tensor that holds image data.\n",
    "    : keep_prob: Placeholder tensor that hold dropout keep probability.\n",
    "    : return: Tensor that represents logits\n",
    "    \"\"\"\n",
    "    # Apply 2 Convolution and Max Pool layers\n",
    "    net = conv2d_maxpool(x, 16, [3, 3], [1, 1], [2, 2], [2, 2])\n",
    "    net = conv2d_maxpool(x, 32, [3, 3], [1, 1], [2, 2], [2, 2])\n",
    "\n",
    "    # Apply a Flatten Layer\n",
    "    net = flatten(net)\n",
    "\n",
    "    # Apply 2, or 3 Fully Connected Layers with ReLU nonlinearity.\n",
    "    net = fully_conn(net, 256)\n",
    "    net = fully_conn(net, 256)\n",
    "    \n",
    "    # Apply a Dropout layer to the features that will be passed \n",
    "    # onto the output layer\n",
    "    net = tf.nn.dropout(net, keep_prob)\n",
    "\n",
    "    # Apply an Output Layer\n",
    "    net = output(net, 10)\n",
    "    \n",
    "    # Return output\n",
    "    return net\n",
    "\n",
    "\n",
    "\"\"\"\n",
    "DON'T MODIFY ANYTHING IN THIS CELL THAT IS BELOW THIS LINE\n",
    "\"\"\"\n",
    "\n",
    "##############################\n",
    "## Build the Neural Network ##\n",
    "##############################\n",
    "\n",
    "# Remove previous weights, bias, inputs, etc..\n",
    "tf.reset_default_graph()\n",
    "\n",
    "# Inputs\n",
    "x = neural_net_image_input((32, 32, 3))\n",
    "y = neural_net_label_input(10)\n",
    "keep_prob = neural_net_keep_prob_input()\n",
    "\n",
    "# Model\n",
    "logits = conv_net(x, keep_prob)\n",
    "\n",
    "# Name logits Tensor, so that is can be loaded from disk after training\n",
    "logits = tf.identity(logits, name='logits')\n",
    "\n",
    "# Loss and Optimizer\n",
    "cost = tf.reduce_mean(tf.nn.softmax_cross_entropy_with_logits(logits=logits, labels=y))\n",
    "optimizer = tf.train.AdamOptimizer().minimize(cost)\n",
    "\n",
    "# Accuracy\n",
    "correct_pred = tf.equal(tf.argmax(logits, 1), tf.argmax(y, 1))\n",
    "accuracy = tf.reduce_mean(tf.cast(correct_pred, tf.float32), name='accuracy')\n",
    "\n",
    "tests.test_conv_net(conv_net)"
   ]
  },
  {
   "cell_type": "markdown",
   "metadata": {
    "deletable": true,
    "editable": true
   },
   "source": [
    "## Train the Neural Network\n",
    "### Single Optimization\n",
    "Implement the function `train_neural_network` to do a single optimization.  The optimization should use `optimizer` to optimize in `session` with a `feed_dict` of the following:\n",
    "* `x` for image input\n",
    "* `y` for labels\n",
    "* `keep_prob` for keep probability for dropout\n",
    "\n",
    "This function will be called for each batch, so `tf.global_variables_initializer()` has already been called.\n",
    "\n",
    "Note: Nothing needs to be returned. This function is only optimizing the neural network."
   ]
  },
  {
   "cell_type": "code",
   "execution_count": 129,
   "metadata": {
    "collapsed": false,
    "deletable": true,
    "editable": true
   },
   "outputs": [
    {
     "name": "stdout",
     "output_type": "stream",
     "text": [
      "Tests Passed\n"
     ]
    }
   ],
   "source": [
    "def train_neural_network(session, optimizer, keep_probability, feature_batch, label_batch):\n",
    "    \"\"\"\n",
    "    Optimize the session on a batch of images and labels\n",
    "    : session: Current TensorFlow session\n",
    "    : optimizer: TensorFlow optimizer function\n",
    "    : keep_probability: keep probability\n",
    "    : feature_batch: Batch of Numpy image data\n",
    "    : label_batch: Batch of Numpy label data\n",
    "    \"\"\"\n",
    "    session.run(optimizer, feed_dict={x:feature_batch,\n",
    "                                      y:label_batch,\n",
    "                                      keep_prob:keep_probability})\n",
    "\n",
    "\n",
    "\"\"\"\n",
    "DON'T MODIFY ANYTHING IN THIS CELL THAT IS BELOW THIS LINE\n",
    "\"\"\"\n",
    "tests.test_train_nn(train_neural_network)"
   ]
  },
  {
   "cell_type": "markdown",
   "metadata": {
    "deletable": true,
    "editable": true
   },
   "source": [
    "### Show Stats\n",
    "Implement the function `print_stats` to print loss and validation accuracy.  Use the global variables `valid_features` and `valid_labels` to calculate validation accuracy.  Use a keep probability of `1.0` to calculate the loss and validation accuracy."
   ]
  },
  {
   "cell_type": "code",
   "execution_count": 134,
   "metadata": {
    "collapsed": false,
    "deletable": true,
    "editable": true
   },
   "outputs": [],
   "source": [
    "def print_stats(session, feature_batch, label_batch, cost, accuracy):\n",
    "    \"\"\"\n",
    "    Print information about loss and validation accuracy\n",
    "    : session: Current TensorFlow session\n",
    "    : feature_batch: Batch of Numpy image data\n",
    "    : label_batch: Batch of Numpy label data\n",
    "    : cost: TensorFlow cost function\n",
    "    : accuracy: TensorFlow accuracy function\n",
    "    \"\"\"\n",
    "    cost = session.run(cost, feed_dict={x:feature_batch,\n",
    "                                        y:label_batch,\n",
    "                                        keep_prob:keep_probability})\n",
    "    validation_accuracy = session.run(accuracy, feed_dict={x:valid_features,\n",
    "                                                           y:valid_labels,\n",
    "                                                           keep_prob:1.0})\n",
    "    print('Cost %f | Validation Accuracy %f' % (cost, validation_accuracy))"
   ]
  },
  {
   "cell_type": "markdown",
   "metadata": {
    "deletable": true,
    "editable": true
   },
   "source": [
    "### Hyperparameters\n",
    "Tune the following parameters:\n",
    "* Set `epochs` to the number of iterations until the network stops learning or start overfitting\n",
    "* Set `batch_size` to the highest number that your machine has memory for.  Most people set them to common sizes of memory:\n",
    " * 64\n",
    " * 128\n",
    " * 256\n",
    " * ...\n",
    "* Set `keep_probability` to the probability of keeping a node using dropout"
   ]
  },
  {
   "cell_type": "code",
   "execution_count": 131,
   "metadata": {
    "collapsed": true,
    "deletable": true,
    "editable": true
   },
   "outputs": [],
   "source": [
    "# TODO: Tune Parameters\n",
    "epochs = 50\n",
    "batch_size = 256\n",
    "keep_probability = 0.95"
   ]
  },
  {
   "cell_type": "markdown",
   "metadata": {
    "deletable": true,
    "editable": true
   },
   "source": [
    "### Train on a Single CIFAR-10 Batch\n",
    "Instead of training the neural network on all the CIFAR-10 batches of data, let's use a single batch. This should save time while you iterate on the model to get a better accuracy.  Once the final validation accuracy is 50% or greater, run the model on all the data in the next section."
   ]
  },
  {
   "cell_type": "code",
   "execution_count": 132,
   "metadata": {
    "collapsed": false,
    "deletable": true,
    "editable": true,
    "scrolled": false
   },
   "outputs": [
    {
     "name": "stdout",
     "output_type": "stream",
     "text": [
      "Checking the Training on a Single Batch...\n",
      "Epoch  1, CIFAR-10 Batch 1:  Cost 2.646932 | Validation Accuracy 0.209800\n",
      "Epoch  2, CIFAR-10 Batch 1:  Cost 1.925776 | Validation Accuracy 0.327000\n",
      "Epoch  3, CIFAR-10 Batch 1:  Cost 1.541504 | Validation Accuracy 0.386200\n",
      "Epoch  4, CIFAR-10 Batch 1:  Cost 1.287684 | Validation Accuracy 0.411200\n",
      "Epoch  5, CIFAR-10 Batch 1:  Cost 0.940867 | Validation Accuracy 0.440000\n",
      "Epoch  6, CIFAR-10 Batch 1:  Cost 0.801251 | Validation Accuracy 0.449400\n",
      "Epoch  7, CIFAR-10 Batch 1:  Cost 0.742145 | Validation Accuracy 0.467600\n",
      "Epoch  8, CIFAR-10 Batch 1:  Cost 0.627399 | Validation Accuracy 0.470400\n",
      "Epoch  9, CIFAR-10 Batch 1:  Cost 0.705365 | Validation Accuracy 0.449000\n",
      "Epoch 10, CIFAR-10 Batch 1:  Cost 0.469618 | Validation Accuracy 0.464000\n",
      "Epoch 11, CIFAR-10 Batch 1:  Cost 0.521288 | Validation Accuracy 0.440400\n",
      "Epoch 12, CIFAR-10 Batch 1:  Cost 0.443961 | Validation Accuracy 0.486200\n",
      "Epoch 13, CIFAR-10 Batch 1:  Cost 0.487168 | Validation Accuracy 0.402000\n",
      "Epoch 14, CIFAR-10 Batch 1:  Cost 0.488547 | Validation Accuracy 0.444800\n",
      "Epoch 15, CIFAR-10 Batch 1:  Cost 0.355098 | Validation Accuracy 0.495200\n",
      "Epoch 16, CIFAR-10 Batch 1:  Cost 0.223041 | Validation Accuracy 0.517600\n",
      "Epoch 17, CIFAR-10 Batch 1:  Cost 0.301705 | Validation Accuracy 0.517400\n",
      "Epoch 18, CIFAR-10 Batch 1:  Cost 0.254050 | Validation Accuracy 0.496000\n",
      "Epoch 19, CIFAR-10 Batch 1:  Cost 0.255218 | Validation Accuracy 0.498800\n",
      "Epoch 20, CIFAR-10 Batch 1:  Cost 0.253168 | Validation Accuracy 0.509000\n",
      "Epoch 21, CIFAR-10 Batch 1:  Cost 0.250050 | Validation Accuracy 0.462800\n",
      "Epoch 22, CIFAR-10 Batch 1:  Cost 0.213138 | Validation Accuracy 0.503000\n",
      "Epoch 23, CIFAR-10 Batch 1:  Cost 0.292252 | Validation Accuracy 0.504000\n",
      "Epoch 24, CIFAR-10 Batch 1:  Cost 0.199414 | Validation Accuracy 0.528000\n",
      "Epoch 25, CIFAR-10 Batch 1:  Cost 0.141507 | Validation Accuracy 0.511800\n",
      "Epoch 26, CIFAR-10 Batch 1:  Cost 0.192162 | Validation Accuracy 0.485600\n",
      "Epoch 27, CIFAR-10 Batch 1:  Cost 0.177383 | Validation Accuracy 0.501400\n",
      "Epoch 28, CIFAR-10 Batch 1:  Cost 0.206745 | Validation Accuracy 0.488800\n",
      "Epoch 29, CIFAR-10 Batch 1:  Cost 0.145296 | Validation Accuracy 0.503400\n",
      "Epoch 30, CIFAR-10 Batch 1:  Cost 0.132526 | Validation Accuracy 0.509800\n",
      "Epoch 31, CIFAR-10 Batch 1:  Cost 0.124801 | Validation Accuracy 0.502400\n",
      "Epoch 32, CIFAR-10 Batch 1:  Cost 0.086487 | Validation Accuracy 0.509800\n",
      "Epoch 33, CIFAR-10 Batch 1:  Cost 0.118788 | Validation Accuracy 0.491200\n",
      "Epoch 34, CIFAR-10 Batch 1:  Cost 0.191728 | Validation Accuracy 0.479600\n",
      "Epoch 35, CIFAR-10 Batch 1:  Cost 0.074432 | Validation Accuracy 0.520200\n",
      "Epoch 36, CIFAR-10 Batch 1:  Cost 0.076448 | Validation Accuracy 0.505800\n",
      "Epoch 37, CIFAR-10 Batch 1:  Cost 0.056677 | Validation Accuracy 0.509000\n",
      "Epoch 38, CIFAR-10 Batch 1:  Cost 0.074917 | Validation Accuracy 0.493800\n",
      "Epoch 39, CIFAR-10 Batch 1:  Cost 0.067997 | Validation Accuracy 0.498800\n",
      "Epoch 40, CIFAR-10 Batch 1:  Cost 0.050217 | Validation Accuracy 0.508200\n",
      "Epoch 41, CIFAR-10 Batch 1:  Cost 0.057795 | Validation Accuracy 0.499800\n",
      "Epoch 42, CIFAR-10 Batch 1:  Cost 0.066880 | Validation Accuracy 0.498000\n",
      "Epoch 43, CIFAR-10 Batch 1:  Cost 0.024063 | Validation Accuracy 0.521600\n",
      "Epoch 44, CIFAR-10 Batch 1:  Cost 0.042134 | Validation Accuracy 0.502600\n",
      "Epoch 45, CIFAR-10 Batch 1:  Cost 0.030984 | Validation Accuracy 0.514800\n",
      "Epoch 46, CIFAR-10 Batch 1:  Cost 0.038537 | Validation Accuracy 0.512600\n",
      "Epoch 47, CIFAR-10 Batch 1:  Cost 0.037765 | Validation Accuracy 0.500400\n",
      "Epoch 48, CIFAR-10 Batch 1:  Cost 0.034360 | Validation Accuracy 0.469200\n",
      "Epoch 49, CIFAR-10 Batch 1:  Cost 0.030484 | Validation Accuracy 0.503000\n",
      "Epoch 50, CIFAR-10 Batch 1:  Cost 0.012715 | Validation Accuracy 0.528000\n"
     ]
    }
   ],
   "source": [
    "\"\"\"\n",
    "DON'T MODIFY ANYTHING IN THIS CELL\n",
    "\"\"\"\n",
    "print('Checking the Training on a Single Batch...')\n",
    "with tf.Session() as sess:\n",
    "    # Initializing the variables\n",
    "    sess.run(tf.global_variables_initializer())\n",
    "    \n",
    "    # Training cycle\n",
    "    for epoch in range(epochs):\n",
    "        batch_i = 1\n",
    "        for batch_features, batch_labels in helper.load_preprocess_training_batch(batch_i, batch_size):\n",
    "            train_neural_network(sess, optimizer, keep_probability, batch_features, batch_labels)\n",
    "        print('Epoch {:>2}, CIFAR-10 Batch {}:  '.format(epoch + 1, batch_i), end='')\n",
    "        print_stats(sess, batch_features, batch_labels, cost, accuracy)"
   ]
  },
  {
   "cell_type": "markdown",
   "metadata": {
    "deletable": true,
    "editable": true
   },
   "source": [
    "### Fully Train the Model\n",
    "Now that you got a good accuracy with a single CIFAR-10 batch, try it with all five batches."
   ]
  },
  {
   "cell_type": "code",
   "execution_count": 133,
   "metadata": {
    "collapsed": false,
    "deletable": true,
    "editable": true,
    "scrolled": false
   },
   "outputs": [
    {
     "name": "stdout",
     "output_type": "stream",
     "text": [
      "Training...\n",
      "Epoch  1, CIFAR-10 Batch 1:  Cost 2.362733 | Validation Accuracy 0.270800\n",
      "Epoch  1, CIFAR-10 Batch 2:  Cost 1.720820 | Validation Accuracy 0.339200\n",
      "Epoch  1, CIFAR-10 Batch 3:  Cost 1.465228 | Validation Accuracy 0.391800\n",
      "Epoch  1, CIFAR-10 Batch 4:  Cost 1.472794 | Validation Accuracy 0.434400\n",
      "Epoch  1, CIFAR-10 Batch 5:  Cost 1.560979 | Validation Accuracy 0.469000\n",
      "Epoch  2, CIFAR-10 Batch 1:  Cost 1.553618 | Validation Accuracy 0.476200\n",
      "Epoch  2, CIFAR-10 Batch 2:  Cost 1.148617 | Validation Accuracy 0.466000\n",
      "Epoch  2, CIFAR-10 Batch 3:  Cost 0.860642 | Validation Accuracy 0.473800\n",
      "Epoch  2, CIFAR-10 Batch 4:  Cost 1.081757 | Validation Accuracy 0.516400\n",
      "Epoch  2, CIFAR-10 Batch 5:  Cost 1.204529 | Validation Accuracy 0.511200\n",
      "Epoch  3, CIFAR-10 Batch 1:  Cost 1.257359 | Validation Accuracy 0.491800\n",
      "Epoch  3, CIFAR-10 Batch 2:  Cost 0.911517 | Validation Accuracy 0.503400\n",
      "Epoch  3, CIFAR-10 Batch 3:  Cost 0.797151 | Validation Accuracy 0.486200\n",
      "Epoch  3, CIFAR-10 Batch 4:  Cost 0.810151 | Validation Accuracy 0.527200\n",
      "Epoch  3, CIFAR-10 Batch 5:  Cost 1.078364 | Validation Accuracy 0.518000\n",
      "Epoch  4, CIFAR-10 Batch 1:  Cost 1.056300 | Validation Accuracy 0.527000\n",
      "Epoch  4, CIFAR-10 Batch 2:  Cost 0.895369 | Validation Accuracy 0.536600\n",
      "Epoch  4, CIFAR-10 Batch 3:  Cost 0.657866 | Validation Accuracy 0.448400\n",
      "Epoch  4, CIFAR-10 Batch 4:  Cost 0.732479 | Validation Accuracy 0.549600\n",
      "Epoch  4, CIFAR-10 Batch 5:  Cost 0.950627 | Validation Accuracy 0.515200\n",
      "Epoch  5, CIFAR-10 Batch 1:  Cost 0.855630 | Validation Accuracy 0.562000\n",
      "Epoch  5, CIFAR-10 Batch 2:  Cost 0.625079 | Validation Accuracy 0.560200\n",
      "Epoch  5, CIFAR-10 Batch 3:  Cost 0.570354 | Validation Accuracy 0.495800\n",
      "Epoch  5, CIFAR-10 Batch 4:  Cost 0.613858 | Validation Accuracy 0.555800\n",
      "Epoch  5, CIFAR-10 Batch 5:  Cost 0.833295 | Validation Accuracy 0.538600\n",
      "Epoch  6, CIFAR-10 Batch 1:  Cost 0.721953 | Validation Accuracy 0.548400\n",
      "Epoch  6, CIFAR-10 Batch 2:  Cost 0.620667 | Validation Accuracy 0.544400\n",
      "Epoch  6, CIFAR-10 Batch 3:  Cost 0.364664 | Validation Accuracy 0.557000\n",
      "Epoch  6, CIFAR-10 Batch 4:  Cost 0.521214 | Validation Accuracy 0.575200\n",
      "Epoch  6, CIFAR-10 Batch 5:  Cost 0.670301 | Validation Accuracy 0.555800\n",
      "Epoch  7, CIFAR-10 Batch 1:  Cost 0.593738 | Validation Accuracy 0.573000\n",
      "Epoch  7, CIFAR-10 Batch 2:  Cost 0.500718 | Validation Accuracy 0.573400\n",
      "Epoch  7, CIFAR-10 Batch 3:  Cost 0.287376 | Validation Accuracy 0.569400\n",
      "Epoch  7, CIFAR-10 Batch 4:  Cost 0.475475 | Validation Accuracy 0.566600\n",
      "Epoch  7, CIFAR-10 Batch 5:  Cost 0.553371 | Validation Accuracy 0.591000\n",
      "Epoch  8, CIFAR-10 Batch 1:  Cost 0.548641 | Validation Accuracy 0.586200\n",
      "Epoch  8, CIFAR-10 Batch 2:  Cost 0.415445 | Validation Accuracy 0.584400\n",
      "Epoch  8, CIFAR-10 Batch 3:  Cost 0.283979 | Validation Accuracy 0.582400\n",
      "Epoch  8, CIFAR-10 Batch 4:  Cost 0.402174 | Validation Accuracy 0.561600\n",
      "Epoch  8, CIFAR-10 Batch 5:  Cost 0.417446 | Validation Accuracy 0.591400\n",
      "Epoch  9, CIFAR-10 Batch 1:  Cost 0.476651 | Validation Accuracy 0.596000\n",
      "Epoch  9, CIFAR-10 Batch 2:  Cost 0.324831 | Validation Accuracy 0.598800\n",
      "Epoch  9, CIFAR-10 Batch 3:  Cost 0.250515 | Validation Accuracy 0.597200\n",
      "Epoch  9, CIFAR-10 Batch 4:  Cost 0.293444 | Validation Accuracy 0.586800\n",
      "Epoch  9, CIFAR-10 Batch 5:  Cost 0.355889 | Validation Accuracy 0.598600\n",
      "Epoch 10, CIFAR-10 Batch 1:  Cost 0.424115 | Validation Accuracy 0.586400\n",
      "Epoch 10, CIFAR-10 Batch 2:  Cost 0.298903 | Validation Accuracy 0.591400\n",
      "Epoch 10, CIFAR-10 Batch 3:  Cost 0.246583 | Validation Accuracy 0.595200\n",
      "Epoch 10, CIFAR-10 Batch 4:  Cost 0.303475 | Validation Accuracy 0.590600\n",
      "Epoch 10, CIFAR-10 Batch 5:  Cost 0.280161 | Validation Accuracy 0.607000\n",
      "Epoch 11, CIFAR-10 Batch 1:  Cost 0.325441 | Validation Accuracy 0.589000\n",
      "Epoch 11, CIFAR-10 Batch 2:  Cost 0.230318 | Validation Accuracy 0.605600\n",
      "Epoch 11, CIFAR-10 Batch 3:  Cost 0.207668 | Validation Accuracy 0.607800\n",
      "Epoch 11, CIFAR-10 Batch 4:  Cost 0.229890 | Validation Accuracy 0.599600\n",
      "Epoch 11, CIFAR-10 Batch 5:  Cost 0.244824 | Validation Accuracy 0.610200\n",
      "Epoch 12, CIFAR-10 Batch 1:  Cost 0.287083 | Validation Accuracy 0.596600\n",
      "Epoch 12, CIFAR-10 Batch 2:  Cost 0.198304 | Validation Accuracy 0.597200\n",
      "Epoch 12, CIFAR-10 Batch 3:  Cost 0.211095 | Validation Accuracy 0.596200\n",
      "Epoch 12, CIFAR-10 Batch 4:  Cost 0.195622 | Validation Accuracy 0.598800\n",
      "Epoch 12, CIFAR-10 Batch 5:  Cost 0.231307 | Validation Accuracy 0.617800\n",
      "Epoch 13, CIFAR-10 Batch 1:  Cost 0.274231 | Validation Accuracy 0.599600\n",
      "Epoch 13, CIFAR-10 Batch 2:  Cost 0.175536 | Validation Accuracy 0.610600\n",
      "Epoch 13, CIFAR-10 Batch 3:  Cost 0.182375 | Validation Accuracy 0.595600\n",
      "Epoch 13, CIFAR-10 Batch 4:  Cost 0.175519 | Validation Accuracy 0.600400\n",
      "Epoch 13, CIFAR-10 Batch 5:  Cost 0.205532 | Validation Accuracy 0.617600\n",
      "Epoch 14, CIFAR-10 Batch 1:  Cost 0.250809 | Validation Accuracy 0.592400\n",
      "Epoch 14, CIFAR-10 Batch 2:  Cost 0.149649 | Validation Accuracy 0.602400\n",
      "Epoch 14, CIFAR-10 Batch 3:  Cost 0.167105 | Validation Accuracy 0.595600\n",
      "Epoch 14, CIFAR-10 Batch 4:  Cost 0.139916 | Validation Accuracy 0.619000\n",
      "Epoch 14, CIFAR-10 Batch 5:  Cost 0.180469 | Validation Accuracy 0.614400\n",
      "Epoch 15, CIFAR-10 Batch 1:  Cost 0.207714 | Validation Accuracy 0.598000\n",
      "Epoch 15, CIFAR-10 Batch 2:  Cost 0.125870 | Validation Accuracy 0.611400\n",
      "Epoch 15, CIFAR-10 Batch 3:  Cost 0.133250 | Validation Accuracy 0.598400\n",
      "Epoch 15, CIFAR-10 Batch 4:  Cost 0.132111 | Validation Accuracy 0.606600\n",
      "Epoch 15, CIFAR-10 Batch 5:  Cost 0.134358 | Validation Accuracy 0.608800\n",
      "Epoch 16, CIFAR-10 Batch 1:  Cost 0.167835 | Validation Accuracy 0.596200\n",
      "Epoch 16, CIFAR-10 Batch 2:  Cost 0.119079 | Validation Accuracy 0.605400\n",
      "Epoch 16, CIFAR-10 Batch 3:  Cost 0.113180 | Validation Accuracy 0.594800\n",
      "Epoch 16, CIFAR-10 Batch 4:  Cost 0.132244 | Validation Accuracy 0.588000\n",
      "Epoch 16, CIFAR-10 Batch 5:  Cost 0.123245 | Validation Accuracy 0.610600\n",
      "Epoch 17, CIFAR-10 Batch 1:  Cost 0.162326 | Validation Accuracy 0.597800\n",
      "Epoch 17, CIFAR-10 Batch 2:  Cost 0.121466 | Validation Accuracy 0.593800\n",
      "Epoch 17, CIFAR-10 Batch 3:  Cost 0.131755 | Validation Accuracy 0.579600\n",
      "Epoch 17, CIFAR-10 Batch 4:  Cost 0.139517 | Validation Accuracy 0.584800\n",
      "Epoch 17, CIFAR-10 Batch 5:  Cost 0.117263 | Validation Accuracy 0.606600\n",
      "Epoch 18, CIFAR-10 Batch 1:  Cost 0.165582 | Validation Accuracy 0.602600\n",
      "Epoch 18, CIFAR-10 Batch 2:  Cost 0.141868 | Validation Accuracy 0.584000\n",
      "Epoch 18, CIFAR-10 Batch 3:  Cost 0.115986 | Validation Accuracy 0.570600\n",
      "Epoch 18, CIFAR-10 Batch 4:  Cost 0.122461 | Validation Accuracy 0.592200\n",
      "Epoch 18, CIFAR-10 Batch 5:  Cost 0.109812 | Validation Accuracy 0.607200\n",
      "Epoch 19, CIFAR-10 Batch 1:  Cost 0.174279 | Validation Accuracy 0.612200\n",
      "Epoch 19, CIFAR-10 Batch 2:  Cost 0.126564 | Validation Accuracy 0.585800\n",
      "Epoch 19, CIFAR-10 Batch 3:  Cost 0.096653 | Validation Accuracy 0.594000\n",
      "Epoch 19, CIFAR-10 Batch 4:  Cost 0.109238 | Validation Accuracy 0.586800\n",
      "Epoch 19, CIFAR-10 Batch 5:  Cost 0.088877 | Validation Accuracy 0.604400\n",
      "Epoch 20, CIFAR-10 Batch 1:  Cost 0.145200 | Validation Accuracy 0.606600\n",
      "Epoch 20, CIFAR-10 Batch 2:  Cost 0.118566 | Validation Accuracy 0.585400\n",
      "Epoch 20, CIFAR-10 Batch 3:  Cost 0.106878 | Validation Accuracy 0.589200\n",
      "Epoch 20, CIFAR-10 Batch 4:  Cost 0.086925 | Validation Accuracy 0.599800\n",
      "Epoch 20, CIFAR-10 Batch 5:  Cost 0.081284 | Validation Accuracy 0.610400\n",
      "Epoch 21, CIFAR-10 Batch 1:  Cost 0.110566 | Validation Accuracy 0.608600\n",
      "Epoch 21, CIFAR-10 Batch 2:  Cost 0.110818 | Validation Accuracy 0.575600\n",
      "Epoch 21, CIFAR-10 Batch 3:  Cost 0.094137 | Validation Accuracy 0.588800\n",
      "Epoch 21, CIFAR-10 Batch 4:  Cost 0.065905 | Validation Accuracy 0.607200\n",
      "Epoch 21, CIFAR-10 Batch 5:  Cost 0.069814 | Validation Accuracy 0.603800\n",
      "Epoch 22, CIFAR-10 Batch 1:  Cost 0.099808 | Validation Accuracy 0.600400\n",
      "Epoch 22, CIFAR-10 Batch 2:  Cost 0.091837 | Validation Accuracy 0.570000\n",
      "Epoch 22, CIFAR-10 Batch 3:  Cost 0.085073 | Validation Accuracy 0.584000\n",
      "Epoch 22, CIFAR-10 Batch 4:  Cost 0.063162 | Validation Accuracy 0.607000\n",
      "Epoch 22, CIFAR-10 Batch 5:  Cost 0.063470 | Validation Accuracy 0.604600\n",
      "Epoch 23, CIFAR-10 Batch 1:  Cost 0.100181 | Validation Accuracy 0.605400\n",
      "Epoch 23, CIFAR-10 Batch 2:  Cost 0.087788 | Validation Accuracy 0.571600\n",
      "Epoch 23, CIFAR-10 Batch 3:  Cost 0.055460 | Validation Accuracy 0.569200\n",
      "Epoch 23, CIFAR-10 Batch 4:  Cost 0.057416 | Validation Accuracy 0.598600\n",
      "Epoch 23, CIFAR-10 Batch 5:  Cost 0.055270 | Validation Accuracy 0.599000\n",
      "Epoch 24, CIFAR-10 Batch 1:  Cost 0.078074 | Validation Accuracy 0.583600\n",
      "Epoch 24, CIFAR-10 Batch 2:  Cost 0.073620 | Validation Accuracy 0.562600\n",
      "Epoch 24, CIFAR-10 Batch 3:  Cost 0.089293 | Validation Accuracy 0.569400\n",
      "Epoch 24, CIFAR-10 Batch 4:  Cost 0.059029 | Validation Accuracy 0.596800\n",
      "Epoch 24, CIFAR-10 Batch 5:  Cost 0.058621 | Validation Accuracy 0.604600\n",
      "Epoch 25, CIFAR-10 Batch 1:  Cost 0.094225 | Validation Accuracy 0.565600\n",
      "Epoch 25, CIFAR-10 Batch 2:  Cost 0.075776 | Validation Accuracy 0.579600\n",
      "Epoch 25, CIFAR-10 Batch 3:  Cost 0.053048 | Validation Accuracy 0.597200\n",
      "Epoch 25, CIFAR-10 Batch 4:  Cost 0.049405 | Validation Accuracy 0.593800\n",
      "Epoch 25, CIFAR-10 Batch 5:  Cost 0.064308 | Validation Accuracy 0.591800\n",
      "Epoch 26, CIFAR-10 Batch 1:  Cost 0.075592 | Validation Accuracy 0.575000\n",
      "Epoch 26, CIFAR-10 Batch 2:  Cost 0.066689 | Validation Accuracy 0.565000\n",
      "Epoch 26, CIFAR-10 Batch 3:  Cost 0.058178 | Validation Accuracy 0.593800\n",
      "Epoch 26, CIFAR-10 Batch 4:  Cost 0.057899 | Validation Accuracy 0.592200\n",
      "Epoch 26, CIFAR-10 Batch 5:  Cost 0.079042 | Validation Accuracy 0.590200\n",
      "Epoch 27, CIFAR-10 Batch 1:  Cost 0.072756 | Validation Accuracy 0.584000\n",
      "Epoch 27, CIFAR-10 Batch 2:  Cost 0.055612 | Validation Accuracy 0.562400\n",
      "Epoch 27, CIFAR-10 Batch 3:  Cost 0.052262 | Validation Accuracy 0.597000\n",
      "Epoch 27, CIFAR-10 Batch 4:  Cost 0.049373 | Validation Accuracy 0.592400\n",
      "Epoch 27, CIFAR-10 Batch 5:  Cost 0.092190 | Validation Accuracy 0.593200\n",
      "Epoch 28, CIFAR-10 Batch 1:  Cost 0.081123 | Validation Accuracy 0.590000\n",
      "Epoch 28, CIFAR-10 Batch 2:  Cost 0.062666 | Validation Accuracy 0.574800\n",
      "Epoch 28, CIFAR-10 Batch 3:  Cost 0.070634 | Validation Accuracy 0.578400\n",
      "Epoch 28, CIFAR-10 Batch 4:  Cost 0.048341 | Validation Accuracy 0.582000\n",
      "Epoch 28, CIFAR-10 Batch 5:  Cost 0.057712 | Validation Accuracy 0.608800\n",
      "Epoch 29, CIFAR-10 Batch 1:  Cost 0.081437 | Validation Accuracy 0.582200\n",
      "Epoch 29, CIFAR-10 Batch 2:  Cost 0.040441 | Validation Accuracy 0.582600\n",
      "Epoch 29, CIFAR-10 Batch 3:  Cost 0.051920 | Validation Accuracy 0.592600\n",
      "Epoch 29, CIFAR-10 Batch 4:  Cost 0.076090 | Validation Accuracy 0.580200\n",
      "Epoch 29, CIFAR-10 Batch 5:  Cost 0.056115 | Validation Accuracy 0.609200\n",
      "Epoch 30, CIFAR-10 Batch 1:  Cost 0.062889 | Validation Accuracy 0.597800\n",
      "Epoch 30, CIFAR-10 Batch 2:  Cost 0.051016 | Validation Accuracy 0.582800\n",
      "Epoch 30, CIFAR-10 Batch 3:  Cost 0.035240 | Validation Accuracy 0.602800\n",
      "Epoch 30, CIFAR-10 Batch 4:  Cost 0.043263 | Validation Accuracy 0.588600\n",
      "Epoch 30, CIFAR-10 Batch 5:  Cost 0.057040 | Validation Accuracy 0.605000\n",
      "Epoch 31, CIFAR-10 Batch 1:  Cost 0.053131 | Validation Accuracy 0.591200\n",
      "Epoch 31, CIFAR-10 Batch 2:  Cost 0.051589 | Validation Accuracy 0.570200\n",
      "Epoch 31, CIFAR-10 Batch 3:  Cost 0.041597 | Validation Accuracy 0.600600\n",
      "Epoch 31, CIFAR-10 Batch 4:  Cost 0.030269 | Validation Accuracy 0.580600\n",
      "Epoch 31, CIFAR-10 Batch 5:  Cost 0.038419 | Validation Accuracy 0.593200\n",
      "Epoch 32, CIFAR-10 Batch 1:  Cost 0.036856 | Validation Accuracy 0.592200\n",
      "Epoch 32, CIFAR-10 Batch 2:  Cost 0.037629 | Validation Accuracy 0.589600\n",
      "Epoch 32, CIFAR-10 Batch 3:  Cost 0.034820 | Validation Accuracy 0.606000\n",
      "Epoch 32, CIFAR-10 Batch 4:  Cost 0.025321 | Validation Accuracy 0.590600\n",
      "Epoch 32, CIFAR-10 Batch 5:  Cost 0.059090 | Validation Accuracy 0.584400\n",
      "Epoch 33, CIFAR-10 Batch 1:  Cost 0.047497 | Validation Accuracy 0.600000\n",
      "Epoch 33, CIFAR-10 Batch 2:  Cost 0.043999 | Validation Accuracy 0.580800\n",
      "Epoch 33, CIFAR-10 Batch 3:  Cost 0.029910 | Validation Accuracy 0.597600\n",
      "Epoch 33, CIFAR-10 Batch 4:  Cost 0.020552 | Validation Accuracy 0.597200\n",
      "Epoch 33, CIFAR-10 Batch 5:  Cost 0.036817 | Validation Accuracy 0.586400\n",
      "Epoch 34, CIFAR-10 Batch 1:  Cost 0.051268 | Validation Accuracy 0.596000\n",
      "Epoch 34, CIFAR-10 Batch 2:  Cost 0.026667 | Validation Accuracy 0.583600\n",
      "Epoch 34, CIFAR-10 Batch 3:  Cost 0.022606 | Validation Accuracy 0.599800\n",
      "Epoch 34, CIFAR-10 Batch 4:  Cost 0.016982 | Validation Accuracy 0.605200\n",
      "Epoch 34, CIFAR-10 Batch 5:  Cost 0.037660 | Validation Accuracy 0.582400\n",
      "Epoch 35, CIFAR-10 Batch 1:  Cost 0.031727 | Validation Accuracy 0.598600\n",
      "Epoch 35, CIFAR-10 Batch 2:  Cost 0.033694 | Validation Accuracy 0.591000\n",
      "Epoch 35, CIFAR-10 Batch 3:  Cost 0.024767 | Validation Accuracy 0.592600\n",
      "Epoch 35, CIFAR-10 Batch 4:  Cost 0.018898 | Validation Accuracy 0.597400\n",
      "Epoch 35, CIFAR-10 Batch 5:  Cost 0.049798 | Validation Accuracy 0.573600\n",
      "Epoch 36, CIFAR-10 Batch 1:  Cost 0.039597 | Validation Accuracy 0.607400\n",
      "Epoch 36, CIFAR-10 Batch 2:  Cost 0.028452 | Validation Accuracy 0.590000\n",
      "Epoch 36, CIFAR-10 Batch 3:  Cost 0.034236 | Validation Accuracy 0.583600\n",
      "Epoch 36, CIFAR-10 Batch 4:  Cost 0.020174 | Validation Accuracy 0.596200\n",
      "Epoch 36, CIFAR-10 Batch 5:  Cost 0.037377 | Validation Accuracy 0.574600\n",
      "Epoch 37, CIFAR-10 Batch 1:  Cost 0.049808 | Validation Accuracy 0.598400\n",
      "Epoch 37, CIFAR-10 Batch 2:  Cost 0.022465 | Validation Accuracy 0.595200\n",
      "Epoch 37, CIFAR-10 Batch 3:  Cost 0.041642 | Validation Accuracy 0.585000\n",
      "Epoch 37, CIFAR-10 Batch 4:  Cost 0.015963 | Validation Accuracy 0.594200\n",
      "Epoch 37, CIFAR-10 Batch 5:  Cost 0.061579 | Validation Accuracy 0.576800\n",
      "Epoch 38, CIFAR-10 Batch 1:  Cost 0.036898 | Validation Accuracy 0.592600\n",
      "Epoch 38, CIFAR-10 Batch 2:  Cost 0.015910 | Validation Accuracy 0.599800\n",
      "Epoch 38, CIFAR-10 Batch 3:  Cost 0.032565 | Validation Accuracy 0.582600\n",
      "Epoch 38, CIFAR-10 Batch 4:  Cost 0.018735 | Validation Accuracy 0.584600\n",
      "Epoch 38, CIFAR-10 Batch 5:  Cost 0.028814 | Validation Accuracy 0.565600\n",
      "Epoch 39, CIFAR-10 Batch 1:  Cost 0.035502 | Validation Accuracy 0.589000\n",
      "Epoch 39, CIFAR-10 Batch 2:  Cost 0.010649 | Validation Accuracy 0.582600\n",
      "Epoch 39, CIFAR-10 Batch 3:  Cost 0.056567 | Validation Accuracy 0.577200\n",
      "Epoch 39, CIFAR-10 Batch 4:  Cost 0.053061 | Validation Accuracy 0.559200\n",
      "Epoch 39, CIFAR-10 Batch 5:  Cost 0.034590 | Validation Accuracy 0.587200\n",
      "Epoch 40, CIFAR-10 Batch 1:  Cost 0.033160 | Validation Accuracy 0.588400\n",
      "Epoch 40, CIFAR-10 Batch 2:  Cost 0.011146 | Validation Accuracy 0.583800\n",
      "Epoch 40, CIFAR-10 Batch 3:  Cost 0.032278 | Validation Accuracy 0.574000\n",
      "Epoch 40, CIFAR-10 Batch 4:  Cost 0.017972 | Validation Accuracy 0.572800\n",
      "Epoch 40, CIFAR-10 Batch 5:  Cost 0.024661 | Validation Accuracy 0.591400\n",
      "Epoch 41, CIFAR-10 Batch 1:  Cost 0.031594 | Validation Accuracy 0.580400\n",
      "Epoch 41, CIFAR-10 Batch 2:  Cost 0.011799 | Validation Accuracy 0.593000\n",
      "Epoch 41, CIFAR-10 Batch 3:  Cost 0.018437 | Validation Accuracy 0.579200\n",
      "Epoch 41, CIFAR-10 Batch 4:  Cost 0.021573 | Validation Accuracy 0.578000\n",
      "Epoch 41, CIFAR-10 Batch 5:  Cost 0.016116 | Validation Accuracy 0.592200\n",
      "Epoch 42, CIFAR-10 Batch 1:  Cost 0.034022 | Validation Accuracy 0.573800\n",
      "Epoch 42, CIFAR-10 Batch 2:  Cost 0.014345 | Validation Accuracy 0.580400\n",
      "Epoch 42, CIFAR-10 Batch 3:  Cost 0.009977 | Validation Accuracy 0.601800\n",
      "Epoch 42, CIFAR-10 Batch 4:  Cost 0.041917 | Validation Accuracy 0.570000\n",
      "Epoch 42, CIFAR-10 Batch 5:  Cost 0.022234 | Validation Accuracy 0.588200\n",
      "Epoch 43, CIFAR-10 Batch 1:  Cost 0.040587 | Validation Accuracy 0.564800\n",
      "Epoch 43, CIFAR-10 Batch 2:  Cost 0.016591 | Validation Accuracy 0.563000\n",
      "Epoch 43, CIFAR-10 Batch 3:  Cost 0.035546 | Validation Accuracy 0.590600\n",
      "Epoch 43, CIFAR-10 Batch 4:  Cost 0.017070 | Validation Accuracy 0.568000\n",
      "Epoch 43, CIFAR-10 Batch 5:  Cost 0.022163 | Validation Accuracy 0.588000\n",
      "Epoch 44, CIFAR-10 Batch 1:  Cost 0.022419 | Validation Accuracy 0.576600\n",
      "Epoch 44, CIFAR-10 Batch 2:  Cost 0.011907 | Validation Accuracy 0.579000\n",
      "Epoch 44, CIFAR-10 Batch 3:  Cost 0.010542 | Validation Accuracy 0.589000\n",
      "Epoch 44, CIFAR-10 Batch 4:  Cost 0.008880 | Validation Accuracy 0.587000\n",
      "Epoch 44, CIFAR-10 Batch 5:  Cost 0.027875 | Validation Accuracy 0.593200\n",
      "Epoch 45, CIFAR-10 Batch 1:  Cost 0.043130 | Validation Accuracy 0.579600\n",
      "Epoch 45, CIFAR-10 Batch 2:  Cost 0.020993 | Validation Accuracy 0.577000\n",
      "Epoch 45, CIFAR-10 Batch 3:  Cost 0.009314 | Validation Accuracy 0.588200\n",
      "Epoch 45, CIFAR-10 Batch 4:  Cost 0.012261 | Validation Accuracy 0.583800\n",
      "Epoch 45, CIFAR-10 Batch 5:  Cost 0.028381 | Validation Accuracy 0.585200\n",
      "Epoch 46, CIFAR-10 Batch 1:  Cost 0.025735 | Validation Accuracy 0.565000\n",
      "Epoch 46, CIFAR-10 Batch 2:  Cost 0.021567 | Validation Accuracy 0.594200\n",
      "Epoch 46, CIFAR-10 Batch 3:  Cost 0.019401 | Validation Accuracy 0.582800\n",
      "Epoch 46, CIFAR-10 Batch 4:  Cost 0.011565 | Validation Accuracy 0.573000\n",
      "Epoch 46, CIFAR-10 Batch 5:  Cost 0.043839 | Validation Accuracy 0.585200\n",
      "Epoch 47, CIFAR-10 Batch 1:  Cost 0.027012 | Validation Accuracy 0.572600\n",
      "Epoch 47, CIFAR-10 Batch 2:  Cost 0.024196 | Validation Accuracy 0.583400\n",
      "Epoch 47, CIFAR-10 Batch 3:  Cost 0.017419 | Validation Accuracy 0.568000\n",
      "Epoch 47, CIFAR-10 Batch 4:  Cost 0.015730 | Validation Accuracy 0.578200\n",
      "Epoch 47, CIFAR-10 Batch 5:  Cost 0.034387 | Validation Accuracy 0.580800\n",
      "Epoch 48, CIFAR-10 Batch 1:  Cost 0.043324 | Validation Accuracy 0.556800\n",
      "Epoch 48, CIFAR-10 Batch 2:  Cost 0.049435 | Validation Accuracy 0.562600\n",
      "Epoch 48, CIFAR-10 Batch 3:  Cost 0.023187 | Validation Accuracy 0.560400\n",
      "Epoch 48, CIFAR-10 Batch 4:  Cost 0.011125 | Validation Accuracy 0.586200\n",
      "Epoch 48, CIFAR-10 Batch 5:  Cost 0.030069 | Validation Accuracy 0.583600\n",
      "Epoch 49, CIFAR-10 Batch 1:  Cost 0.041677 | Validation Accuracy 0.558800\n",
      "Epoch 49, CIFAR-10 Batch 2:  Cost 0.013215 | Validation Accuracy 0.586800\n",
      "Epoch 49, CIFAR-10 Batch 3:  Cost 0.011947 | Validation Accuracy 0.578000\n",
      "Epoch 49, CIFAR-10 Batch 4:  Cost 0.020186 | Validation Accuracy 0.581800\n",
      "Epoch 49, CIFAR-10 Batch 5:  Cost 0.016885 | Validation Accuracy 0.589800\n",
      "Epoch 50, CIFAR-10 Batch 1:  Cost 0.021022 | Validation Accuracy 0.581800\n",
      "Epoch 50, CIFAR-10 Batch 2:  Cost 0.033214 | Validation Accuracy 0.579800\n",
      "Epoch 50, CIFAR-10 Batch 3:  Cost 0.011671 | Validation Accuracy 0.584400\n",
      "Epoch 50, CIFAR-10 Batch 4:  Cost 0.040053 | Validation Accuracy 0.562400\n",
      "Epoch 50, CIFAR-10 Batch 5:  Cost 0.017082 | Validation Accuracy 0.592000\n"
     ]
    }
   ],
   "source": [
    "\"\"\"\n",
    "DON'T MODIFY ANYTHING IN THIS CELL\n",
    "\"\"\"\n",
    "save_model_path = './image_classification'\n",
    "\n",
    "print('Training...')\n",
    "with tf.Session() as sess:\n",
    "    # Initializing the variables\n",
    "    sess.run(tf.global_variables_initializer())\n",
    "    \n",
    "    # Training cycle\n",
    "    for epoch in range(epochs):\n",
    "        # Loop over all batches\n",
    "        n_batches = 5\n",
    "        for batch_i in range(1, n_batches + 1):\n",
    "            for batch_features, batch_labels in helper.load_preprocess_training_batch(batch_i, batch_size):\n",
    "                train_neural_network(sess, optimizer, keep_probability, batch_features, batch_labels)\n",
    "            print('Epoch {:>2}, CIFAR-10 Batch {}:  '.format(epoch + 1, batch_i), end='')\n",
    "            print_stats(sess, batch_features, batch_labels, cost, accuracy)\n",
    "            \n",
    "    # Save Model\n",
    "    saver = tf.train.Saver()\n",
    "    save_path = saver.save(sess, save_model_path)"
   ]
  },
  {
   "cell_type": "markdown",
   "metadata": {
    "deletable": true,
    "editable": true
   },
   "source": [
    "# Checkpoint\n",
    "The model has been saved to disk.\n",
    "## Test Model\n",
    "Test your model against the test dataset.  This will be your final accuracy. You should have an accuracy greater than 50%. If you don't, keep tweaking the model architecture and parameters."
   ]
  },
  {
   "cell_type": "code",
   "execution_count": 135,
   "metadata": {
    "collapsed": false,
    "deletable": true,
    "editable": true
   },
   "outputs": [
    {
     "name": "stdout",
     "output_type": "stream",
     "text": [
      "Testing Accuracy: 0.60029296875\n",
      "\n"
     ]
    },
    {
     "data": {
      "image/png": "[encoded data removed]",
      "text/plain": [
       "<matplotlib.figure.Figure at 0x7f9ea4938c88>"
      ]
     },
     "metadata": {
      "image/png": {
       "height": 319,
       "width": 351
      }
     },
     "output_type": "display_data"
    }
   ],
   "source": [
    "\"\"\"\n",
    "DON'T MODIFY ANYTHING IN THIS CELL\n",
    "\"\"\"\n",
    "%matplotlib inline\n",
    "%config InlineBackend.figure_format = 'retina'\n",
    "\n",
    "import tensorflow as tf\n",
    "import pickle\n",
    "import helper\n",
    "import random\n",
    "\n",
    "# Set batch size if not already set\n",
    "try:\n",
    "    if batch_size:\n",
    "        pass\n",
    "except NameError:\n",
    "    batch_size = 64\n",
    "\n",
    "save_model_path = './image_classification'\n",
    "n_samples = 4\n",
    "top_n_predictions = 3\n",
    "\n",
    "def test_model():\n",
    "    \"\"\"\n",
    "    Test the saved model against the test dataset\n",
    "    \"\"\"\n",
    "\n",
    "    test_features, test_labels = pickle.load(open('preprocess_training.p', mode='rb'))\n",
    "    loaded_graph = tf.Graph()\n",
    "\n",
    "    with tf.Session(graph=loaded_graph) as sess:\n",
    "        # Load model\n",
    "        loader = tf.train.import_meta_graph(save_model_path + '.meta')\n",
    "        loader.restore(sess, save_model_path)\n",
    "\n",
    "        # Get Tensors from loaded model\n",
    "        loaded_x = loaded_graph.get_tensor_by_name('x:0')\n",
    "        loaded_y = loaded_graph.get_tensor_by_name('y:0')\n",
    "        loaded_keep_prob = loaded_graph.get_tensor_by_name('keep_prob:0')\n",
    "        loaded_logits = loaded_graph.get_tensor_by_name('logits:0')\n",
    "        loaded_acc = loaded_graph.get_tensor_by_name('accuracy:0')\n",
    "        \n",
    "        # Get accuracy in batches for memory limitations\n",
    "        test_batch_acc_total = 0\n",
    "        test_batch_count = 0\n",
    "        \n",
    "        for train_feature_batch, train_label_batch in helper.batch_features_labels(test_features, test_labels, batch_size):\n",
    "            test_batch_acc_total += sess.run(\n",
    "                loaded_acc,\n",
    "                feed_dict={loaded_x: train_feature_batch, loaded_y: train_label_batch, loaded_keep_prob: 1.0})\n",
    "            test_batch_count += 1\n",
    "\n",
    "        print('Testing Accuracy: {}\\n'.format(test_batch_acc_total/test_batch_count))\n",
    "\n",
    "        # Print Random Samples\n",
    "        random_test_features, random_test_labels = tuple(zip(*random.sample(list(zip(test_features, test_labels)), n_samples)))\n",
    "        random_test_predictions = sess.run(\n",
    "            tf.nn.top_k(tf.nn.softmax(loaded_logits), top_n_predictions),\n",
    "            feed_dict={loaded_x: random_test_features, loaded_y: random_test_labels, loaded_keep_prob: 1.0})\n",
    "        helper.display_image_predictions(random_test_features, random_test_labels, random_test_predictions)\n",
    "\n",
    "\n",
    "test_model()"
   ]
  },
  {
   "cell_type": "markdown",
   "metadata": {
    "deletable": true,
    "editable": true
   },
   "source": [
    "## Why 50-70% Accuracy?\n",
    "You might be wondering why you can't get an accuracy any higher. First things first, 50% isn't bad for a simple CNN.  Pure guessing would get you 10% accuracy. However, you might notice people are getting scores [well above 70%](http://rodrigob.github.io/are_we_there_yet/build/classification_datasets_results.html#43494641522d3130).  That's because we haven't taught you all there is to know about neural networks. We still need to cover a few more techniques.\n",
    "## Submitting This Project\n",
    "When submitting this project, make sure to run all the cells before saving the notebook.  Save the notebook file as \"dlnd_image_classification.ipynb\" and save it as a HTML file under \"File\" -> \"Download as\".  Include the \"helper.py\" and \"problem_unittests.py\" files in your submission."
   ]
  }
 ],
 "metadata": {
  "kernelspec": {
   "display_name": "Python 3",
   "language": "python",
   "name": "python3"
  },
  "language_info": {
   "codemirror_mode": {
    "name": "ipython",
    "version": 3
   },
   "file_extension": ".py",
   "mimetype": "text/x-python",
   "name": "python",
   "nbconvert_exporter": "python",
   "pygments_lexer": "ipython3",
   "version": "3.5.2"
  },
  "widgets": {
   "state": {},
   "version": "1.1.2"
  }
 },
 "nbformat": 4,
 "nbformat_minor": 0
}
